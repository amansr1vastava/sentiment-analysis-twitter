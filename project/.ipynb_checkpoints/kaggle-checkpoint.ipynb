{
 "cells": [
  {
   "cell_type": "code",
   "execution_count": 1,
   "metadata": {},
   "outputs": [
    {
     "name": "stderr",
     "output_type": "stream",
     "text": [
      "Using TensorFlow backend.\n"
     ]
    }
   ],
   "source": [
    "# Ignore  the warnings\n",
    "import warnings\n",
    "warnings.filterwarnings('always')\n",
    "warnings.filterwarnings('ignore')\n",
    "\n",
    "# data visualisation and manipulation\n",
    "import numpy as np\n",
    "import pandas as pd\n",
    "import matplotlib.pyplot as plt\n",
    "from matplotlib import style\n",
    "import seaborn as sns\n",
    "#configure\n",
    "# sets matplotlib to inline and displays graphs below the corressponding cell. \n",
    "style.use('fivethirtyeight')\n",
    "sns.set(style='whitegrid',color_codes=True)\n",
    "\n",
    "#nltk\n",
    "import nltk\n",
    "\n",
    "#preprocessing\n",
    "from nltk.corpus import stopwords  #stopwords\n",
    "from nltk import word_tokenize,sent_tokenize # tokenizing\n",
    "from nltk.stem import PorterStemmer,LancasterStemmer  # using the Porter Stemmer and Lancaster Stemmer and others\n",
    "from nltk.stem.snowball import SnowballStemmer\n",
    "from nltk.stem import WordNetLemmatizer  # lammatizer from WordNet\n",
    "\n",
    "# for part-of-speech tagging\n",
    "from nltk import pos_tag\n",
    "\n",
    "# for named entity recognition (NER)\n",
    "from nltk import ne_chunk\n",
    "\n",
    "# vectorizers for creating the document-term-matrix (DTM)\n",
    "from sklearn.feature_extraction.text import TfidfVectorizer,CountVectorizer\n",
    "\n",
    "# BeautifulSoup libraray\n",
    "from bs4 import BeautifulSoup \n",
    "\n",
    "import re # regex\n",
    "\n",
    "#model_selection\n",
    "from sklearn.model_selection import train_test_split,cross_validate\n",
    "from sklearn.model_selection import KFold\n",
    "from sklearn.model_selection import GridSearchCV\n",
    "\n",
    "#evaluation\n",
    "from sklearn.metrics import accuracy_score,roc_auc_score \n",
    "from sklearn.metrics import classification_report\n",
    "from mlxtend.plotting import plot_confusion_matrix\n",
    "\n",
    "#preprocessing scikit\n",
    "from sklearn.preprocessing import MinMaxScaler,StandardScaler,Imputer,LabelEncoder\n",
    "\n",
    "#classifiaction.\n",
    "from sklearn.linear_model import LogisticRegression\n",
    "from sklearn.svm import LinearSVC,SVC\n",
    "from sklearn.neighbors import KNeighborsClassifier\n",
    "from sklearn.ensemble import RandomForestClassifier,GradientBoostingClassifier,AdaBoostClassifier\n",
    "from sklearn.tree import DecisionTreeClassifier\n",
    "from sklearn.naive_bayes import GaussianNB,MultinomialNB\n",
    " \n",
    "#stop-words\n",
    "stop_words=set(nltk.corpus.stopwords.words('english'))\n",
    "\n",
    "#keras\n",
    "import keras\n",
    "from keras.preprocessing.text import one_hot,Tokenizer\n",
    "from keras.preprocessing.sequence import pad_sequences\n",
    "from keras.models import Sequential\n",
    "from keras.layers import Dense , Flatten ,Embedding,Input,CuDNNLSTM,LSTM\n",
    "from keras.models import Model\n",
    "from keras.preprocessing.text import text_to_word_sequence\n",
    "\n",
    "#gensim w2v\n",
    "#word2vec\n",
    "from gensim.models import Word2Vec\n",
    "import os"
   ]
  },
  {
   "cell_type": "code",
   "execution_count": 2,
   "metadata": {},
   "outputs": [
    {
     "name": "stdout",
     "output_type": "stream",
     "text": [
      "['train.tsv', 'test_samples.csv', 'train_preprocessed.csv']\n"
     ]
    }
   ],
   "source": [
    "print(os.listdir(\"input\"))"
   ]
  },
  {
   "cell_type": "code",
   "execution_count": 3,
   "metadata": {},
   "outputs": [],
   "source": [
    "# Loading Data\n",
    "rev_frame = pd.read_csv(\"input/train_preprocessed.csv\")\n",
    "t_id = pd.read_csv(\"input/test_samples.csv\")"
   ]
  },
  {
   "cell_type": "code",
   "execution_count": 4,
   "metadata": {},
   "outputs": [],
   "source": [
    "df=rev_frame.copy()"
   ]
  },
  {
   "cell_type": "code",
   "execution_count": 5,
   "metadata": {},
   "outputs": [
    {
     "data": {
      "text/html": [
       "<div>\n",
       "<style scoped>\n",
       "    .dataframe tbody tr th:only-of-type {\n",
       "        vertical-align: middle;\n",
       "    }\n",
       "\n",
       "    .dataframe tbody tr th {\n",
       "        vertical-align: top;\n",
       "    }\n",
       "\n",
       "    .dataframe thead th {\n",
       "        text-align: right;\n",
       "    }\n",
       "</style>\n",
       "<table border=\"1\" class=\"dataframe\">\n",
       "  <thead>\n",
       "    <tr style=\"text-align: right;\">\n",
       "      <th></th>\n",
       "      <th>Unnamed: 0</th>\n",
       "      <th>clean_tweet</th>\n",
       "      <th>sentiment</th>\n",
       "    </tr>\n",
       "  </thead>\n",
       "  <tbody>\n",
       "    <tr>\n",
       "      <td>0</td>\n",
       "      <td>0</td>\n",
       "      <td>gas by my house hit am going to chapel hill on...</td>\n",
       "      <td>positive</td>\n",
       "    </tr>\n",
       "    <tr>\n",
       "      <td>1</td>\n",
       "      <td>1</td>\n",
       "      <td>theo walcott is still shit watch rafa and john...</td>\n",
       "      <td>negative</td>\n",
       "    </tr>\n",
       "    <tr>\n",
       "      <td>2</td>\n",
       "      <td>2</td>\n",
       "      <td>its not that am gsp fan just hate nick diaz ca...</td>\n",
       "      <td>negative</td>\n",
       "    </tr>\n",
       "    <tr>\n",
       "      <td>3</td>\n",
       "      <td>3</td>\n",
       "      <td>iranian general says israel iron dome cannot d...</td>\n",
       "      <td>negative</td>\n",
       "    </tr>\n",
       "    <tr>\n",
       "      <td>4</td>\n",
       "      <td>4</td>\n",
       "      <td>tehran mon amour obama tried to establish ties...</td>\n",
       "      <td>neutral</td>\n",
       "    </tr>\n",
       "  </tbody>\n",
       "</table>\n",
       "</div>"
      ],
      "text/plain": [
       "   Unnamed: 0                                        clean_tweet sentiment\n",
       "0           0  gas by my house hit am going to chapel hill on...  positive\n",
       "1           1  theo walcott is still shit watch rafa and john...  negative\n",
       "2           2  its not that am gsp fan just hate nick diaz ca...  negative\n",
       "3           3  iranian general says israel iron dome cannot d...  negative\n",
       "4           4  tehran mon amour obama tried to establish ties...   neutral"
      ]
     },
     "execution_count": 5,
     "metadata": {},
     "output_type": "execute_result"
    }
   ],
   "source": [
    "df.head()"
   ]
  },
  {
   "cell_type": "code",
   "execution_count": 6,
   "metadata": {},
   "outputs": [],
   "source": [
    "df=df[['clean_tweet','sentiment']]"
   ]
  },
  {
   "cell_type": "code",
   "execution_count": 7,
   "metadata": {},
   "outputs": [],
   "source": [
    "df = df[:21629]"
   ]
  },
  {
   "cell_type": "code",
   "execution_count": 8,
   "metadata": {},
   "outputs": [
    {
     "name": "stdout",
     "output_type": "stream",
     "text": [
      "(21629, 2)\n"
     ]
    },
    {
     "data": {
      "text/html": [
       "<div>\n",
       "<style scoped>\n",
       "    .dataframe tbody tr th:only-of-type {\n",
       "        vertical-align: middle;\n",
       "    }\n",
       "\n",
       "    .dataframe tbody tr th {\n",
       "        vertical-align: top;\n",
       "    }\n",
       "\n",
       "    .dataframe thead th {\n",
       "        text-align: right;\n",
       "    }\n",
       "</style>\n",
       "<table border=\"1\" class=\"dataframe\">\n",
       "  <thead>\n",
       "    <tr style=\"text-align: right;\">\n",
       "      <th></th>\n",
       "      <th>clean_tweet</th>\n",
       "      <th>sentiment</th>\n",
       "    </tr>\n",
       "  </thead>\n",
       "  <tbody>\n",
       "    <tr>\n",
       "      <td>0</td>\n",
       "      <td>gas by my house hit am going to chapel hill on...</td>\n",
       "      <td>positive</td>\n",
       "    </tr>\n",
       "    <tr>\n",
       "      <td>1</td>\n",
       "      <td>theo walcott is still shit watch rafa and john...</td>\n",
       "      <td>negative</td>\n",
       "    </tr>\n",
       "    <tr>\n",
       "      <td>2</td>\n",
       "      <td>its not that am gsp fan just hate nick diaz ca...</td>\n",
       "      <td>negative</td>\n",
       "    </tr>\n",
       "    <tr>\n",
       "      <td>3</td>\n",
       "      <td>iranian general says israel iron dome cannot d...</td>\n",
       "      <td>negative</td>\n",
       "    </tr>\n",
       "    <tr>\n",
       "      <td>4</td>\n",
       "      <td>tehran mon amour obama tried to establish ties...</td>\n",
       "      <td>neutral</td>\n",
       "    </tr>\n",
       "  </tbody>\n",
       "</table>\n",
       "</div>"
      ],
      "text/plain": [
       "                                         clean_tweet sentiment\n",
       "0  gas by my house hit am going to chapel hill on...  positive\n",
       "1  theo walcott is still shit watch rafa and john...  negative\n",
       "2  its not that am gsp fan just hate nick diaz ca...  negative\n",
       "3  iranian general says israel iron dome cannot d...  negative\n",
       "4  tehran mon amour obama tried to establish ties...   neutral"
      ]
     },
     "execution_count": 8,
     "metadata": {},
     "output_type": "execute_result"
    }
   ],
   "source": [
    "print(df.shape)\n",
    "df.head()"
   ]
  },
  {
   "cell_type": "code",
   "execution_count": 9,
   "metadata": {},
   "outputs": [
    {
     "data": {
      "text/plain": [
       "clean_tweet    0\n",
       "sentiment      0\n",
       "dtype: int64"
      ]
     },
     "execution_count": 9,
     "metadata": {},
     "output_type": "execute_result"
    }
   ],
   "source": [
    "# check for null values\n",
    "df.isnull().sum()"
   ]
  },
  {
   "cell_type": "code",
   "execution_count": 10,
   "metadata": {},
   "outputs": [],
   "source": [
    "def mark_sentiment(sentiment):\n",
    "    if(sentiment=='positive'):\n",
    "        return 2\n",
    "    if(sentiment=='negative'):\n",
    "        return 0\n",
    "    else:\n",
    "        return 1"
   ]
  },
  {
   "cell_type": "code",
   "execution_count": 11,
   "metadata": {},
   "outputs": [],
   "source": [
    "df['sentiment']=df['sentiment'].apply(mark_sentiment)"
   ]
  },
  {
   "cell_type": "code",
   "execution_count": 12,
   "metadata": {},
   "outputs": [
    {
     "data": {
      "text/html": [
       "<div>\n",
       "<style scoped>\n",
       "    .dataframe tbody tr th:only-of-type {\n",
       "        vertical-align: middle;\n",
       "    }\n",
       "\n",
       "    .dataframe tbody tr th {\n",
       "        vertical-align: top;\n",
       "    }\n",
       "\n",
       "    .dataframe thead th {\n",
       "        text-align: right;\n",
       "    }\n",
       "</style>\n",
       "<table border=\"1\" class=\"dataframe\">\n",
       "  <thead>\n",
       "    <tr style=\"text-align: right;\">\n",
       "      <th></th>\n",
       "      <th>clean_tweet</th>\n",
       "      <th>sentiment</th>\n",
       "    </tr>\n",
       "  </thead>\n",
       "  <tbody>\n",
       "    <tr>\n",
       "      <td>0</td>\n",
       "      <td>gas by my house hit am going to chapel hill on...</td>\n",
       "      <td>2</td>\n",
       "    </tr>\n",
       "    <tr>\n",
       "      <td>1</td>\n",
       "      <td>theo walcott is still shit watch rafa and john...</td>\n",
       "      <td>0</td>\n",
       "    </tr>\n",
       "    <tr>\n",
       "      <td>2</td>\n",
       "      <td>its not that am gsp fan just hate nick diaz ca...</td>\n",
       "      <td>0</td>\n",
       "    </tr>\n",
       "    <tr>\n",
       "      <td>3</td>\n",
       "      <td>iranian general says israel iron dome cannot d...</td>\n",
       "      <td>0</td>\n",
       "    </tr>\n",
       "    <tr>\n",
       "      <td>4</td>\n",
       "      <td>tehran mon amour obama tried to establish ties...</td>\n",
       "      <td>1</td>\n",
       "    </tr>\n",
       "  </tbody>\n",
       "</table>\n",
       "</div>"
      ],
      "text/plain": [
       "                                         clean_tweet  sentiment\n",
       "0  gas by my house hit am going to chapel hill on...          2\n",
       "1  theo walcott is still shit watch rafa and john...          0\n",
       "2  its not that am gsp fan just hate nick diaz ca...          0\n",
       "3  iranian general says israel iron dome cannot d...          0\n",
       "4  tehran mon amour obama tried to establish ties...          1"
      ]
     },
     "execution_count": 12,
     "metadata": {},
     "output_type": "execute_result"
    }
   ],
   "source": [
    "df.head()"
   ]
  },
  {
   "cell_type": "code",
   "execution_count": 13,
   "metadata": {},
   "outputs": [
    {
     "data": {
      "text/plain": [
       "2    9155\n",
       "1    9074\n",
       "0    3400\n",
       "Name: sentiment, dtype: int64"
      ]
     },
     "execution_count": 13,
     "metadata": {},
     "output_type": "execute_result"
    }
   ],
   "source": [
    "df['sentiment'].value_counts()"
   ]
  },
  {
   "cell_type": "code",
   "execution_count": 14,
   "metadata": {},
   "outputs": [],
   "source": [
    "# function to lematize the words\n",
    "def clean_tweet(tweet):\n",
    "    word_tokens= tweet.lower().split()\n",
    "    le=WordNetLemmatizer()\n",
    "    stop_words= set(stopwords.words(\"english\"))     \n",
    "    word_tokens= [le.lemmatize(w) for w in word_tokens if not w in stop_words]\n",
    "    \n",
    "    cleaned_tweet=\" \".join(word_tokens)\n",
    "    return cleaned_tweet"
   ]
  },
  {
   "cell_type": "code",
   "execution_count": 15,
   "metadata": {},
   "outputs": [
    {
     "name": "stdout",
     "output_type": "stream",
     "text": [
      "(21629, 2)\n"
     ]
    },
    {
     "data": {
      "text/html": [
       "<div>\n",
       "<style scoped>\n",
       "    .dataframe tbody tr th:only-of-type {\n",
       "        vertical-align: middle;\n",
       "    }\n",
       "\n",
       "    .dataframe tbody tr th {\n",
       "        vertical-align: top;\n",
       "    }\n",
       "\n",
       "    .dataframe thead th {\n",
       "        text-align: right;\n",
       "    }\n",
       "</style>\n",
       "<table border=\"1\" class=\"dataframe\">\n",
       "  <thead>\n",
       "    <tr style=\"text-align: right;\">\n",
       "      <th></th>\n",
       "      <th>clean_tweet</th>\n",
       "      <th>sentiment</th>\n",
       "    </tr>\n",
       "  </thead>\n",
       "  <tbody>\n",
       "    <tr>\n",
       "      <td>0</td>\n",
       "      <td>gas by my house hit am going to chapel hill on...</td>\n",
       "      <td>2</td>\n",
       "    </tr>\n",
       "    <tr>\n",
       "      <td>1</td>\n",
       "      <td>theo walcott is still shit watch rafa and john...</td>\n",
       "      <td>0</td>\n",
       "    </tr>\n",
       "    <tr>\n",
       "      <td>2</td>\n",
       "      <td>its not that am gsp fan just hate nick diaz ca...</td>\n",
       "      <td>0</td>\n",
       "    </tr>\n",
       "    <tr>\n",
       "      <td>3</td>\n",
       "      <td>iranian general says israel iron dome cannot d...</td>\n",
       "      <td>0</td>\n",
       "    </tr>\n",
       "    <tr>\n",
       "      <td>4</td>\n",
       "      <td>tehran mon amour obama tried to establish ties...</td>\n",
       "      <td>1</td>\n",
       "    </tr>\n",
       "  </tbody>\n",
       "</table>\n",
       "</div>"
      ],
      "text/plain": [
       "                                         clean_tweet  sentiment\n",
       "0  gas by my house hit am going to chapel hill on...          2\n",
       "1  theo walcott is still shit watch rafa and john...          0\n",
       "2  its not that am gsp fan just hate nick diaz ca...          0\n",
       "3  iranian general says israel iron dome cannot d...          0\n",
       "4  tehran mon amour obama tried to establish ties...          1"
      ]
     },
     "execution_count": 15,
     "metadata": {},
     "output_type": "execute_result"
    }
   ],
   "source": [
    "print(df.shape)\n",
    "df.head()"
   ]
  },
  {
   "cell_type": "code",
   "execution_count": 16,
   "metadata": {},
   "outputs": [
    {
     "name": "stdout",
     "output_type": "stream",
     "text": [
      "(21629, 2)\n"
     ]
    },
    {
     "data": {
      "text/html": [
       "<div>\n",
       "<style scoped>\n",
       "    .dataframe tbody tr th:only-of-type {\n",
       "        vertical-align: middle;\n",
       "    }\n",
       "\n",
       "    .dataframe tbody tr th {\n",
       "        vertical-align: top;\n",
       "    }\n",
       "\n",
       "    .dataframe thead th {\n",
       "        text-align: right;\n",
       "    }\n",
       "</style>\n",
       "<table border=\"1\" class=\"dataframe\">\n",
       "  <thead>\n",
       "    <tr style=\"text-align: right;\">\n",
       "      <th></th>\n",
       "      <th>clean_tweet</th>\n",
       "      <th>sentiment</th>\n",
       "    </tr>\n",
       "  </thead>\n",
       "  <tbody>\n",
       "    <tr>\n",
       "      <td>0</td>\n",
       "      <td>is not it jyoust staying in and watching the l...</td>\n",
       "      <td>2</td>\n",
       "    </tr>\n",
       "    <tr>\n",
       "      <td>1</td>\n",
       "      <td>hillary made very lucid case for the iran agre...</td>\n",
       "      <td>2</td>\n",
       "    </tr>\n",
       "    <tr>\n",
       "      <td>2</td>\n",
       "      <td>see you sat at metlife would love to meet ya i...</td>\n",
       "      <td>2</td>\n",
       "    </tr>\n",
       "    <tr>\n",
       "      <td>3</td>\n",
       "      <td>loanwatch ben amos hull city into extra time i...</td>\n",
       "      <td>1</td>\n",
       "    </tr>\n",
       "    <tr>\n",
       "      <td>4</td>\n",
       "      <td>wish couldve went to see miss may tonight at h...</td>\n",
       "      <td>2</td>\n",
       "    </tr>\n",
       "  </tbody>\n",
       "</table>\n",
       "</div>"
      ],
      "text/plain": [
       "                                         clean_tweet  sentiment\n",
       "0  is not it jyoust staying in and watching the l...          2\n",
       "1  hillary made very lucid case for the iran agre...          2\n",
       "2  see you sat at metlife would love to meet ya i...          2\n",
       "3  loanwatch ben amos hull city into extra time i...          1\n",
       "4  wish couldve went to see miss may tonight at h...          2"
      ]
     },
     "execution_count": 16,
     "metadata": {},
     "output_type": "execute_result"
    }
   ],
   "source": [
    "# shuffling rows\n",
    "df = df.sample(frac=1).reset_index(drop=True)\n",
    "print(df.shape)  # perfectly fine.\n",
    "df.head()"
   ]
  },
  {
   "cell_type": "code",
   "execution_count": 17,
   "metadata": {},
   "outputs": [
    {
     "name": "stdout",
     "output_type": "stream",
     "text": [
      "21629\n",
      "21629\n"
     ]
    }
   ],
   "source": [
    "import nltk\n",
    "tokenizer = nltk.data.load('tokenizers/punkt/english.pickle')\n",
    "sentences=[]\n",
    "sum=0\n",
    "for tweet in df['clean_tweet']:\n",
    "    sents=tokenizer.tokenize(tweet.strip())\n",
    "    sum+=len(sents)\n",
    "    for sent in sents:\n",
    "        cleaned_sent = clean_tweet(sent)\n",
    "        sentences.append(cleaned_sent.split()) # can use word_tokenize also\n",
    "print(sum)\n",
    "print(len(sentences))  # total no of sentences"
   ]
  },
  {
   "cell_type": "code",
   "execution_count": 18,
   "metadata": {},
   "outputs": [
    {
     "name": "stdout",
     "output_type": "stream",
     "text": [
      "['jyoust', 'staying', 'watching', 'lovely', 'james', 'martin', 'satyourday', 'kitchen', 'great', 'pyoumpkin', 'soyoup', 'recipe', 'warm', 'youp'] \n",
      "\n",
      "['hillary', 'made', 'lucid', 'case', 'iran', 'agreement', 'think', 'may', 'changed', 'mind', 'detail', 'http', 'co', 'pqbwkefx'] \n",
      "\n",
      "['see', 'sat', 'metlife', 'would', 'love', 'meet', 'ya', 'would', 'dream', 'come', 'true', 'letmeseeyagirl'] \n",
      "\n",
      "['loanwatch', 'ben', 'amos', 'hull', 'city', 'extra', 'time', 'st', 'round', 'league', 'cup'] \n",
      "\n",
      "['wish', 'couldve', 'went', 'see', 'miss', 'may', 'tonight', 'house', 'blue'] \n",
      "\n"
     ]
    }
   ],
   "source": [
    "# trying to print few sentences\n",
    "for te in sentences[:5]:\n",
    "    print(te,\"\\n\")"
   ]
  },
  {
   "cell_type": "code",
   "execution_count": 19,
   "metadata": {},
   "outputs": [],
   "source": [
    "import gensim\n",
    "w2v_model=gensim.models.Word2Vec(sentences=sentences,size=300,window = 23,min_count=2)"
   ]
  },
  {
   "cell_type": "code",
   "execution_count": 20,
   "metadata": {},
   "outputs": [
    {
     "data": {
      "text/plain": [
       "(2163318, 2608770)"
      ]
     },
     "execution_count": 20,
     "metadata": {},
     "output_type": "execute_result"
    }
   ],
   "source": [
    "w2v_model.train(sentences,epochs=10,total_examples=len(sentences))"
   ]
  },
  {
   "cell_type": "code",
   "execution_count": 21,
   "metadata": {},
   "outputs": [
    {
     "name": "stdout",
     "output_type": "stream",
     "text": [
      "The total number of words are :  11479\n"
     ]
    }
   ],
   "source": [
    "# total numberof extracted words.\n",
    "vocab=w2v_model.wv.vocab\n",
    "print(\"The total number of words are : \",len(vocab))"
   ]
  },
  {
   "cell_type": "code",
   "execution_count": 22,
   "metadata": {},
   "outputs": [
    {
     "name": "stdout",
     "output_type": "stream",
     "text": [
      "The no of words : 11479\n"
     ]
    }
   ],
   "source": [
    "print(\"The no of words :\",len(vocab))\n",
    "# print(vocab)"
   ]
  },
  {
   "cell_type": "code",
   "execution_count": 23,
   "metadata": {},
   "outputs": [
    {
     "name": "stdout",
     "output_type": "stream",
     "text": [
      "['jyoust', 'staying', 'watching', 'lovely', 'james', 'martin', 'satyourday', 'kitchen', 'great', 'recipe', 'warm', 'youp', 'hillary', 'made', 'lucid', 'case', 'iran', 'agreement', 'think', 'may', 'changed', 'mind', 'detail', 'http', 'co', 'see', 'sat', 'metlife', 'would', 'love', 'meet', 'ya', 'dream', 'come', 'true', 'loanwatch', 'ben', 'amos', 'hull', 'city', 'extra', 'time', 'st', 'round', 'league', 'cup', 'wish', 'went', 'miss', 'tonight', 'house', 'blue', 'happy', 'th', 'yr', 'preaching', 'anniversary', 'mighty', 'man', 'valor', 'excited', 'next', 'dimension', 'get', 'sweat', 'suit', 'november', 'lax', 'practice', 'game', 'tomorrow', 'bad', 'missed', 'waterloo', 'road', 'last', 'thyoursday', 'tenerife', 'dont', 'realise', 'episode', 'sad', 'watch', 'ferrell', 'zach', 'duke', 'campaign', 'thursday', 'midnight', 'pair', 'ticket', 'ventura', 'anyone', 'want', 'tix', 'erdogan', 'new', 'election', 'nov', 'turkish', 'president', 'appears', 'betting', 'vote', 'could', 'mj', 'best', 'moment', 'air', 'tue', 'gr', 'look', 'smoke', 'k', 'yeah', 'mon', 'gary', 'serena', 'al', 'favor', 'getting', 'jeremy', 'evans', 'know', 'legit', 'christian', 'taking', 'islamic', 'state', 'iraq', 'bbc', 'across', 'sun', 'landscape', 'open', 'lobby', 'day', 'force', 'friday', 'labor', 'nothing', 'jesus', 'daniel', 'good', 'comedy', 'show', 'indiana', 'gov', 'mitch', 'sport', 'appeared', 'agree', 'david', 'cameron', 'migrant', 'help', 'moral', 'fight', 'cause', 'problem', 'dry', 'bought', 'duck', 'sunday', 'nebraska', 'land', 'top', 'guy', 'jennifer', 'lawrence', 'wary', 'scene', 'ex', 'nicholas', 'hoult', 'london', 'oct', 'yb', 'minecraft', 'saved', 'depression', 'thank', 'still', 'college', 'debt', 'need', 'support', 'family', 'ask', 'donation', 'ty', 'netflix', 'coming', 'singapore', 'finally', 'live', 'country', 'part', 'digital', 'revolution', 'taylor', 'swift', 'waved', 'boy', 'yesterday', 'wave', 'back', 'album', 'accurate', 'lmfao', 'world', 'champ', 'super', 'bpl', 'la', 'liga', 'federer', 'v', 'cincy', 'final', 'sporting', 'age', 'coast', 'guard', 'two', 'people', 'fishing', 'vessel', 'tonga', 'wednesday', 'looking', 'forward', 'real', 'bill', 'maher', 'suite', 'level', 'guess', 'one', 'win', 'thing', 'sometimes', 'hockey', 'white', 'girl', 'annoying', 'accessory', 'wearing', 'dress', 'nike', 'hat', 'coach', 'bag', 'kenny', 'chesney', 'eric', 'church', 'ford', 'field', 'august', 'going', 'mizzou', 'saturday', 'like', 'old', 'school', 'madonna', 'op', 'lv', 'tko', 'dropped', 'iphone', 'beer', 'cooler', 'beach', 'gotta', 'assisting', 'marching', 'band', 'bleacher', 'hope', 'another', 'dragon', 'ball', 'given', 'throne', 'life', 'edinburgh', 'harry', 'potter', 'cafe', 'shopping', 'museum', 'visit', 'uni', 'extend', 'first', 'bit', 'lenny', 'kravitz', 'cousin', 'removed', 'roker', 'today', 'ooh', 'started', 'playing', 'bf', 'ac', 'never', 'played', 'iii', 'soon', 'xx', 'movie', 'review', 'october', 'shining', 'example', 'nollywood', 'rising', 'kunle', 'afolayan', 'important', 'rf', 'sara', 'latest', 'fleetwood', 'mac', 'playlist', 'kind', 'reaction', 'article', 'performing', 'harold', 'washington', 'cultural', 'center', 'team', 'rt', 'shouting', 'might', 'mexico', 'morning', 'grandpa', 'office', 'le', 'grateful', 'dead', 'fu', 'current', 'nominated', 'position', 'mama', 'male', 'group', 'place', 'global', 'artist', 'year', 'night', 'light', 'book', 'launched', 'amazing', 'television', 'statement', 'camera', 'september', 'take', 'refugee', 'speaking', 'tv', 'catch', 'playoff', 'knicks', 'heat', 'sound', 'reserve', 'table', 'excellent', 'drop', 'everything', 'william', 'im', 'meeting', 'monday', 'remember', 'camilla', 'parker', 'bowles', 'laugh', 'loud', 'gettin', 'taxi', 'much', 'xxxx', 'let', 'u', 'go', 'barca', 'goal', 'half', 'end', 'bjp', 'tn', 'star', 'power', 'swachh', 'bharat', 'tweet', 'mission', 'juventus', 'lost', 'match', 'serie', 'season', 'perspective', 'picked', 'second', 'loss', 'april', 'zoom', 'fraud', 'fact', 'madoff', 'fucking', 'genius', 'alone', 'though', 'europe', 'club', 'welbeck', 'competition', 'preview', 'western', 'southern', 'djokovic', 'amiibo', 'rumored', 'include', 'luis', 'marine', 'nintendo', 'direct', 'scheduled', 'music', 'festival', 'rock', 'maria', 'muldaur', 'headline', 'long', 'event', 'bring', 'french', 'gypsy', 'delhi', 'police', 'found', 'missing', 'india', 'gate', 'sept', 'sleep', 'bulldog', 'bash', 'service', 'tonite', 'find', 'dwts', 'storm', 'pope', 'john', 'paul', 'ii', 'proclaimed', 'catholic', 'earth', 'revolves', 'late', 'spoke', 'mom', 'phone', 'minute', 'finished', 'exciting', 'fly', 'detroit', 'amsterdam', 'newcastle', 'tech', 'apple', 'ceo', 'apologizes', 'error', 'ridden', 'map', 'app', 'tim', 'cook', 'apologized', 'company', 'fall', 'lent', 'fast', 'facebook', 'closer', 'god', 'away', 'havoc', 'december', 'cool', 'ready', 'beckham', 'cameo', 'flick', 'yankee', 'fan', 'gone', 'drink', 'special', 'upset', 'florida', 'former', 'wr', 'brian', 'brownsville', 'depressing', 'cannot', 'wait', 'home', 'obama', 'buffalo', 'sabre', 'mitt', 'dallas', 'seem', 'right', 'conor', 'mcgregor', 'urijah', 'faber', 'america', 'tuf', 'feature', 'lb', 'fighter', 'debut', 'wed', 'somebody', 'mustache', 'fake', 'birth', 'certificate', 'messi', 'signed', 'please', 'interesting', 'challenge', 'original', 'oitnb', 'march', 'fourth', 'checking', 'awesome', 'heck', 'expected', 'class', 'even', 'beyonce', 'killed', 'hey', 'surprise', 'lauren', 'tell', 'someone', 'say', 'yet', 'whether', 'mount', 'run', 'joe', 'biden', 'vice', 'said', 'basically', 'whole', 'point', 'mardi', 'gras', 'sin', 'ash', 'ricky', 'ponting', 'passed', 'australian', 'liam', 'five', 'string', 'bass', 'well', 'fuck', 'as', 'oh', 'believe', 'make', 'terrible', 'nd', 'traded', 'computer', 'ipad', 'uncle', 'announced', 'price', 'mx', 'aladdin', 'enjoy', 'hold', 'direction', 'dc', 'yall', 'thru', 'saying', 'perseverance', 'instance', 'mean', 'equivalent', 'jan', 'diff', 'congrats', 'really', 'rick', 'perry', 'rubio', 'strong', 'choice', 'read', 'immigration', 'policy', 'woot', 'colt', 'living', 'cover', 'coma', 'recovery', 'mode', 'cowboy', 'indian', 'distance', 'garbage', 'keep', 'focus', 'harper', 'added', 'heart', 'canadian', 'yes', 'coz', 'henry', 'pires', 'others', 'left', 'also', 'cesc', 'rvp', 'byout', 'leaving', 'todd', 'bertuzzi', 'saw', 'rhonda', 'rousey', 'ufc', 'seattle', 'rematch', 'near', 'singing', 'wwa', 'thought', 'ucla', 'study', 'biggest', 'obamacare', 'fear', 'pas', 'california', 'congratulation', 'jessie', 'winning', 'july', 'gift', 'card', 'amazon', 'job', 'gn', 'beat', 'murray', 'stay', 'cincytennis', 'early', 'release', 'bc', 'street', 'high', 'nice', 'name', 'entertainment', 'click', 'heard', 'bianchi', 'bellusci', 'irandeal', 'send', 'message', 'joining', 'capitol', 'radio', 'free', 'ted', 'car', 'ipod', 'play', 'moody', 'tuesday', 'afternoon', 'hour', 'forget', 'barbican', 'centre', 'annual', 'summer', 'reading', 'pm', 'newest', 'version', 'chance', 'got', 'msg', 'matthew', 'carl', 'unveil', 'iphones', 'larger', 'stream', 'ordered', 'crossed', 'shirt', 'niall', 'wore', 'tour', 'stopped', 'rom', 'defeat', 'give', 'straight', 'rosedale', 'min', 'hr', 'rocky', 'crew', 'must', 'weary', 'fighting', 'fire', 'since', 'big', 'rush', 'considered', 'talent', 'care', 'dirt', 'poor', 'kid', 'rd', 'manage', 'money', 'valley', 'woman', 'black', 'legendary', 'ghost', 'thriller', 'touring', 'dubai', 'abu', 'dhabi', 'uz', 'phil', 'knight', 'training', 'facility', 'university', 'oregon', 'queen', 'dancing', 'insider', 'confirmed', 'aiming', 'higher', 'caliber', 'dance', 'instructor', 'clubfitness', 'toured', 'themed', 'crazy', 'link', 'stupid', 'til', 'tok', 'speaker', 'chill', 'week', 'pose', 'adidas', 'kit', 'pleasing', 'image', 'uploaded', 'personal', 'instagram', 'ul', 'wisconsin', 'democrat', 'wiunion', 'critical', 'gop', 'wont', 'sap', 'certified', 'storage', 'solution', 'ibm', 'sapphire', 'booth', 'news', 'dmv', 'face', 'traffic', 'shot', 'shooting', 'hot', 'nats', 'lose', 'call', 'hi', 'tom', 'strut', 'pump', 'chip', 'sure', 'bacon', 'threw', 'skatenight', 'stardust', 'skate', 'hosted', 'saab', 'always', 'fun', 'rolling', 'haha', 'rest', 'jersey', 'shore', 'online', 'poll', 'royal', 'series', 'wb', 'successful', 'bunt', 'put', 'ibb', 'dumb', 'nowwatching', 'kandi', 'factory', 'liking', 'far', 'justin', 'yv', 'ij', 'ay', 'michelle', 'bentley', 'active', 'defensive', 'drive', 'chelsea', 'pogba', 'talk', 'transfer', 'window', 'set', 'close', 'cfc', 'way', 'shall', 'maryland', 'baltimore', 'downloading', 'rapper', 'nipsey', 'hussle', 'kerry', 'woke', 'shes', 'asleep', 'lot', 'candy', 'bike', 'community', 'exercise', 'pancake', 'ihop', 'knowing', 'red', 'sox', 'rubber', 'reply', 'score', 'twitter', 'anything', 'travel', 'related', 'opportunity', 'orange', 'bowl', 'staff', 'brings', 'attitude', 'loose', 'lloyd', 'robertson', 'sign', 'national', 'anchor', 'horrible', 'rugby', 'gonna', 'battling', 'bday', 'soul', 'punk', 'running', 'circle', 'rainfall', 'bdr', 'bringing', 'monthly', 'total', 'inch', 'normal', 'seen', 'ever', 'recording', 'nandito', 'ako', 'check', 'equalizer', 'hoping', 'film', 'brad', 'pitt', 'jimmy', 'fallon', 'huum', 'hungry', 'delicious', 'food', 'nialler', 'eat', 'journey', 'isi', 'dangerous', 'sake', 'soccer', 'hanover', 'garner', 'start', 'jeb', 'bush', 'victim', 'willie', 'horton', 'ad', 'cycle', 'trump', 'ironically', 'dad', 'nyt', 'interview', 'egyptian', 'mohamed', 'morsi', 'murder', 'tvd', 'scandal', 'jerry', 'garcia', 'cnn', 'report', 'evening', 'hitting', 'fair', 'lake', 'franklin', 'farm', 'fairfax', 'corner', 'bel', 'ami', 'kyle', 'haared', 'tomoareareow', 'blackout', 'pic', 'biebers', 'vevo', 'record', 'earn', 'title', 'belief', 'surely', 'acquire', 'capacity', 'beginning', 'gandhi', 'democratic', 'leader', 'video', 'coni', 'truth', 'feb', 'definitely', 'possible', 'better', 'hide', 'fox', 'theatre', 'seeing', 'screen', 'discovered', 'truck', 'stoop', 'uk', 'allowing', 'football', 'program', 'host', 'auburn', 'kinda', 'weird', 'june', 'troy', 'post', 'purchase', 'bobby', 'jindal', 'patriotic', 'bubble', 'pipe', 'use', 'nah', 'havnt', 'knew', 'aboyout', 'deal', 'trying', 'rivera', 'rb', 'jonathan', 'stewart', 'looked', 'confident', 'green', 'bay', 'recognized', 'fav', 'btw', 'marry', 'hoya', 'buy', 'dog', 'mark', 'completed', 'shield', 'ton', 'adelaide', 'oval', 'sa', 'ta', 'ha', 'beauty', 'eye', 'vettel', 'consecutive', 'championship', 'already', 'cmas', 'blake', 'drunk', 'carson', 'target', 'mood', 'independence', 'idc', 'supporting', 'boyfriend', 'beast', 'arsenal', 'fixture', 'trip', 'emirate', 'north', 'derby', 'decision', 'attack', 'pkk', 'towards', 'fb', 'via', 'vic', 'bias', 'action', 'work', 'strategy', 'inside', 'failure', 'google', 'kp', 'timing', 'hiking', 'lpg', 'himachal', 'guaranteed', 'loser', 'fed', 'idgaf', 'riding', 'baylor', 'halloween', 'valentine', 'earlier', 'discussed', 'issue', 'echo', 'efc', 'prime', 'sale', 'butt', 'filming', 'finish', 'act', 'jamie', 'oliver', 'mate', 'making', 'horn', 'done', 'reminds', 'selena', 'full', 'story', 'anderson', 'entered', 'georgia', 'dome', 'concerned', 'australia', 'international', 'kick', 'ultimate', 'weekend', 'wherever', 'josh', 'bradley', 'archuleta', 'ana', 'r', 'manila', 'generation', 'gb', 'gen', 'grossly', 'silent', 'majority', 'donald', 'northwestern', 'men', 'difference', 'iu', 'dominating', 'came', 'clemson', 'deep', 'taken', 'devil', 'den', 'yellow', 'bluff', 'mike', 'snoop', 'dogg', 'smooth', 'dropping', 'sanchez', 'abc', 'tgit', 'simply', 'casting', 'performance', 'tying', 'together', 'quite', 'goodness', 'handle', 'fm', 'county', 'peterborough', 'united', 'apr', 'footymad', 'attempt', 'assist', 'form', 'guide', 'j', 'rainforest', 'lung', 'tree', 'decade', 'ox', 'bazaar', 'icon', 'list', 'celebrity', 'andrew', 'breitbart', 'offered', 'reward', 'archive', 'source', 'fully', 'protected', 'kelly', 'told', 'carolina', 'stronger', 'qb', 'sneak', 'aussie', 'directioners', 'whisper', 'return', 'xfactor', 'stop', 'ohio', 'iowa', 'bid', 'began', 'worry', 'richie', 'hawtin', 'york', 'ny', 'cbs', 'andy', 'rooney', 'weekly', 'appearance', 'edition', 'ago', 'west', 'ham', 'ablett', 'midway', 'safe', 'eddie', 'grey', 'gold', 'wedding', 'puzzle', 'piece', 'unique', 'tone', 'zz', 'eww', 'lady', 'gaga', 'femme', 'fatale', 'surprised', 'using', 'britney', 'prop', 'rafa', 'camp', 'notebook', 'raider', 'took', 'prepare', 'dlvr', 'cypress', 'beyond', 'shepard', 'fairey', 'tiffany', 'mc', 'along', 'cnblue', 'yonghwa', 'gikwang', 'sb', 'kpop', 'concert', 'blow', 'remix', 'head', 'ruto', 'declare', 'holiday', 'charge', 'usual', 'sense', 'urgency', 'syrian', 'crisis', 'zd', 'kurt', 'cobain', 'hero', 'wanted', 'unfortunately', 'republic', 'century', 'bob', 'marley', 'wailer', 'listener', 'request', 'download', 'hannibal', 'web', 'dl', 'served', 'frickin', 'floor', 'theresa', 'turn', 'shame', 'od', 'fit', 'born', 'stand', 'dr', 'seuss', 'watney', 'cimb', 'classic', 'nick', 'fired', 'rally', 'okay', 'hard', 'tyler', 'iim', 'hooked', 'ahhhhhhhhhh', 'max', 'bulk', 'powder', 'software', 'without', 'player', 'leg', 'champion', 'ahly', 'africa', 'everyone', 'hopefully', 'raven', 'steelers', 'oneil', 'sold', 'january', 'crime', 'died', 'recover', 'plus', 'nj', 'realize', 'summerslam', 'infection', 'control', 'hiv', 'healthcare', 'setting', 'official', 'offer', 'letter', 'sooooooo', 'many', 'fill', 'accept', 'maybe', 'else', 'pick', 'sam', 'gagner', 'rounder', 'indonesia', 'pat', 'semi', 'warrior', 'lead', 'slinger', 'candidate', 'race', 'vp', 'follow', 'nig', 'kendall', 'gigi', 'definition', 'sporty', 'chic', 'venus', 'williams', 'katy', 'domestic', 'bliss', 'wife', 'teaching', 'son', 'theme', 'song', 'piano', 'fell', 'magic', 'xxl', 'rewatch', 'human', 'entrepreneur', 'reid', 'hoffman', 'startup', 'illinois', 'closed', 'casimir', 'pulaski', 'clue', 'somewhere', 'mid', 'atlantic', 'george', 'clooney', 'sky', 'perfect', 'least', 'willis', 'khan', 'injured', 'test', 'eng', 'steve', 'thigh', 'injury', 'hmmm', 'taco', 'playground', 'deadline', 'greet', 'dom', 'kennedy', 'entertaining', 'chief', 'pivopivo', 'brook', 'lopez', 'short', 'quarter', 'babe', 'watched', 'feel', 'feeling', 'nigga', 'grade', 'shit', 'trayvon', 'recorded', 'incredibly', 'sorry', 'bless', 'rip', 'tm', 'kung', 'panda', 'indonesian', 'subtitle', 'tentatively', 'tues', 'isk', 'jedward', 'newmarket', 'segal', 'racing', 'every', 'vow', 'tune', 'hear', 'cc', 'jason', 'derulo', 'wiggle', 'cvhfomo', 'army', 'sonic', 'ost', 'worst', 'ward', 'cell', 'grader', 'starting', 'nokia', 'brick', 'jack', 'spx', 'despite', 'actually', 'honey', 'badger', 'pier', 'morgan', 'tie', 'nfl', 'cr', 'plant', 'likely', 'partner', 'ly', 'ak', 'politics', 'dark', 'side', 'secret', 'ballot', 'sarah', 'palin', 'bl', 'olive', 'garden', 'birthday', 'dinner', 'friend', 'poster', 'crave', 'arrived', 'leicester', 'square', 'month', 'cisco', 'hawaii', 'pro', 'nooooooooo', 'reason', 'willingly', 'carroll', 'header', 'technique', 'passing', 'yard', 'wu', 'bandeau', 'line', 'nyfw', 'limited', 'availability', 'register', 'become', 'ok', 'dublin', 'mayo', 'ireland', 'irving', 'plaza', 'nyc', 'wn', 'hometown', 'bernie', 'sander', 'kidding', 'rowling', 'actor', 'radcliffe', 'share', 'yah', 'mnf', 'scoreboard', 'confused', 'crimson', 'tide', 'roll', 'crack', 'mph', 'toyota', 'nascar', 'houston', 'san', 'fran', 'beating', 'tennessee', 'little', 'joke', 'elvis', 'business', 'fix', 'sell', 'ah', 'restaurant', 'background', 'sang', 'outrageous', 'tiebreak', 'clean', 'serve', 'smack', 'eli', 'manning', 'falling', 'hahahaha', 'bored', 'rave', 'utd', 'autograph', 'miesha', 'tate', 'volleyball', 'clinched', 'regional', 'spot', 'defeating', 'hillsborough', 'district', 'tournament', 'huntsville', 'discount', 'valid', 'person', 'jus', 'hit', 'elected', 'oath', 'heading', 'trouble', 'te', 'vernon', 'davis', 'bye', 'fred', 'ir', 'able', 'highlight', 'till', 'million', 'viewer', 'past', 'rodeo', 'spain', 'argentine', 'ambassador', 'oil', 'dispute', 'warned', 'argentina', 'risk', 'becoming', 'jam', 'jb', 'bank', 'arena', 'eltonjohn', 'tribute', 'elton', 'almost', 'jet', 'fuk', 'greenville', 'moving', 'pride', 'parade', 'teacher', 'married', 'bama', 'gear', 'rtr', 'ahs', 'literally', 'jump', 'edge', 'ignore', 'lol', 'chp', 'clip', 'blood', 'moon', 'worth', 'petition', 'mp', 'hon', 'willing', 'pw', 'enter', 'child', 'jp', 'word', 'ev', 'answer', 'try', 'wp', 'apps', 'intent', 'android', 'wanna', 'switch', 'rudd', 'vacation', 'galaxy', 'note', 'blackberry', 'envy', 'ih', 'pre', 'planning', 'wppi', 'ca', 'headache', 'packing', 'scotland', 'parent', 'officially', 'daughter', 'anymore', 'loved', 'chick', 'fil', 'painted', 'meal', 'asked', 'ray', 'allen', 'american', 'acting', 'alongside', 'britain', 'kicking', 'popcorn', 'glass', 'tottenham', 'bos', 'andre', 'villa', 'boa', 'plan', 'emmanuel', 'adebayor', 'rider', 'suck', 'compared', 'chicago', 'offset', 'nx', 'bull', 'smu', 'packed', 'south', 'revis', 'bat', 'holmes', 'pbu', 'cromartie', 'nyj', 'killing', 'instead', 'dave', 'grohl', 'drum', 'bp', 'apply', 'fafsa', 'paper', 'due', 'ice', 'cream', 'spend', 'cabin', 'grind', 'write', 'thurs', 'promotion', 'wonderful', 'chinatown', 'irene', 'drove', 'stick', 'lied', 'salesman', 'ab', 'honda', 'standard', 'speed', 'manual', 'testdrive', 'indie', 'expense', 'odi', 'dharamsala', 'timesnow', 'finding', 'various', 'bldgs', 'fresh', 'prince', 'costume', 'picture', 'km', 'clogging', 'dong', 'relax', 'move', 'binge', 'sprint', 'clearwire', 'benefit', 'bloomberg', 'future', 'heavy', 'rain', 'ne', 'shower', 'cny', 'forecast', 'nbc', 'weak', 'penalty', 'td', 'eastern', 'cat', 'melissa', 'mccarthy', 'mm', 'finishing', 'rehearsal', 'award', 'turning', 'whilst', 'obvious', 'concern', 'lfc', 'middle', 'major', 'peace', 'lee', 'soo', 'presidential', 'buckeye', 'bcs', 'behind', 'lsu', 'hang', 'folk', 'common', 'area', 'grady', 'announcement', 'politico', 'brady', 'mavs', 'dirk', 'pathetic', 'belated', 'francis', 'na', 'replaces', 'asia', 'kris', 'jenner', 'giuliana', 'hk', 'goodnight', 'leave', 'style', 'fc', 'exclusive', 'outing', 'astros', 'starter', 'thanks', 'feed', 'easier', 'safc', 're', 'fantastic', 'mackem', 'couldnt', 'backyard', 'fa', 'sf', 'carling', 'pen', 'certainly', 'longer', 'lineup', 'rural', 'snow', 'february', 'starving', 'option', 'court', 'introduce', 'large', 'enough', 'transport', 'nowplaying', 'continuing', 'subtle', 'dig', 'front', 'runner', 'cuz', 'groundhog', 'java', 'jazz', 'shout', 'arian', 'foster', 'hilton', 'nbd', 'kill', 'ric', 'flair', 'cmon', 'obligation', 'honestly', 'burned', 'education', 'cant', 'stress', 'listening', 'gopdebate', 'kermit', 'frog', 'bell', 'thinking', 'finale', 'belong', 'planned', 'parenthood', 'realizing', 'bellamy', 'atlanta', 'digi', 'knott', 'scary', 'potential', 'milan', 'cannavaro', 'edgar', 'similar', 'sweet', 'victoria', 'remembers', 'huge', 'ryan', 'rodgers', 'luck', 'prayer', 'grocery', 'arrival', 'pokemon', 'purchased', 'announces', 'expect', 'fi', 'draft', 'tampa', 'wsh', 'pretty', 'cruz', 'everybody', 'hell', 'marathon', 'nut', 'tho', 'enjoyed', 'funding', 'chris', 'christie', 'jude', 'nomination', 'bowie', 'poker', 'holla', 'ut', 'cs', 'couple', 'war', 'viking', 'mexican', 'wku', 'mtsu', 'fg', 'rather', 'anyway', 'step', 'mother', 'pub', 'putting', 'wellington', 'nz', 'coverage', 'ross', 'ahhhh', 'reader', 'michael', 'jackson', 'neighbor', 'removing', 'bothered', 'lay', 'lorax', 'bar', 'hating', 'working', 'edward', 'train', 'station', 'clinton', 'email', 'jail', 'aug', 'turned', 'int', 'xk', 'packer', 'select', 'fat', 'wichita', 'announce', 'nicest', 'mr', 'gave', 'hw', 'waking', 'grino', 'grinet', 'myles', 'grin', 'togrinether', 'cheek', 'faint', 'item', 'later', 'basket', 'increase', 'lord', 'jay', 'relationship', 'social', 'medium', 'tbh', 'joint', 'session', 'congress', 'public', 'mass', 'philly', 'trending', 'tebow', 'dating', 'cave', 'date', 'question', 'defund', 'pp', 'governor', 'highest', 'teen', 'pregnancy', 'rate', 'nation', 'getter', 'agenda', 'hustle', 'dealbook', 'sought', 'spectrum', 'disclosed', 'sta', 'tissue', 'noah', 'ali', 'tear', 'baby', 'memory', 'hm', 'asks', 'ensure', 'modi', 'paid', 'cash', 'cfb', 'tilt', 'si', 'niner', 'giant', 'throwback', 'jurassic', 'park', 'guest', 'ge', 'local', 'triangle', 'raleigh', 'provide', 'removal', 'declaring', 'officer', 'section', 'fec', 'maku', 'minister', 'federal', 'executive', 'council', 'kh', 'rare', 'kg', 'poland', 'core', 'pittsburgh', 'hurricane', 'sandy', 'beautiful', 'possibly', 'ascend', 'amphitheater', 'fri', 'redknapp', 'following', 'speculation', 'gasp', 'hisd', 'bond', 'measure', 'emerge', 'anti', 'wks', 'flop', 'inspired', 'popular', 'grunge', 'gigaom', 'search', 'solved', 'mobile', 'struggling', 'jq', 'cb', 'ticketek', 'esp', 'mick', 'jagger', 'arcade', 'foo', 'castle', 'diamond', 'ride', 'stuff', 'photo', 'rihanna', 'crowned', 'pop', 'superstar', 'visited', 'manor', 'serious', 'talking', 'lyric', 'dre', 'laptop', 'needed', 'arrive', 'fish', 'tank', 'named', 'jeff', 'carter', 'sadly', 'dying', 'careful', 'page', 'unless', 'famous', 'roxy', 'sheen', 'roasted', 'charlie', 'chin', 'central', 'roast', 'ea', 'orleans', 'saint', 'update', 'vitt', 'drew', 'brees', 'press', 'conference', 'brand', 'dinosaur', 'released', 'mta', 'yt', 'hf', 'calculator', 'borrow', 'starbucks', 'around', 'topic', 'phoenix', 'fo', 'aq', 'trndnl', 'espn', 'dortmund', 'wow', 'postponed', 'diablo', 'used', 'battery', 'fine', 'dumber', 'playful', 'river', 'dolphin', 'usain', 'bolt', 'shoe', 'suk', 'routine', 'complain', 'greatest', 'grammy', 'singer', 'treat', 'order', 'tob', 'cost', 'streak', 'unc', 'podcast', 'ht', 'ffc', 'turbine', 'potsdam', 'clash', 'borehamwood', 'included', 'hail', 'redskin', 'package', 'often', 'pd', 'england', 'door', 'gig', 'dm', 'kamran', 'shahid', 'siu', 'drake', 'sole', 'possession', 'mvc', 'underway', 'romeo', 'bun', 'debuted', 'trendy', 'ill', 'brother', 'mardis', 'audio', 'lexus', 'ownership', 'g', 'nat', 'automotive', 'raw', 'history', 'trash', 'patriotism', 'respect', 'contraband', 'eager', 'batman', 'arkham', 'asylum', 'xbox', 'everton', 'liverpool', 'unlucky', 'wale', 'fitness', 'stoke', 'scrum', 'ahead', 'anthem', 'choke', 'flag', 'proud', 'pl', 'anybody', 'steak', 'shake', 'throw', 'usa', 'hollywood', 'covered', 'noticed', 'gorgeous', 'monument', 'failing', 'succeeding', 'julie', 'yj', 'mayer', 'understand', 'save', 'hannibalmicdrop', 'madeinamerica', 'afraid', 'glad', 'frustrating', 'daily', 'contain', 'amendment', 'chose', 'scotus', 'ruled', 'delighted', 'tina', 'fey', 'amy', 'poehler', 'hosting', 'golden', 'globe', 'supposed', 'noel', 'fielding', 'extremely', 'jealous', 'nicola', 'sturgeon', 'ct', 'fashion', 'present', 'riviera', 'expo', 'quinnipiac', 'jacqui', 'coffee', 'pup', 'enjoying', 'main', 'lawn', 'penn', 'yahoo', 'showing', 'lion', 'cincinnati', 'yo', 'raise', 'hand', 'silly', 'nicki', 'minaj', 'kim', 'kardashian', 'role', 'model', 'curve', 'rise', 'planet', 'ape', 'girlfriend', 'damn', 'wwat', 'sooo', 'theater', 'norfolk', 'va', 'dar', 'constitution', 'hall', 'seeker', 'fried', 'chicken', 'semester', 'shown', 'mercy', 'smh', 'bed', 'called', 'explain', 'pull', 'dongwoo', 'fic', 'brownlow', 'scott', 'mitchell', 'atl', 'party', 'programming', 'creation', 'yp', 'wrapped', 'vega', 'town', 'admit', 'ringtone', 'course', 'bug', 'forehead', 'everytime', 'port', 'key', 'cry', 'unbroken', 'fetus', 'ashton', 'olympus', 'hello', 'joey', 'perform', 'remembered', 'oc', 'broke', 'samsung', 'republican', 'congressional', 'baseball', 'mikasa', 'egypt', 'glorious', 'beck', 'rex', 'chardon', 'boise', 'tried', 'schedule', 'mickey', 'easy', 'student', 'authority', 'favorite', 'mf', 'w', 'oracle', 'profile', 'completely', 'worked', 'flash', 'inning', 'kershaw', 'pitcher', 'barbaric', 'angela', 'merkel', 'scoop', 'putin', 'ima', 'wear', 'gotti', 'lo', 'burgerking', 'permission', 'prez', 'newbie', 'skip', 'i', 'room', 'decoration', 'smell', 'christmas', 'recruiter', 'although', 'emotional', 'inspiring', 'turkey', 'join', 'eu', 'dreaming', 'happen', 'kiss', 'pearl', 'wa', 'pune', 'trend', 'rank', 'walking', 'effect', 'mariah', 'carey', 'untouchable', 'defend', 'faves', 'janet', 'brooklyn', 'net', 'fucked', 'miami', 'alan', 'rickman', 'native', 'haye', 'chisora', 'smashed', 'boxing', 'shoot', 'melbourne', 'vip', 'selling', 'ebay', 'east', 'snag', 'copy', 'shop', 'body', 'landed', 'parliament', 'resume', 'general', 'zealand', 'noon', 'cbn', 'brightest', 'employer', 'ph', 'spending', 'bout', 'flooding', 'environment', 'agency', 'warns', 'remain', 'flood', 'alert', 'filing', 'filed', 'sec', 'chester', 'drinking', 'fifa', 'tempted', 'droid', 'bionic', 'rumor', 'nexus', 'keeping', 'cazorla', 'cba', 'trended', 'worldwide', 'ought', 'owl', 'colbert', 'zyb', 'capital', 'versus', 'norwich', 'tan', 'jyoustin', 'pray', 'gross', 'nowadays', 'robbie', 'keane', 'pakistan', 'cricket', 'board', 'hopeful', 'bangladesh', 'vd', 'battle', 'sheet', 'regular', 'mufc', 'juice', 'decent', 'alex', 'nigeria', 'worldcup', 'kathy', 'watson', 'kelsey', 'sag', 'clarice', 'loathed', 'bryan', 'hate', 'ending', 'china', 'largest', 'producer', 'studio', 'mention', 'brit', 'discussing', 'greece', 'golf', 'victory', 'closing', 'decided', 'hype', 'iron', 'fist', 'rampage', 'greg', 'period', 'historic', 'number', 'thus', 'plate', 'pitch', 'wiz', 'panther', 'liked', 'ep', 'stephen', 'bolton', 'liar', 'wand', 'kluivert', 'ronaldo', 'successive', 'wt', 'winner', 'julian', 'assange', 'wikileaks', 'trailer', 'sherman', 'strike', 'zone', 'column', 'wrong', 'handed', 'belt', 'nod', 'elimination', 'chamber', 'louis', 'consumer', 'kyc', 'government', 'extended', 'awkward', 'honest', 'telling', 'kanye', 'imma', 'resort', 'advice', 'cheney', 'fault', 'nuke', 'avant', 'pacer', 'solid', 'comeback', 'disappeared', 'weeknd', 'walked', 'professor', 'skin', 'photoshoot', 'dodger', 'rowdy', 'roddy', 'piper', 'tagged', 'hogan', 'sid', 'justice', 'brought', 'pumpkin', 'met', 'journalism', 'ub', 'whitehouse', 'four', 'turf', 'ff', 'calmed', 'cramp', 'chalmers', 'offensive', 'foul', 'paying', 'disgusting', 'neck', 'corrupt', 'undercover', 'cop', 'covering', 'gchq', 'sweatshirt', 'jean', 'winter', 'metro', 'cycling', 'promo', 'three', 'bundle', 'customer', 'receive', 'affiliate', 'fareiday', 'satuareday', 'exhausted', 'jeffery', 'accidentally', 'king', 'stark', 'flex', 'matt', 'fightformatt', 'conclusion', 'trustworthy', 'convince', 'lana', 'del', 'rey', 'info', 'flyer', 'profit', 'bet', 'bottom', 'dollar', 'sit', 'chair', 'entire', 'shift', 'christianity', 'imitation', 'nature', 'seek', 'available', 'store', 'metropcs', 'website', 'jg', 'e', 'interior', 'sep', 'pdtbuy', 'qld', 'economics', 'larry', 'bird', 'rookie', 'damian', 'lillard', 'spread', 'fundraising', 'begin', 'fund', 'commercial', 'nba', 'challenged', 'peter', 'munch', 'tiny', 'size', 'opener', 'lever', 'vermaelen', 'row', 'didnt', 'crush', 'acta', 'thrown', 'notre', 'dame', 'exhibition', 'et', 'webcast', 'wps', 'mallorca', 'qualify', 'ucl', 'random', 'kasabian', 'fuse', 'shuffle', 'excitement', 'healthier', 'economy', 'cut', 'growth', 'alexander', 'meltdown', 'blame', 'lack', 'cdnpoli', 'georgetown', 'fx', 'yoyou', 'plyous', 'ronda', 'bright', 'leftover', 'fridge', 'tea', 'idea', 'happening', 'scholar', 'kickball', 'design', 'legacy', 'dude', 'alternate', 'parking', 'anonymous', 'project', 'launch', 'hacker', 'claim', 'member', 'channel', 'occasion', 'pregame', 'gameday', 'geaux', 'tiger', 'engineer', 'posted', 'tutorial', 'site', 'harvey', 'attention', 'howard', 'webb', 'cheeky', 'bugger', 'saving', 'healthy', 'jungle', 'island', 'silva', 'yushin', 'okami', 'gambling', 'spotlight', 'handful', 'lit', 'xvy', 'exo', 'nanjing', 'gervais', 'animation', 'vid', 'something', 'creating', 'jewelry', 'dsu', 'cy', 'nashville', 'including', 'headed', 'speak', 'ole', 'law', 'symposium', 'sort', 'comp', 'roman', 'jfk', 'ec', 'happened', 'smoothly', 'falcon', 'preseason', 'interested', 'doesnt', 'osu', 'changing', 'cake', 'qe', 'server', 'based', 'soaring', 'market', 'hp', 'rubbing', 'shoulder', 'rewind', 'gcse', 'tyga', 'careless', 'lp', 'tweeps', 'reckon', 'phillip', 'gilbert', 'boonen', 'swoon', 'offering', 'tip', 'advantage', 'winding', 'manu', 'psg', 'soldier', 'setlist', 'appropriate', 'wonder', 'rome', 'jericho', 'ryback', 'reached', 'limit', 'uo', 'xl', 'ud', 'bullet', 'waiting', 'agent', 'tt', 'participate', 'kst', 'kb', 'broadcast', 'vietnamese', 'realist', 'monsanto', 'nestle', 'sungyeol', 'bae', 'yong', 'jun', 'kristin', 'chenoweth', 'rainbow', 'cbc', 'lesson', 'bioshock', 'infinite', 'usurp', 'evil', 'mistake', 'becky', 'xoxox', 'tallahassee', 'sc', 'bottle', 'sexiest', 'vb', 'mo', 'vancouver', 'filled', 'natchitoches', 'membership', 'warehouse', 'workout', 'seems', 'untold', 'commentator', 'qfd', 'bridge', 'sixth', 'led', 'border', 'restored', 'pity', 'listen', 'ikr', 'randomly', 'pr', 'contact', 'merlin', 'stevie', 'vh', 'idk', 'young', 'zumba', 'ina', 'kesha', 'meant', 'helped', 'machine', 'creed', 'die', 'p', 'vita', 'alright', 'karaoke', 'lounge', 'attractive', 'feminism', 'inequality', 'toxic', 'ruin', 'mad', 'broken', 'bigger', 'involved', 'desperately', 'sex', 'boob', 'prostitute', 'entourage', 'anarchy', 'ply', 'ratchet', 'uhuru', 'blessing', 'african', 'dictator', 'icc', 'hague', 'term', 'thread', 'forgot', 'result', 'reporting', 'ship', 'nm', 'utc', 'departure', 'approach', 'luke', 'dickens', 'nelson', 'digger', 'em', 'fabio', 'bullshit', 'masterpiece', 'montageofheck', 'interactive', 'bowen', 'cofield', 'jenkins', 'egg', 'preds', 'cancelled', 'nhllockout', 'nugget', 'teamheat', 'anywhere', 'journal', 'dub', 'client', 'notice', 'unlike', 'hd', 'opening', 'swear', 'rocket', 'greek', 'triple', 'bitch', 'mine', 'cena', 'titlefortitle', 'isnt', 'throwing', 'margarita', 'kingsley', 'coman', 'bayern', 'feat', 'building', 'suing', 'motorola', 'supreme', 'us', 'interpret', 'overturn', 'wolf', 'skipped', 'category', 'nta', 'besides', 'leak', 'whoever', 'kicked', 'porto', 'fz', 'eleanor', 'roosevelt', 'combination', 'wild', 'id', 'void', 'nope', 'ruling', 'motto', 'ceremonial', 'ideal', 'hangout', 'io', 'harbaugh', 'ot', 'disney', 'infinity', 'marvel', 'add', 'figure', 'tele', 'caught', 'credit', 'ffs', 'steam', 'electric', 'az', 'kinder', 'kmi', 'agrees', 'pay', 'settle', 'investor', 'lawsuit', 'eagle', 'vick', 'huckabee', 'ssm', 'equal', 'protection', 'clause', 'eating', 'halo', 'location', 'salem', 'pell', 'grant', 'cate', 'uh', 'ig', 'eo', 'seed', 'stage', 'celebration', 'brent', 'acl', 'tangled', 'replace', 'dca', 'dungeon', 'legend', 'gamedev', 'ye', 'da', 'johd', 'ferry', 'corsten', 'captain', 'afc', 'created', 'anticipated', 'senate', 'irony', 'rescue', 'worker', 'threat', 'ebola', 'aka', 'revealed', 'retweets', 'screening', 'audience', 'sq', 'rich', 'mix', 'spiritual', 'personally', 'handing', 'existence', 'struck', 'sent', 'zombie', 'grandma', 'burst', 'xxx', 'mall', 'yaay', 'sl', 'vf', 'ce', 'skyfall', 'self', 'goddamn', 'hearing', 'pipeline', 'cure', 'savage', 'researching', 'crash', 'gopro', 'aaliyah', 'gmo', 'ze', 'hix', 'buyer', 'supplement', 'refund', 'walgreens', 'romney', 'push', 'represent', 'disneyland', 'lou', 'impossible', 'llorente', 'zaza', 'striker', 'bench', 'terry', 'songrin', 'visible', 'asiata', 'cl', 'scored', 'tap', 'in', 'suarez', 'breaking', 'begun', 'paterno', 'drummer', 'frankie', 'walk', 'bieber', 'mu', 'emotionally', 'intelligent', 'organisation', 'mindfulness', 'dec', 'xm', 'pls', 'continued', 'montage', 'voter', 'pk', 'alr', 'wood', 'awful', 'luckily', 'continue', 'er', 'helping', 'unforgettable', 'vitali', 'faith', 'luther', 'jr', 'quote', 'gather', 'celebrate', 'chinese', 'obsession', 'demi', 'lovato', 'pause', 'clipper', 'lakers', 'alexis', 'tsipras', 'jul', 'european', 'fabulous', 'davos', 'sir', 'brazil', 'cont', 'tl', 'gd', 'derek', 'fisher', 'reed', 'crowd', 'matter', 'deus', 'knock', 'purple', 'goodmorning', 'weekendishere', 'attending', 'reality', 'usopen', 'wimbledon', 'tied', 'protest', 'drug', 'murdered', 'cannabis', 'punt', 'unhappy', 'sympathetic', 'culture', 'heaven', 'updated', 'heated', 'flow', 'mclaren', 'csrracing', 'raceyourfriends', 'yeh', 'sick', 'ahhh', 'probably', 'soundwave', 'fest', 'croatia', 'fiesta', 'ranked', 'cuse', 'alot', 'jones', 'shogun', 'vitor', 'nomore', 'monroe', 'eh', 'melaka', 'tri', 'fever', 'intense', 'screwed', 'talked', 'bulletproof', 'among', 'seriously', 'france', 'exchange', 'franc', 'euro', 'de', 'buzz', 'ui', 'db', 'pulled', 'spark', 'emerged', 'twickers', 'presenting', 'roadmap', 'defeated', 'interface', 'brace', 'ramdev', 'touch', 'ramlila', 'debating', 'seinfeld', 'character', 'angry', 'mulcair', 'trudeau', 'phase', 'considering', 'sharing', 'change', 'atmosphere', 'whatever', 'hmmmm', 'rent', 'discus', 'skype', 'inquire', 'edmonton', 'low', 'gallagher', 'smiling', 'tomato', 'cong', 'forthcoming', 'keith', 'hilarious', 'hahaha', 'roger', 'isner', 'lip', 'hurt', 'verse', 'nuit', 'blanche', 'nw', 'dnt', 'judge', 'animated', 'sami', 'khedira', 'carlo', 'ancelotti', 'coaching', 'ranger', 'ssfc', 'count', 'hardware', 'heel', 'guardian', 'fer', 'raining', 'wth', 'primary', 'avoid', 'conflict', 'ck', 'vx', 'spent', 'donkey', 'adrienne', 'arsht', 'ri', 'upper', 'sunshine', 'warmth', 'mets', 'skinny', 'kevin', 'hart', 'consider', 'simone', 'failed', 'according', 'sham', 'denver', 'empty', 'utpol', 'dd', 'truly', 'slap', 'ridiculous', 'yoyour', 'importance', 'cancer', 'abt', 'disappoint', 'carpet', 'welcome', 'syounday', 'el', 'clasico', 'lyouck', 'gyouess', 'magical', 'alabama', 'alllll', 'passion', 'rahul', 'kumawat', 'etal', 'sangam', 'bhilwara', 'shaqiri', 'difficult', 'fave', 'fails', 'giggle', 'thames', 'motor', 'boat', 'whose', 'goin', 'concord', 'murphy', 'lil', 'doubt', 'allstar', 'gaming', 'advanced', 'aftermath', 'est', 'speech', 'racist', 'beside', 'sellout', 'tk', 'sm', 'rosa', 'grand', 'bx', 'o', 'installed', 'booked', 'gunna', 'career', 'espanyol', 'replaced', 'gap', 'advertising', 'pandora', 'pardon', 'returned', 'received', 'ministry', 'trial', 'kiddos', 'unstoppable', 'yh', 'richwood', 'rage', 'wx', 'beyday', 'behavior', 'satyou', 'areday', 'buddy', 'gun', 'meek', 'mill', 'indy', 'netherlands', 'collection', 'italy', 'gobble', 'sobbing', 'germany', 'tr', 'swansea', 'premier', 'skill', 'smith', 'lift', 'pal', 'aww', 'pissed', 'youtube', 'sigh', 'cinema', 'leaf', 'silver', 'advert', 'olympics', 'ft', 'single', 'iv', 'attire', 'six', 'fuel', 'waffle', 'reach', 'achieve', 'stayed', 'thirsty', 'remains', 'laughed', 'thur', 'ended', 'matchup', 'harden', 'trade', 'color', 'boehner', 'hair', 'rec', 'reconsider', 'surface', 'stylus', 'pressure', 'keynote', 'knoxville', 'learning', 'promise', 'santos', 'constantine', 'sabbath', 'happiness', 'salute', 'tumblr', 'sob', 'holy', 'taj', 'ghoncheh', 'ghavami', 'shadow', 'corporation', 'myouch', 'styouff', 'combined', 'third', 'tegan', 'renewal', 'skinner', 'doin', 'highschool', 'mosque', 'fir', 'break', 'wall', 'dud', 'impact', 'agreed', 'lazy', 'zodiac', 'astrology', 'myth', 'manchester', 'bj', 'pratt', 'gosh', 'kissing', 'outdoors', 'forced', 'dictatorship', 'scrap', 'licence', 'fee', 'emily', 'blunt', 'airman', 'spencer', 'stone', 'rita', 'os', 'brown', 'kimmel', 'rival', 'health', 'duty', 'juan', 'qyouestions', 'silence', 'mock', 'looper', 'simon', 'callow', 'mystery', 'charles', 'loving', 'edshow', 'sink', 'selma', 'incumbent', 'backing', 'apart', 'defending', 'realised', 'tough', 'playstation', 'network', 'maintenance', 'psn', 'upcoming', 'grill', 'pico', 'fundraiser', 'calender', 'petrolia', 'pa', 'wbt', 'ruffin', 'fyi', 'airport', 'burning', 'wtf', 'teeth', 'gregg', 'easily', 'coordinator', 'nt', 'decides', 'hmm', 'nickname', 'cpc', 'truthful', 'elxn', 'lying', 'seat', 'katie', 'wvu', 'texas', 'sub', 'idol', 'countdown', 'hook', 'sketch', 'nk', 'laurin', 'nojoke', 'martha', 'smoked', 'weed', 'fh', 'enters', 'alternative', 'debate', 'epic', 'huntsman', 'wine', 'fold', 'dale', 'classy', 'proposes', 'owner', 'beta', 'heartbreaking', 'cancel', 'brutal', 'billion', 'syria', 'nirvana', 'spa', 'foot', 'highly', 'recommend', 'watford', 'spur', 'text', 'otherwise', 'tax', 'gay', 'svu', 'fbi', 'especially', 'amanda', 'knox', 'frm', 'foto', 'di', 'crap', 'voice', 'calling', 'survival', 'ww', 'canada', 'lucky', 'degrassi', 'gang', 'arent', 'pleased', 'hatred', 'potus', 'build', 'lewis', 'voted', 'overrated', 'mofos', 'citizen', 'ry', 'om', 'announcing', 'notredame', 'malik', 'zaire', 'pj', 'anna', 'elbow', 'metronomy', 'mercury', 'either', 'mouth', 'complete', 'patriot', 'bumblebee', 'losing', 'partying', 'bachelor', 'comin', 'crystal', 'wildcat', 'gym', 'fvsu', 'billionaire', 'warren', 'buffett', 'praised', 'socialist', 'cap', 'qn', 'ml', 'content', 'floating', 'platform', 'broadcaster', 'dapper', 'siri', 'registration', 'patel', 'stake', 'mumbai', 'yw', 'cst', 'confidential', 'information', 'arkansas', 'nail', 'upgrade', 'manager', 'illustrated', 'mcdonald', 'serving', 'breakfast', 'oomf', 'rogers', 'sister', 'advance', 'sk', 'tryna', 'hip', 'hop', 'virgo', 'hudson', 'dragoncon', 'downtown', 'galatasaray', 'flare', 'dook', 'shine', 'jennette', 'mar', 'gesture', 'sona', 'cushing', 'texan', 'suwwtl', 'hulu', 'axl', 'rose', 'thu', 'revealing', 'rih', 'damage', 'overall', 'zw', 'huh', 'nia', 'fareom', 'git', 'wanting', 'entry', 'paris', 'airing', 'texting', 'useless', 'victor', 'lwl', 'mommy', 'dammit', 'rly', 'rebel', 'material', 'jenelle', 'academy', 'reveal', 'marketing', 'kendrick', 'lamar', 'praying', 'vanessa', 'strength', 'filling', 'muhammad', 'supply', 'wicked', 'zero', 'clarinet', 'znwv', 'reference', 'ladybug', 'cooper', 'premiered', 'christ', 'darkness', 'amen', 'swipe', 'slept', 'odd', 'offs', 'lock', 'water', 'olympic', 'monta', 'elli', 'provided', 'rona', 'eurosong', 'contest', 'deserve', 'deciding', 'mort', 'zuckerman', 'giving', 'wisdom', 'mess', 'freeview', 'predicted', 'useful', 'specially', 'religion', 'affleck', 'fyouck', 'fare', 'chapel', 'hill', 'tidal', 'satanic', 'illuminati', 'sunderland', 'signing', 'saha', 'absence', 'pavol', 'demitra', 'confirms', 'plane', 'russia', 'cheer', 'pickup', 'thunder', 'skull', 'ensemble', 'beardown', 'sitting', 'pizza', 'box', 'wondering', 'dish', 'doc', 'tx', 'showtime', 'politician', 'bharatiya', 'janata', 'defense', 'aaron', 'mud', 'pie', 'peyton', 'curtis', 'painter', 'hib', 'boogie', 'ritchie', 'becomes', 'father', 'busy', 'promoting', 'ou', 'touchscreen', 'cellphone', 'seven', 'insane', 'joongki', 'commitment', 'held', 'southampton', 'retail', 'overhaul', 'francisco', 'reuters', 'inc', 'pushed', 'powerful', 'bethnal', 'ap', 'remaining', 'bumped', 'several', 'qw', 'honour', 'inter', 'sucking', 'ncaa', 'tourney', 'fail', 'bang', 'theory', 'av', 'rebound', 'wire', 'illegal', 'feelthebern', 'poet', 'frank', 'walker', 'touchdown', 'goirish', 'daft', 'circe', 'apparently', 'washing', 'ignoring', 'xi', 'squad', 'swr', 'mockingjay', 'tequila', 'van', 'yay', 'crib', 'tight', 'supported', 'cast', 'embrace', 'diversity', 'celebrates', 'guetta', 'fort', 'canning', 'physical', 'asset', 'martial', 'tongue', 'nlc', 'birmingham', 'zulu', 'lad', 'leeds', 'celebrating', 'athlete', 'prospect', 'compete', 'ego', 'rodriguez', 'um', 'learned', 'chocolate', 'totally', 'recalling', 'soundcloud', 'dj', 'approaching', 'los', 'angeles', 'malibu', 'blog', 'verizon', 'art', 'prolly', 'smashing', 'except', 'myanmar', 'bkk', 'visa', 'su', 'heritage', 'fp', 'appear', 'delivered', 'monster', 'hunter', 'portable', 'sem', 'mansbridge', 'answering', 'debater', 'nominate', 'view', 'leadership', 'cold', 'healed', 'voodoo', 'jumping', 'determined', 'activity', 'flower', 'toni', 'hehe', 'multimedia', 'gonzaga', 'false', 'moved', 'yale', 'ingrinat', 'grinuys', 'grinoodnigrinht', 'management', 'waste', 'spoil', 'continent', 'filmed', 'beiber', 'whopping', 'sing', 'cracking', 'load', 'oscar', 'lifetime', 'achievement', 'classical', 'albert', 'nav', 'il', 'interviewing', 'wk', 'pastor', 'ann', 'kentucky', 'marriage', 'raid', 'dope', 'horror', 'hella', 'mik', 'uc', 'bayer', 'leverkusen', 'borussia', 'nine', 'assassin', 'zi', 'alli', 'gator', 'mia', 'randi', 'pg', 'dawn', 'yayyy', 'entertained', 'accompanied', 'chain', 'letting', 'jo', 'tmrw', 'greatness', 'hoodie', 'redsox', 'volare', 'gona', 'snap', 'freshman', 'selection', 'toss', 'istep', 'creator', 'l', 'voting', 'brighter', 'nash', 'melo', 'randolph', 'bynum', 'simi', 'alarm', 'adam', 'stl', 'rbi', 'nlcs', 'womb', 'sting', 'intact', 'iggy', 'eminem', 'forgetting', 'controversy', 'ie', 'wiggins', 'podium', 'microsoft', 'suffering', 'outage', 'cloud', 'colorado', 'flight', 'denzel', 'sounded', 'parody', 'invented', 'jailbreaking', 'device', 'security', 'vulnerability', 'rarely', 'perron', 'comparison', 'liner', 'pt', 'bum', 'pricewise', 'horseracing', 'bunch', 'chap', 'pix', 'sending', 'bittersweet', 'relevant', 'document', 'controlled', 'assessment', 'anyways', 'atletico', 'madrid', 'bilbao', 'nou', 'jammin', 'dimple', 'durrty', 'skanx', 'shotta', 'byron', 'romo', 'bigbang', 'sony', 'salon', 'meryl', 'streep', 'prefer', 'stinky', 'noble', 'vegan', 'delivery', 'hurry', 'trick', 'denying', 'johnson', 'wwfc', 'solo', 'ocean', 'produce', 'immigrant', 'cv', 'english', 'livestream', 'flier', 'rupp', 'thankful', 'experience', 'interpreted', 'creative', 'roof', 'bible', 'midsummer', 'prix', 'royallieu', 'longchamp', 'trainer', 'wil', 'wet', 'indicted', 'criminal', 'renewed', 'upon', 'blew', 'hoped', 'claimed', 'pumped', 'weight', 'rep', 'pilot', 'lunch', 'terra', 'nova', 'division', 'invitational', 'rooftop', 'youngin', 'base', 'tommy', 'gathered', 'honored', 'rumble', 'aye', 'gyouys', 'basketball', 'firework', 'cried', 'peek', 'hahahahaha', 'bradshaw', 'spends', 'sleeping', 'raising', 'homeless', 'contract', 'jayalalithaa', 'flying', 'print', 'bg', 'fd', 'ouch', 'display', 'grange', 'alonso', 'favoured', 'driving', 'mercedes', 'htc', 'lg', 'currently', 'programme', 'ioc', 'armstrong', 'committee', 'logged', 'gso', 'toronto', 'communication', 'wireless', 'wi', 'barack', 'selective', 'conversation', 'adv', 'marched', 'mn', 'sg', 'fairy', 'tale', 'oldest', 'wayne', 'avril', 'universal', 'wimp', 'annabelle', 'fwd', 'dv', 'sgo', 'denticket', 'odds', 'favour', 'aggressive', 'mario', 'kart', 'proved', 'kingdom', 'realized', 'vampire', 'diary', 'japan', 'gon', 'hammond', 'accustomed', 'conservative', 'jarring', 'concede', 'plug', 'rockin', 'outfit', 'mod', 'disappointed', 'license', 'lining', 'willian', 'thfc', 'epl', 'disappointing', 'lighter', 'editing', 'jordan', 'jefferson', 'performs', 'austin', 'tressa', 'hun', 'connor', 'operation', 'shocking', 'pacific', 'penny', 'dahlia', 'celtic', 'repair', 'bournemouth', 'trail', 'dorset', 'grab', 'suppose', 'wrap', 'sum', 'chat', 'simmons', 'damien', 'dreamt', 'scarf', 'proven', 'association', 'blaring', 'guessing', 'followed', 'poetic', 'opened', 'd', 'cupertino', 'poke', 'hershey', 'tmh', 'pledge', 'jog', 'forgets', 'sober', 'chart', 'complication', 'marana', 'buying', 'mini', 'continues', 'kz', 'dexter', 'stock', 'happens', 'blank', 'employee', 'toy', 'gps', 'ability', 'samuel', 'meangirls', 'compelled', 'rebecca', 'danger', 'uy', 'forbes', 'speaks', 'introducing', 'nca', 'lolol', 'account', 'suspended', 'swirling', 'dwight', 'stats', 'gerald', 'jlin', 'nbarank', 'rhodes', 'obviously', 'homecoming', 'brookwood', 'geno', 'weapon', 'thomas', 'soup', 'nazi', 'track', 'biggie', 'pac', 'pun', 'lmaooo', 'comparable', 'monthsary', 'greeting', 'strawberry', 'israeli', 'palestinian', 'secretary', 'promote', 'equality', 'reporter', 'mikel', 'leshoure', 'carted', 'upload', 'theiare', 'kca', 'votejkt', 'resting', 'ron', 'jaworski', 'complaining', 'ergo', 'presented', 'block', 'yelled', 'whoop', 'lionel', 'ten', 'different', 'youngster', 'unlikely', 'wut', 'zac', 'stadium', 'clarkson', 'nailed', 'qrb', 'rained', 'bruno', 'shenanigan', 'german', 'oral', 'exam', 'math', 'algebra', 'explaining', 'deport', 'mum', 'aston', 'lunchtime', 'fallen', 'bro', 'drivin', 'tail', 'learns', 'agaist', 'allah', 'rosie', 'calendar', 'dusk', 'avenue', 'index', 'smart', 'peep', 'alsip', 'cheapest', 'freebie', 'comment', 'otw', 'hehehehe', 'unofficially', 'levi', 'lvl', 'shipment', 'happiest', 'liberty', 'isaiah', 'fsu', 'husband', 'eligible', 'rohypnol', 'milk', 'sore', 'wake', 'itunes', 'ow', 'british', 'dear', 'inform', 'spirit', 'ani', 'comic', 'con', 'santa', 'fe', 'scout', 'smile', 'envelope', 'burn', 'bloody', 'impressive', 'jim', 'angel', 'zl', 'trilogy', 'bale', 'cardinal', 'ate', 'nickelodeon', 'tmhtour', 'belgium', 'lefty', 'justified', 'xj', 'melt', 'ao', 'legitimately', 'impressed', 'tweeted', 'holding', 'spoon', 'someday', 'narendra', 'cabinet', 'obsessed', 'protester', 'marking', 'founding', 'justinbieber', 'beatles', 'ukip', 'homework', 'nap', 'weakened', 'ghana', 'secure', 'per', 'skipping', 'hated', 'ita', 'northwest', 'oops', 'kardashians', 'hire', 'pornstar', 'nanny', 'undergo', 'medical', 'trequartista', 'cam', 'gamble', 'levine', 'photographer', 'outside', 'letterman', 'francois', 'hollande', 'rigged', 'vj', 'bruce', 'jose', 'aldo', 'dana', 'idiot', 'qc', 'confusion', 'rw', 'dreamed', 'hoverboard', 'deliver', 'innovate', 'igbo', 'imax', 'pim', 'lash', 'coal', 'director', 'rupert', 'cruise', 'helsing', 'laura', 'wright', 'gareth', 'malone', 'margherita', 'attend', 'veon', 'feast', 'necessary', 'lotr', 'fantasy', 'listed', 'ive', 'concept', 'pirlo', 'tevez', 'vidal', 'lavezzi', 'copa', 'bolivia', 'primedayfail', 'lmaoo', 'lowry', 'karen', 'tumulty', 'sanger', 'indeed', 'granite', 'unknown', 'quiet', 'humble', 'weather', 'indoors', 'hehehe', 'evgeni', 'malkin', 'nhl', 'lockout', 'subject', 'omg', 'promising', 'tokyo', 'cg', 'kidrauhl', 'hank', 'barcelona', 'hater', 'aree', 'maddie', 'audition', 'language', 'texted', 'reveals', 'mlb', 'cougar', 'pennycan', 'malcolm', 'tore', 'youpdates', 'streaming', 'suggestion', 'familiar', 'regarding', 'nite', 'industry', 'appreciate', 'biz', 'tick', 'thats', 'dedication', 'brief', 'corp', 'gonn', 'nobody', 'lvg', 'giggs', 'guardiola', 'success', 'bt', 'hav', 'product', 'dey', 'zap', 'jv', 'lame', 'sv', 'airline', 'appointed', 'depend', 'slip', 'scare', 'breaker', 'diet', 'destroy', 'psyched', 'mic', 'rhiannon', 'aniston', 'sexy', 'ottawa', 'gallery', 'jett', 'riseup', 'kip', 'moore', 'writing', 'smartphone', 'sy', 'unreleased', 'jk', 'uu', 'patience', 'moron', 'iy', 'gob', 'height', 'shakeup', 'donut', 'jacket', 'desperate', 'showed', 'prepared', 'spin', 'vintage', 'motorcycle', 'onwards', 'desktop', 'verge', 'goodell', 'linkage', 'user', 'password', 'snapchat', 'resident', 'panel', 'qtr', 'cautious', 'taiwan', 'pti', 'trill', 'finna', 'naked', 'onthisday', 'shipped', 'ew', 'senior', 'lucas', 'type', 'transparent', 'soa', 'joined', 'picket', 'significantly', 'younger', 'engine', 'everyday', 'firehouse', 'so', 'fam', 'vinci', 'simple', 'remembering', 'blast', 'daisy', 'flipped', 'linebacker', 'nxt', 'takeover', 'swap', 'barlow', 'factor', 'hooray', 'nevada', 'jonas', 'wifey', 'harmony', 'arm', 'dancer', 'abuse', 'allegation', 'musicnews', 'layough', 'oyout', 'loyoud', 'yea', 'tryin', 'syoun', 'quiz', 'plot', 'element', 'triumph', 'textbook', 'hz', 'showdown', 'blessed', 'deets', 'yougov', 'tc', 'hotel', 'cardiff', 'ian', 'santorum', 'gentle', 'reminder', 'redbox', 'jerusalem', 'missouri', 'trina', 'hottest', 'southside', 'disrespect', 'draw', 'fixed', 'b', 'serenavsvenus', 'oasis', 'ba', 'unlv', 'scrimmage', 'meg', 'xv', 'tablet', 'md', 'addition', 'previous', 'yep', 'there', 'amped', 'lincoln', 'steven', 'spielberg', 'herald', 'rap', 'eazy', 'cent', 'mail', 'rn', 'giddy', 'candidacy', 'sophia', 'grace', 'hrt', 'worse', 'cheated', 'domino', 'plymouth', 'breeder', 'twice', 'reported', 'participating', 'strikeforce', 'fl', 'mittromney', 'tcot', 'exited', 'lm', 'path', 'ameen', 'cow', 'treated', 'hormone', 'disease', 'thrill', 'regret', 'mat', 'drilling', 'specific', 'lined', 'gmos', 'labeling', 'prize', 'clarke', 'brisbane', 'columbus', 'zombieland', 'funniest', 'zayn', 'arg', 'fcblive', 'romneyryan', 'louisiana', 'sunny', 'tasting', 'directly', 'mask', 'strip', 'plenty', 'duh', 'mayor', 'clearly', 'torchlight', 'gangnam', 'dynasty', 'system', 'fool', 'proof', 'seymour', 'wing', 'appleevent', 'khader', 'exists', 'adnan', 'nobel', 'laureate', 'guitar', 'n', 'decide', 'fidi', 'built', 'fca', 'small', 'bodi', 'sweetheart', 'wrote', 'freaking', 'pc', 'operating', 'sci', 'adventure', 'ruined', 'buck', 'saban', 'mentioned', 'darn', 'visiting', 'invitation', 'ufo', 'sighting', 'oranjestad', 'resemblance', 'andrea', 'diaz', 'gsp', 'stole', 'miliband', 'labour', 'ed', 'stair', 'unintentional', 'premiere', 'noted', 'jacksonville', 'brilliant', 'shameful', 'heh', 'lipstick', 'nowhere', 'lonely', 'diana', 'cheering', 'caltrain', 'passenger', 'qo', 'mega', 'mi', 'israel', 'unfollow', 'ugly', 'login', 'claiming', 'hunger', 'boozer', 'assignment', 'tower', 'sugar', 'cross', 'civil', 'ra', 'arkestra', 'balik', 'gyouy', 'syoupport', 'def', 'bestie', 'bastard', 'finnish', 'clear', 'sw', 'skylynn', 'au', 'xmas', 'wbb', 'valuable', 'oldham', 'driver', 'brantley', 'curiosity', 'ji', 'union', 'ring', 'tool', 'refuse', 'conveniently', 'oyou', 'deepest', 'sympathy', 'struggle', 'grief', 'sadness', 'mt', 'swore', 'annulment', 'process', 'radically', 'reformed', 'improved', 'dirty', 'loyal', 'criticism', 'webinar', 'connection', 'file', 'facing', 'chancellor', 'ides', 'penis', 'etc', 'newark', 'soundtrack', 'biopic', 'dt', 'tired', 'thanksgiving', 'understanding', 'asap', 'burdwanblast', 'recovered', 'burdwan', 'karim', 'savemoney', 'rg', 'runaway', 'wooooo', 'wwe', 'spanish', 'answered', 'killin', 'scripted', 'goodbye', 'liacouras', 'voyager', 'woo', 'liberal', 'abbott', 'julia', 'gillard', 'europa', 'duel', 'reserved', 'invited', 'timeline', 'stuck', 'clothes', 'vlog', 'processing', 'korea', 'forgrinet', 'duet', 'quest', 'postal', 'seminar', 'paso', 'energy', 'nyse', 'ato', 'saucy', 'written', 'rail', 'striking', 'aimed', 'domination', 'viola', 'awake', 'reggie', 'grammys', 'gag', 'laughter', 'everclear', 'backstage', 'antonio', 'hoo', 'depends', 'learn', 'posting', 'affair', 'cu', 'dancin', 'destined', 'supernatural', 'witnessed', 'endymion', 'shitty', 'recommended', 'paragraph', 'destructo', 'probs', 'pill', 'slightly', 'responded', 'bear', 'murdoch', 'apologize', 'ahh', 'elon', 'reform', 'dw', 'actual', 'scottish', 'pf', 'degree', 'timmons', 'ol', 'jupiter', 'perfectly', 'typical', 'prediction', 'sesh', 'mw', 'falcao', 'toby', 'hus', 'dutch', 'thailand', 'dressed', 'launching', 'mb', 'sided', 'klitschko', 'hollyoaks', 'freddie', 'physic', 'referring', 'm', 'supportive', 'growing', 'teamm', 'transcript', 'advising', 'laurel', 'h', 'montgomery', 'rub', 'woohoo', 'homie', 'susan', 'protect', 'ther', 'loaded', 'casual', 'mile', 'felt', 'childhood', 'douglas', 'satire', 'pretending', 'dante', 'lend', 'stripper', 'djing', 'clock', 'magazine', 'cole', 'exist', 'opinion', 'disagree', 'inbetweeners', 'alien', 'crossing', 'finger', 'retard', 'somehow', 'managed', 'movement', 'splash', 'hl', 'quick', 'slide', 'admits', 'spill', 'activist', 'handling', 'gulf', 'arrested', 'strange', 'graham', 'richardson', 'auspol', 'computing', 'pong', 'ish', 'cd', 'mcpe', 'tyouesday', 'repeat', 'deployment', 'zm', 'rapist', 'peterson', 'tf', 'tcu', 'faculty', 'combo', 'partnership', 'tory', 'curb', 'craving', 'toast', 'ant', 'oj', 'fry', 'candle', 'coco', 'leading', 'suspension', 'temple', 'offspring', 'blind', 'printer', 'jamming', 'genuinely', 'grabbed', 'pack', 'fax', 'pst', 'featuring', 'doug', 'wead', 'stereo', 'gsu', 'jsu', 'ull', 'ulm', 'cali', 'shelter', 'desperation', 'cork', 'pig', 'declared', 'non', 'capello', 'intended', 'seahawks', 'stroll', 'notch', 'realistic', 'holloway', 'palace', 'doma', 'constitutional', 'protects', 'religious', 'freedom', 'naples', 'maine', 'presentation', 'itt', 'swimming', 'sniffing', 'goalie', 'spring', 'pink', 'cathedral', 'acoustic', 'occasionally', 'moderate', 'portion', 'negro', 'cebu', 'bohol', 'sp', 'aware', 'paddock', 'tayside', 's', 'racism', 'navy', 'fairground', 'nacho', 'application', 'alumnus', 'rocking', 'undergrad', 'imagine', 'usc', 'spell', 'conrad', 'aided', 'shut', 'recommends', 'foolish', 'twilight', 'backwards', 'bounce', 'sorcerer', 'pv', 'impress', 'stepped', 'onto', 'ksu', 'imaaa', 'mainframe', 'era', 'grave', 'wishing', 'channing', 'tatum', 'trafford', 'piss', 'ez', 'lie', 'nns', 'demba', 'rated', 'nursing', 'calf', 'exit', 'encourage', 'supporter', 'kobe', 'mainstream', 'lin', 'boyout', 'oddly', 'goodwin', 'dominant', 'nl', 'comming', 'adding', 'darth', 'vader', 'verlander', 'usually', 'sexual', 'desire', 'ind', 'xavier', 'approve', 'rough', 'viewing', 'wnt', 'ace', 'wld', 'topless', 'applies', 'absolutely', 'salsa', 'iguana', 'eau', 'prof', 'sen', 'pass', 'rui', 'en', 'bone', 'survive', 'terrorist', 'library', 'unpredictable', 'delay', 'linkedin', 'rm', 'bdxe', 'misgiving', 'actively', 'mmg', 'remind', 'anatomy', 'reign', 'ass', 'donate', 'trifecta', 'tennis', 'punch', 'ground', 'facade', 'illuminated', 'ned', 'gameofthrones', 'mascherano', 'bol', 'friendly', 'pile', 'anime', 'nadal', 'catching', 'hutcherson', 'relaxing', 'gopackgo', 'munich', 'apocalypse', 'workshop', 'un', 'invade', 'hypocrite', 'omit', 'vaccine', 'enemy', 'glenn', 'hoddle', 'russell', 'dept', 'momma', 'professional', 'sfgiants', 'buster', 'posey', 'celebrated', 'stlcards', 'rating', 'budget', 'recent', 'timeout', 'saudi', 'playin', 'wc', 'lap', 'contribution', 'hyped', 'mob', 'kenya', 'thy', 'respective', 'spouse', 'cheat', 'thee', 'rerun', 'classico', 'lr', 'space', 'reservation', 'bali', 'eclipse', 'strategic', 'dominate', 'bengal', 'harris', 'marshal', 'demon', 'gaze', 'networking', 'awhile', 'alive', 'express', 'wikipedia', 'govt', 'tehran', 'influenced', 'guidance', 'welcoming', 'senator', 'fortunate', 'explanation', 'madison', 'wipe', 'din', 'ang', 'portland', 'knit', 'arch', 'maker', 'lacy', 'hopped', 'gea', 'rio', 'evra', 'nani', 'chicha', 'warning', 'ack', 'brain', 'alaska', 'wj', 'itv', 'hurrraaaaah', 'michaeling', 'tweeting', 'fancy', 'acdc', 'spare', 'tik', 'flat', 'shitey', 'wheel', 'havin', 'downton', 'abbey', 'bus', 'sits', 'johnny', 'tbbt', 'preschool', 'zimmerman', 'accused', 'murdering', 'takin', 'montana', 'labordaywkend', 'bennyt', 'darnellmvp', 'odolem', 'cease', 'thinkin', 'darrell', 'xoxo', 'require', 'knw', 'kev', 'tmi', 'wz', 'spoiled', 'miley', 'cyrus', 'hoyouse', 'bootcamp', 'rib', 'charged', 'wasnt', 'zu', 'establishment', 'casualty', 'animal', 'arriving', 'atm', 'txt', 'delayed', 'peak', 'normally', 'locked', 'yk', 'ti', 'malaga', 'bust', 'associate', 'condolence', 'ralph', 'mcquarrie', 'femalelies', 'pierce', 'odom', 'ranking', 'assume', 'rondo', 'gordon', 'rounding', 'decoding', 'imminent', 'heavenly', 'lk', 'treble', 'ban', 'khyouareshid', 'expose', 'disco', 'sean', 'consultation', 'pad', 'destiny', 'inclined', 'quoted', 'mlk', 'tantrum', 'snake', 'collect', 'nano', 'voucher', 'ln', 'pag', 'springsteen', 'wrecking', 'crunch', 'parked', 'qfs', 'pjs', 'je', 'paste', 'googled', 'boot', 'amfm', 'sooner', 'dtn', 'arrange', 'barnet', 'sinatra', 'hmu', 'clown', 'superbowl', 'discover', 'abortion', 'funny', 'respond', 'repeated', 'lotus', 'screw', 'gotten', 'rumour', 'cupid', 'currie', 'waited', 'nearly', 'primer', 'shed', 'sharp', 'chevron', 'shell', 'natural', 'gas', 'toe', 'buff', 'ghetto', 'mansion', 'hong', 'kong', 'rammstein', 'furniture', 'betrayed', 'legally', 'allowed', 'bare', 'gyu', 'replacing', 'beware', 'unveiled', 'haterz', 'hydrangea', 'behaviour', 'greenbrier', 'placed', 'toward', 'florham', 'chemtrails', 'woop', 'fab', 'horse', 'easter', 'heap', 'cooking', 'bbq', 'dot', 'finest', 'cactus', 'netanyahu', 'benghazi', 'assault', 'priority', 'stat', 'down', 'atleti', 'davutoglu', 'gmt', 'determine', 'rule', 'divorce', 'gal', 'dick', 'scumbag', 'hypocritical', 'circuit', 'shipping', 'bu', 'dwt', 'cliff', 'hole', 'stefan', 'cobham', 'attraction', 'volunteer', 'proper', 'buzzing', 'whip', 'fandom', 'informed', 'shuttle', 'route', 'seller', 'xd', 'donor', 'balance', 'ka', 'venue', 'hawkeye', 'lego', 'became', 'charger', 'choose', 'forever', 'blasting', 'tu', 'que', 'mysterious', 'dvd', 'allderdice', 'mixtape', 'uw', 'umm', 'sidney', 'crosby', 'siberia', 'hive', 'sadat', 'progress', 'expands', 'smartwatch', 'rolled', 'alleges', 'dealer', 'millennials', 'asking', 'buzzin', 'searched', 'mostly', 'shockingly', 'ignorant', 'lumia', 'courtesy', 'sim', 'kremlin', 'avery', 'joy', 'climate', 'engagement', 'science', 'premium', 'venyoue', 'jyouly', 'tbc', 'uber', 'gotohexislike', 'tb', 'jerk', 'myrtle', 'melai', 'everythings', 'aside', 'freak', 'follower', 'pointing', 'lmao', 'elaine', 'older', 'dressing', 'meh', 'np', 'worried', 'allow', 'complaint', 'seeking', 'defunding', 'ankle', 'qualifier', 'nightmare', 'ballroom', 'freezer', 'sandwich', 'signal', 'organic', 'preparing', 'meanwhile', 'stein', 'modern', 'telly', 'mistress', 'duo', 'neu', 'bb', 'slowly', 'riot', 'bowling', 'tryout', 'kramer', 'newman', 'isat', 'floater', 'amid', 'doctor', 'indianapolis', 'screwing', 'reject', 'invite', 'wh', 'improving', 'linsanity', 'minus', 'blonde', 'massive', 'fuller', 'lifted', 'flotus', 'recently', 'rainy', 'burger', 'courtney', 'bronco', 'tony', 'sacked', 'thatisall', 'christopher', 'tucson', 'property', 'stamp', 'bio', 'greensboro', 'nc', 'sooooo', 'chef', 'transportation', 'gala', 'gl', 'sup', 'emma', 'arrow', 'hindu', 'pirate', 'sand', 'orlando', 'closest', 'violence', 'sacramento', 'mourinho', 'characteristic', 'halamadrid', 'penguin', 'merger', 'clutch', 'reasonable', 'ref', 'nq', 'empire', 'campus', 'hooooo', 'mst', 'pdt', 'prevail', 'slow', 'dandiya', 'purim', 'extremist', 'f', 'forest', 'eugene', 'ae', 'makin', 'carol', 'crusader', 'overdue', 'vta', 'xu', 'vq', 'bluemix', 'iot', 'rk', 'correction', 'vcu', 'vuu', 'quickly', 'implode', 'veto', 'invoke', 'amend', 'justsaying', 'drawing', 'delete', 'positive', 'baptist', 'praise', 'designer', 'erica', 'maino', 'breakout', 'mixed', 'tag', 'undermine', 'ke', 'lq', 'mtv', 'angus', 'flew', 'gillette', 'guitarist', 'mirror', 'shock', 'citizenship', 'status', 'drenched', 'nightwish', 'evanescence', 'considers', 'meaning', 'trap', 'beaming', 'mildly', 'cotton', 'blown', 'remixes', 'jackie', 'befoaree', 'segment', 'representing', 'showbiz', 'jury', 'khalifa', 'mayhem', 'composer', 'vaca', 'radar', 'independent', 'ritz', 'carlton', 'chamberlain', 'bumper', 'sticker', 'drift', 'zt', 'dam', 'reviewing', 'alcohol', 'liquid', 'surf', 'shack', 'reel', 'otra', 'ultra', 'village', 'joel', 'xt', 'donated', 'cheerleader', 'barely', 'tragedy', 'achilles', 'retreat', 'funday', 'gimme', 'approval', 'fatigue', 'purpose', 'establish', 'violated', 'lebron', 'carmelo', 'anthony', 'oyster', 'sight', 'defence', 'aerial', 'actress', 'elle', 'streamed', 'interact', 'ej', 'gq', 'alberta', 'inn', 'saxilby', 'migos', 'fetty', 'wap', 'ink', 'alsina', 'thug', 'political', 'toon', 'anfield', 'nufc', 'fitbit', 'demo', 'housemusic', 'vernau', 'nightclub', 'scorer', 'retweet', 'washed', 'abigail', 'legal', 'xp', 'sql', 'developer', 'ni', 'realizes', 'earned', 'fierce', 'rutgers', 'cal', 'quality', 'honoring', 'favourite', 'rotherham', 'juda', 'priest', 'slaybells', 'looting', 'lane', 'dust', 'curious', 'polling', 'individual', 'drag', 'letsgosun', 'ordinary', 'nikon', 'journalist', 'marie', 'colvin', 'prove', 'stolen', 'climbing', 'homemade', 'dani', 'po', 'popped', 'sophomore', 'sr', 'philadelphia', 'ik', 'gng', 'society', 'charity', 'mvokmm', 'bsbp', 'varitek', 'assistant', 'gm', 'reap', 'parkdale', 'aja', 'dreamteam', 'hqb', 'dsb', 'groove', 'perkins', 'okc', 'teammate', 'destroyed', 'mccain', 'anne', 'dat', 'dethklok', 'funes', 'mori', 'martinez', 'ramiro', 'perhaps', 'travelling', 'fitting', 'footy', 'goeagles', 'afleaglestigers', 'massage', 'chile', 'slight', 'ramsey', 'collins', 'thi', 'youtu', 'scared', 'reyouters', 'jpmorgan', 'chase', 'investment', 'banking', 'fang', 'downloaded', 'joseph', 'gee', 'ru', 'diego', 'valencia', 'sierra', 'phantom', 'opera', 'televised', 'calgary', 'editorial', 'plz', 'tca', 'danica', 'danielle', 'jbmeetdanica', 'rape', 'kindle', 'sunlight', 'oxygen', 'aint', 'gain', 'holly', 'magnetic', 'squeezed', 'fellow', 'unhealthy', 'freddy', 'universe', 'cleaning', 'hal', 'nominee', 'oiler', 'sekera', 'banned', 'explains', 'sings', 'paradise', 'banff', 'earl', 'khl', 'tragic', 'eps', 'richards', 'impression', 'neighbour', 'ci', 'canon', 'vuf', 'cesena', 'dan', 'du', 'dang', 'jamaica', 'reggae', 'procter', 'psat', 'pulse', 'freaky', 'lindsey', 'lohan', 'relation', 'exeter', 'emergency', 'personality', 'denied', 'bowing', 'flexthursday', 'dis', 'wit', 'crow', 'nest', 'calln', 'whol', 'souf', 'kum', 'trivia', 'daddy', 'logo', 'fraction', 'safari', 'featured', 'baker', 'eaten', 'patch', 'weep', 'desk', 'petr', 'cech', 'kickback', 'hb', 'wen', 'delmar', 'patrol', 'steel', 'aztec', 'yearly', 'jenni', 'byrne', 'symptom', 'malley', 'uncharted', 'tomb', 'dixie', 'tsunami', 'regardless', 'exposure', 'afp', 'pale', 'dedicated', 'announcer', 'novak', 'swfc', 'harsh', 'zg', 'negative', 'recognition', 'sheffield', 'hamstring', 'rp', 'blackburn', 'wide', 'melting', 'rim', 'disgrace', 'twat', 'sylvia', 'pole', 'convention', 'gutted', 'kfc', 'demand', 'shutdown', 'accomplished', 'oakland', 'taste', 'badass', 'jj', 'comfortable', 'rescheduled', 'knick', 'fragile', 'dems', 'sustain', 'colour', 'lemon', 'gruesome', 'none', 'backed', 'chad', 'mendes', 'interim', 'featherweight', 'drafted', 'sucked', 'oslo', 'temperature', 'outlook', 'therapy', 'ceremony', 'keller', 'charlotte', 'wrapping', 'lab', 'gut', 'ejection', 'sentence', 'internet', 'death', 'drone', 'nicole', 'henson', 'yoga', 'limbaugh', 'krit', 'wifi', 'isco', 'honesty', 'badly', 'directed', 'shaky', 'chum', 'lamb', 'cundiff', 'shank', 'torres', 'talkn', 'beef', 'upgradeyourworld', 'sergei', 'apartment', 'dentist', 'stack', 'farewell', 'adieu', 'swing', 'mute', 'rant', 'finance', 'dy', 'joyful', 'noise', 'adult', 'hiring', 'adviser', 'wise', 'plead', 'lawyer', 'rushing', 'sea', 'hou', 'qualifying', 'qbs', 'wilson', 'dump', 'giroud', 'coyg', 'gender', 'divide', 'suggest', 'powered', 'zn', 'oklahoma', 'taker', 'maxwell', 'lmfaoooo', 'payne', 'jon', 'pu', 'shoyould', 'loading', 'coyould', 'smokeout', 'locker', 'sutra', 'poorly', 'handy', 'abramovich', 'nicely', 'emerson', 'brew', 'optimist', 'sailor', 'curry', 'buffet', 'enjoyment', 'virus', 'pin', 'seo', 'author', 'designed', 'kurdish', 'frightening', 'islamist', 'embarrassing', 'department', 'moyes', 'moto', 'inq', 'iq', 'basic', 'bristol', 'ho', 'ying', 'yang', 'gavin', 'dislocating', 'wrist', 'provision', 'neither', 'brandon', 'brink', 'default', 'pi', 'swag', 'twitterverse', 'blowing', 'shannon', 'sharpe', 'fame', 'com', 'stomach', 'kidney', 'documentary', 'inspiration', 'fps', 'tease', 'garage', 'boro', 'opposite', 'apathy', 'brightly', 'schmidt', 'jewish', 'wahlberg', 'favoring', 'hardcore', 'diva', 'irrelevant', 'controversial', 'argue', 'lgbt', 'owes', 'gossip', 'faithful', 'hint', 'arda', 'yous', 'ip', 'bucs', 'quarterback', 'lllinkkk', 'swan', 'steph', 'rafael', 'accepted', 'gilmore', 'utility', 'increasing', 'nugent', 'counted', 'counting', 'christina', 'grimmie', 'roadtrip', 'exception', 'pint', 'chrome', 'browser', 'qse', 'fundamental', 'breakdown', 'coy', 'rachel', 'khoo', 'sinking', 'resignation', 'outdoor', 'quad', 'sav', 'nn', 'beard', 'brunch', 'oxford', 'hotty', 'toddy', 'glory', 'completing', 'qf', 'needa', 'pipa', 'reppin', 'mustang', 'casino', 'jeopardy', 'goodanswer', 'cantwait', 'pet', 'ran', 'northern', 'leo', 'mountain', 'longest', 'friggin', 'soooo', 'encounter', 'fichajes', 'convert', 'breast', 'destruction', 'comparing', 'passionate', 'democracy', 'defender', 'spartacus', 'trust', 'brett', 'apo', 'stylish', 'memorial', 'bishop', 'assassinated', 'barstool', 'tht', 'sylvain', 'papa', 'killer', 'consistency', 'gasquet', 'selects', 'derrick', 'mason', 'slot', 'conversion', 'jlo', 'kylie', 'insult', 'intelligence', 'basis', 'atleast', 'feedback', 'stressing', 'chilling', 'freeze', 'persie', 'wrestle', 'double', 'coren', 'correctness', 'damaged', 'aspect', 'ivy', 'coin', 'afterwards', 'negotiation', 'winans', 'shocked', 'turbo', 'aggression', 'boi', 'yz', 'hog', 'hittin', 'corny', 'eight', 'dumbest', 'sweep', 'midfield', 'sela', 'wy', 'wq', 'yearbook', 'vi', 'retro', 'bunker', 'amateur', 'guarantee', 'correctly', 'pure', 'dining', 'fatal', 'rollover', 'justify', 'usp', 'sopa', 'marc', 'hanna', 'goat', 'yost', 'hosmer', 'plain', 'bath', 'crappy', 'sjp', 'jacob', 'elevator', 'crashed', 'doctorwho', 'lavigne', 'rhyme', 'henryville', 'muse', 'gotham', 'yndash', 'wigan', 'clarification', 'emotion', 'draxler', 'ramires', 'pace', 'dem', 'organization', 'produced', 'nigerian', 'collaboration', 'dakota', 'tavern', 'revel', 'bey', 'mater', 'curse', 'mimic', 'saf', 'haircut', 'average', 'wanker', 'reduce', 'hundred', 'syngenta', 'syt', 'paarekeare', 'foare', 'colombia', 'salvador', 'coliseum', 'uga', 'dawgs', 'minneapolis', 'xtina', 'cheerful', 'pain', 'travis', 'nerd', 'caption', 'eve', 'wind', 'willow', 'scarlet', 'htt', 'dare', 'saltalamacchia', 'catcher', 'fisk', 'gedman', 'snc', 'yoghurt', 'female', 'bartender', 'tvshow', 'groaned', 'adjusted', 'pant', 'ohhhh', 'norman', 'reedus', 'he', 'risky', 'helmet', 'chest', 'jordy', 'unveils', 'slogan', 'drain', 'jalen', 'makeamericagreatagain', 'eastbound', 'jessica', 'shanghai', 'ram', 'vilma', 'qm', 'correct', 'nervous', 'twin', 'premire', 'stacey', 'gabriel', 'gabe', 'witnessing', 'thief', 'snatch', 'romantic', 'creighton', 'nears', 'completion', 'thousand', 'sally', 'billy', 'benzema', 'modric', 'located', 'presidency', 'kenyatta', 'rhode', 'lyft', 'ike', 'pretend', 'yolo', 'sardinia', 'ql', 'lambily', 'bure', 'nyr', 'lone', 'realtalk', 'cif', 'spartandawgs', 'amc', 'hy', 'tab', 'weighing', 'goalkeeper', 'smoker', 'dow', 'owns', 'maddow', 'teaparty', 'frosh', 'pine', 'confirm', 'niece', 'chemistry', 'touching', 'commented', 'krul', 'coloccini', 'midfielder', 'reportedly', 'monitoring', 'surgery', 'presley', 'semifinal', 'kaman', 'returning', 'bobcat', 'boom', 'pow', 'sayin', 'deca', 'bam', 'zion', 'stated', 'bud', 'alls', 'lookin', 'riri', 'malaysia', 'scariest', 'photography', 'pourier', 'olc', 'dasu', 'naiambb', 'lokomotiv', 'roster', 'karlis', 'skrastins', 'karel', 'rachunek', 'ruslan', 'salei', 'sydney', 'infamous', 'nrl', 'afl', 'bearing', 'nearing', 'tvnewser', 'ard', 'ransomware', 'jzj', 'lover', 'pork', 'operate', 'emabiggestfans', 'stressed', 'practical', 'chem', 'talented', 'brave', 'statistically', 'lgm', 'favre', 'multiple', 'kindly', 'distressed', 'hugh', 'gentleman', 'watsonville', 'trey', 'songz', 'neeson', 'addicted', 'cunningham', 'minny', 'nikki', 'haley', 'mma', 'console', 'float', 'feminist', 'exposed', 'flawless', 'ar', 'crowley', 'splurge', 'kc', 'exactly', 'cj', 'altitude', 'button', 'onstage', 'roundup', 'vw', 'minority', 'jigsaw', 'murderer', 'wyd', 'nfc', 'economic', 'mastered', 'tricky', 'sociedad', 'cet', 'sandal', 'sock', 'disc', 'bi', 'prague', 'kickoff', 'michaeljackson', 'nigrinht', 'basso', 'commissioner', 'described', 'osborne', 'ark', 'shakespeare', 'wiki', 'master', 'stratford', 'mam', 'encountered', 'receiving', 'nuclear', 'simmer', 'ki', 'arrives', 'pla', 'luca', 'response', 'deportation', 'kitten', 'kingsburg', 'hbo', 'technically', 'dedicate', 'watkins', 'glen', 'cartoon', 'storytelling', 'wolfsburg', 'jayxlmryhs', 'ddg', 'annoy', 'suspending', 'analyst', 'neon', 'titty', 'caused', 'lorenzo', 'raffle', 'bot', 'acc', 'exertis', 'nom', 'yu', 'mcilroy', 'steady', 'gucci', 'crushed', 'syncing', 'frustrated', 'ug', 'ue', 'zy', 'overcome', 'expensive', 'crawling', 'wooo', 'choir', 'leggo', 'xr', 'ugh', 'daytona', 'newspaper', 'jess', 'shotton', 'worthy', 'appletv', 'goosebump', 'split', 'impacted', 'afghan', 'caller', 'makeup', 'windsor', 'transformer', 'whew', 'controller', 'exact', 'unable', 'restore', 'whats', 'goshen', 'skool', 'technology', 'nasdaq', 'signature', 'cocky', 'bosh', 'raptor', 'carnival', 'mcdonalds', 'affirmative', 'tad', 'ek', 'laid', 'harrison', 'broadway', 'oooh', 'catwoman', 'woody', 'newport', 'sevilla', 'lw', 'hq', 'kirk', 'xc', 'emailed', 'expert', 'rob', 'kristen', 'robin', 'staring', 'yangtze', 'cuba', 'happier', 'franchise', 'herbicide', 'glyphosate', 'releasing', 'italian', 'ja', 'rod', 'sixteen', 'trio', 'whale', 'billie', 'icymi', 'qu', 'disaster', 'blaine', 'photoset', 'adorable', 'loveable', 'ajax', 'occurs', 'insomnia', 'oz', 'levin', 'intervention', 'reilly', 'competitive', 'darwin', 'understood', 'clarify', 'timmonsville', 'yd', 'stranger', 'aaah', 'bucket', 'cute', 'gampel', 'dujardin', 'charming', 'visitor', 'deathly', 'hallows', 'interest', 'sincerely', 'faster', 'elect', 'axis', 'robinson', 'teaser', 'heather', 'mvp', 'lantern', 'ion', 'marty', 'mcfly', 'sana', 'mag', 'beasley', 'fangirl', 'stroke', 'quit', 'region', 'cortex', 'smoking', 'addiction', 'xxtocuhe', 'remaster', 'limp', 'strictly', 'adrian', 'trent', 'justsayin', 'arguing', 'bruh', 'eg', 'mint', 'specimen', 'kirby', 'responsibility', 'landing', 'bryant', 'aged', 'keen', 'foreign', 'correspondent', 'scholarship', 'shaking', 'founder', 'drained', 'finalist', 'simcity', 'turk', 'bread', 'giveaway', 'eren', 'injected', 'suggests', 'redneck', 'demographic', 'reddit', 'treating', 'br', 'zachary', 'lang', 'yi', 'musical', 'frown', 'database', 'rufc', 'referendum', 'greatly', 'outcome', 'ch', 'monkey', 'pwr', 'bttn', 'wrestler', 'loop', 'backer', 'reaching', 'amused', 'commentary', 'kitty', 'reflection', 'laughing', 'philippine', 'contestant', 'portrait', 'create', 'levante', 'utah', 'sportscenter', 'acceptance', 'lt', 'alicia', 'ofcourse', 'span', 'ppl', 'wink', 'kane', 'fnf', 'richest', 'blu', 'graduated', 'fifth', 'gif', 'pca', 'haunt', 'wonderland', 'banda', 'limon', 'phablet', 'jailbreak', 'broom', 'glam', 'dodged', 'possibility', 'phony', 'apology', 'shove', 'doom', 'ebayus', 'motion', 'qv', 'devastated', 'ko', 'occupy', 'unmasked', 'production', 'cane', 'summary', 'essential', 'bonus', 'divo', 'entertain', 'prep', 'prevent', 'miracle', 'tribal', 'ians', 'arrest', 'trib', 'retired', 'foley', 'gadkari', 'islam', 'clan', 'ukraine', 'yc', 'bummer', 'raging', 'finder', 'romance', 'novel', 'mcfc', 'aerosmith', 'halen', 'carrow', 'coys', 'forgiven', 'madbum', 'accepting', 'silky', 'mouthed', 'akin', 'sportsnation', 'alice', 'harley', 'paige', 'saloon', 'chosen', 'crawford', 'airstrikes', 'telegraph', 'migration', 'referee', 'atkinson', 'advised', 'imagination', 'proceed', 'ebook', 'recall', 'extraordinary', 'confidence', 'trigger', 'redesigned', 'kept', 'clap', 'await', 'katt', 'epps', 'haman', 'pinata', 'skating', 'cmag', 'horny', 'grilled', 'rode', 'vika', 'footbal', 'naturally', 'handheld', 'owned', 'boo', 'virtual', 'development', 'reducing', 'par', 'macbook', 'rialto', 'bummed', 'kaya', 'blitz', 'nola', 'writer', 'kellogg', 'sixer', 'jl', 'cuddle', 'tee', 'ei', 'certain', 'mattress', 'whistler', 'meredith', 'drogba', 'preferred', 'aa', 'taught', 'lifting', 'rag', 'younique', 'ceballos', 'flowing', 'encryption', 'harder', 'gore', 'argument', 'recruit', 'iker', 'casillas', 'cardboard', 'xtra', 'studying', 'consist', 'putrajaya', 'fw', 'ef', 'painting', 'ohh', 'ky', 'deniesse', 'requirement', 'within', 'satisfied', 'hai', 'ping', 'enrile', 'thunderup', 'reread', 'foam', 'genetically', 'dino', 'dna', 'sunrise', 'standing', 'youfc', 'grad', 'seoul', 'carry', 'dah', 'miller', 'vids', 'rebirth', 'known', 'colin', 'powell', 'cmu', 'morn', 'zj', 'thunderstruck', 'gladly', 'niggaz', 'bron', 'kd', 'pks', 'wizard', 'waverly', 'lag', 'disruption', 'tia', 'pit', 'offline', 'starwars', 'winthrop', 'mz', 'mqm', 'womenpk', 'seemed', 'bearable', 'blurry', 'cataract', 'happyprimeday', 'outweighs', 'rebuilding', 'boston', 'settled', 'ponder', 'samantha', 'steele', 'jenn', 'hanging', 'grinen', 'defined', 'writes', 'admitting', 'bella', 'tardis', 'nlds', 'hugged', 'rioting', 'slater', 'unit', 'bk', 'maggette', 'tay', 'drummond', 'piston', 'quarterfinal', 'stretch', 'pq', 'wounded', 'translate', 'deed', 'blanket', 'midterm', 'incredible', 'traveling', 'transit', 'dun', 'kno', 'suffer', 'sdsu', 'toro', 'pulling', 'attributed', 'blink', 'scoring', 'vma', 'anticipation', 'auto', 'fy', 'awaiting', 'titus', 'gathering', 'mmm', 'mali', 'kingsmen', 'zelda', 'warner', 'landlord', 'cooperate', 'fleeing', 'positioning', 'logical', 'data', 'bigdata', 'analytics', 'hyun', 'approved', 'sauce', 'guilty', 'karrueche', 'scheme', 'arrangement', 'mentor', 'hawk', 'offense', 'elite', 'applied', 'wwii', 'bomb', 'jesse', 'cooky', 'vicente', 'bosque', 'here', 'effort', 'labyrinth', 'vamp', 'concordia', 'flacco', 'rat', 'smartphones', 'donny', 'proudly', 'waving', 'bold', 'fcc', 'bizarre', 'twist', 'arizona', 'flagship', 'superb', 'webbed', 'richard', 'craziest', 'thalia', 'assembly', 'muscle', 'slam', 'sbl', 'observation', 'uconn', 'bake', 'succeed', 'col', 'hardy', 'teamjorchel', 'cbsbigbrother', 'neville', 'gk', 'swim', 'opponent', 'tp', 'cinco', 'destination', 'woe', 'yup', 'hungover', 'juve', 'speedway', 'outright', 'runako', 'morton', 'velvet', 'cupcake', 'ua', 'checked', 'illegals', 'aways', 'okinawa', 'saga', 'covina', 'cq', 'shortstack', 'craigslist', 'fyoull', 'presenter', 'af', 'amici', 'dzeko', 'deputy', 'pregnant', 'goodtimes', 'sample', 'goblet', 'edit', 'clearance', 'principle', 'cyouz', 'bringthecuphome', 'context', 'stressful', 'educated', 'accident', 'tunnel', 'vols', 'payment', 'comedian', 'lately', 'nostalgic', 'qj', 'bound', 'gazette', 'embarrassed', 'coworkers', 'farmer', 'youve', 'gently', 'graduation', 'essentially', 'detective', 'turiaf', 'coq', 'santi', 'halcyon', 'srj', 'festivity', 'editor', 'collector', 'wenger', 'leonard', 'cohen', 'pony', 'emile', 'heskey', 'ruben', 'counter', 'incident', 'casually', 'hospital', 'however', 'ithink', 'applewatch', 'phew', 'snapped', 'curtain', 'sz', 'berkmar', 'ctv', 'prepares', 'blocked', 'honor', 'idaho', 'ahaha', 'additional', 'impersonator', 'orphan', 'amazayn', 'lerner', 'private', 'stem', 'med', 'nh', 'wage', 'rollin', 'convinced', 'perficient', 'thankyou', 'terrific', 'closet', 'acquired', 'ambition', 'harm', 'affected', 'vodka', 'japanese', 'viggle', 'bravo', 'outstanding', 'musician', 'vn', 'stoked', 'yur', 'presence', 'omega', 'danny', 'bo', 'sme', 'keisha', 'parallel', 'tagine', 'muscat', 'highland', 'youth', 'committed', 'sarcasm', 'vehicle', 'collar', 'nurburgring', 'cineplex', 'jm', 'mojo', 'leverage', 'folder', 'lennon', 'dx', 'desolate', 'gu', 'ellen', 'snuggle', 'wha', 'fury', 'minnesota', 'poem', 'volume', 'aired', 'coyountry', 'mcm', 'usps', 'undisputed', 'chaotic', 'oppose', 'method', 'vary', 'chevy', 'carlos', 'prod', 'nicer', 'swiss', 'searching', 'hamid', 'filthy', 'boondock', 'entirely', 'responsible', 'agriculture', 'crop', 'patent', 'sike', 'katrina', 'sphere', 'introduced', 'yl', 'oras', 'twisted', 'recep', 'tayyip', 'charging', 'psa', 'spotify', 'reunite', 'appearing', 'loco', 'dice', 'belushi', 'juliet', 'jake', 'haskell', 'tattoo', 'spc', 'meetup', 'apis', 'veil', 'albany', 'ajinkya', 'rahane', 'wicket', 'overtime', 'boris', 'byouy', 'latte', 'motd', 'kyounle', 'hunt', 'gp', 'niki', 'lauda', 'survey', 'keyboard', 'bon', 'jovi', 'obliged', 'brighton', 'phins', 'address', 'military', 'commander', 'kw', 'mentality', 'tweeter', 'vengeance', 'uefa', 'chasing', 'anytime', 'hydrogen', 'hfp', 'deck', 'condition', 'applying', 'prevents', 'ofc', 'downgrade', 'elliot', 'leaked', 'jumped', 'entrance', 'sideline', 'ix', 'bride', 'repost', 'hernanes', 'smacked', 'surprisingly', 'doll', 'entirety', 'wired', 'uoo', 'tg', 'bump', 'thumb', 'contrary', 'expectation', 'approves', 'liberalised', 'accord', 'islamabad', 'ibiza', 'planner', 'pax', 'jesuit', 'resource', 'picking', 'granny', 'bite', 'hasnt', 'protesting', 'hike', 'lechon', 'belly', 'azarenka', 'halep', 'montreal', 'maya', 'rudolph', 'jayz', 'edo', 'zb', 'px', 'banner', 'mikey', 'dye', 'dontbuythesun', 'zo', 'unconstitutional', 'violating', 'neymar', 'gemini', 'seal', 'cracked', 'craig', 'quickie', 'spear', 'listens', 'needle', 'miche', 'parma', 'offside', 'tiring', 'leonardo', 'convicted', 'xz', 'productive', 'nurse', 'rum', 'coke', 'zq', 'nth', 'narrative', 'xboxone', 'homies', 'foolishness', 'sweetie', 'hols', 'consists', 'shaun', 'safest', 'trophy', 'looter', 'hung', 'grandson', 'talkin', 'awww', 'risen', 'foles', 'attended', 'dominance', 'contrast', 'halfway', 'softball', 'adm', 'turner', 'listened', 'formal', 'chapter', 'chi', 'insight', 'lexi', 'attn', 'aw', 'napoli', 'hashtag', 'lolz', 'flesh', 'cheese', 'curl', 'snack', 'flatbush', 'helicopter', 'administration', 'barton', 'calm', 'elf', 'baddecisions', 'ruby', 'rz', 'whitstable', 'kent', 'oman', 'poured', 'stood', 'megadeth', 'theoretical', 'fn', 'pinch', 'wafer', 'complement', 'absolute', 'coup', 'appeal', 'hears', 'testing', 'athens', 'cleared', 'rid', 'kite', 'togetheare', 'fade', 'combine', 'porn', 'ideology', 'payton', 'uel', 'lazio', 'handset', 'withdrawal', 'mersey', 'installing', 'heating', 'sausage', 'hood', 'rendon', 'werth', 'msnbc', 'tbt', 'calvin', 'dive', 'mug', 'peanut', 'dp', 'chillin', 'ttqf', 'mqa', 'expects', 'hpw', 'cynical', 'focusing', 'natalie', 'intern', 'whenever', 'convenient', 'surrender', 'suzanne', 'ro', 'merson', 'biased', 'scorching', 'playhouse', 'spike', 'spoiler', 'representative', 'prior', 'palooza', 'aid', 'lovethem', 'nancy', 'urine', 'bother', 'rebelhearttour', 'yelling', 'pulis', 'expecting', 'tube', 'edited', 'impersonation', 'hiya', 'mite', 'bedroom', 'helsinki', 'oyj', 'gadget', 'technologist', 'superstorm', 'temp', 'lived', 'maggie', 'gyllenhaal', 'dominated', 'snbto', 'havent', 'worn', 'urban', 'pottsgrove', 'pottstown', 'oak', 'hj', 'hercules', 'maguire', 'prick', 'baller', 'sour', 'latter', 'instant', 'eats', 'sip', 'mesa', 'pyounk', 'ryoumble', 'hoop', 'lakeland', 'attendance', 'derbyday', 'ee', 'trailing', 'flynn', 'denmark', 'norway', 'sweden', 'mascot', 'konta', 'meadow', 'kf', 'rsvp', 'rosanne', 'bane', 'connors', 'assure', 'bfi', 'cleveland', 'weeping', 'replay', 'probowl', 'qbr', 'etnz', 'funded', 'amnesty', 'campaigning', 'convo', 'devon', 'msu', 'starkville', 'patrick', 'kansa', 'nationwide', 'wlmxrhfu', 'thor', 'odin', 'refugeeswelcome', 'migrantcrisis', 'geez', 'excessive', 'emu', 'crocs', 'dreadful', 'angelos', 'matching', 'towson', 'sheikh', 'goodison', 'faced', 'eatin', 'blackwell', 'robert', 'pattinson', 'root', 'cp', 'wilshere', 'doubtful', 'performed', 'gardening', 'nose', 'zdk', 'bra', 'wellies', 'haired', 'biscuit', 'who', 'lemme', 'bricksquad', 'ahmed', 'refaat', 'millennium', 'fiddle', 'whitney', 'napoleon', 'dynamite', 'dyoubai', 'nin', 'geek', 'lumpkin', 'dollathursdays', 'pep', 'atx', 'cloth', 'induction', 'loner', 'xy', 'yfd', 'electricity', 'efficiency', 'fabregas', 'jackal', 'payroll', 'redesigns', 'helpful', 'pleasant', 'etta', 'yoyoutyoube', 'canceled', 'grrrr', 'hornet', 'influence', 'cayouse', 'rwc', 'gartner', 'percent', 'sh', 'phenomenal', 'greta', 'loudly', 'pitching', 'awareness', 'recreation', 'crowded', 'dontjudgeme', 'proposition', 'superego', 'prom', 'marlies', 'jared', 'rc', 'secured', 'ballon', 'kalispell', 'rented', 'sherlock', 'gambit', 'ggs', 'ordering', 'climb', 'ladder', 'attribute', 'vocal', 'middleweight', 'mileage', 'aishwarya', 'legislative', 'solve', 'impasse', 'bee', 'poison', 'marked', 'headlining', 'fellowship', 'rockwell', 'branch', 'transferred', 'kang', 'flip', 'cordell', 'broadus', 'quitting', 'flirting', 'columnist', 'krugman', 'wawrinka', 'redundant', 'linkin', 'slr', 'vr', 'lens', 'randall', 'bailey', 'arguably', 'jaguar', 'polo', 'harvest', 'rev', 'morrow', 'mtn', 'buccaneer', 'briefing', 'xg', 'radical', 'bow', 'billboard', 'stacy', 'qh', 'appointment', 'peer', 'jkr', 'kikwang', 'mtg', 'freezing', 'hug', 'mit', 'drexel', 'wash', 'goalscorer', 'xq', 'nf', 'stinking', 'intro', 'hungary', 'durant', 'youngest', 'wassup', 'hahaa', 'pavilion', 'structure', 'threatened', 'zh', 'insanity', 'sd', 'safety', 'boost', 'cheap', 'coupon', 'code', 'batting', 'qxp', 'cooked', 'dried', 'garlic', 'wf', 'mental', 'caroline', 'tape', 'octobeare', 'recreate', 'arsene', 'surge', 'pod', 'kbc', 'ym', 'mary', 'teaming', 'bolder', 'unveiling', 'pocket', 'teamfollowback', 'engineering', 'abandoned', 'whopper', 'anniv', 'gh', 'lightly', 'touched', 'particular', 'nyg', 'forcing', 'turnover', 'psalm', 'arabia', 'friendship', 'pz', 'childish', 'connecting', 'dustin', 'reverse', 'mav', 'teenager', 'kr', 'premiering', 'unpacked', 'junior', 'milford', 'steal', 'engage', 'api', 'sponsor', 'earner', 'accent', 'lockstep', 'pot', 'attacking', 'bruin', 'copped', 'sterling', 'scream', 'selected', 'hampshire', 'winnipeg', 'bogosian', 'qyouestion', 'marijuana', 'smartest', 'marca', 'ib', 'blocking', 'tor', 'origin', 'granted', 'stranded', 'beliebers', 'bathroom', 'bumping', 'ito', 'fantasyfootball', 'snes', 'retrogaming', 'fut', 'magician', 'snl', 'statue', 'legazpi', 'abraham', 'ju', 'deserves', 'elizabeth', 'purdue', 'owen', 'turnt', 'benched', 'jennings', 'propaganda', 'dissent', 'plc', 'mew', 'tang', 'korn', 'wcw', 'stanford', 'wcc', 'xw', 'capt', 'imran', 'seth', 'rollins', 'wasting', 'linked', 'pouring', 'jd', 'onward', 'gibbs', 'bugging', 'halle', 'berry', 'digit', 'mln', 'cboe', 'stumbled', 'wig', 'tux', 'byu', 'satisfaction', 'zaterdag', 'samedi', 'receiver', 'amarillo', 'boring', 'autumn', 'fernando', 'footage', 'shameless', 'lucien', 'lux', 'gv', 'pullman', 'trumped', 'loyounge', 'participant', 'chunk', 'thankfully', 'kimdavis', 'resign', 'immediate', 'tinyurl', 'fulshctaj', 'nasa', 'implication', 'reo', 'riverfront', 'ave', 'stance', 'grid', 'experienced', 'millwall', 'beaten', 'qpr', 'sneijder', 'tremendous', 'dwc', 'cruising', 'sadiq', 'walmart', 'hhh', 'dilemma', 'refused', 'financial', 'burke', 'marshall', 'grandkids', 'meeee', 'obnoxiously', 'fla', 'cable', 'trench', 'frame', 'ey', 'pga', 'gma', 'pressed', 'pdf', 'luggage', 'deaf', 'unbelievable', 'grossing', 'hiding', 'fuckin', 'tanked', 'involve', 'ng', 'quantity', 'overly', 'aunt', 'ashamed', 'fought', 'wirecall', 'eden', 'qatar', 'bridgestone', 'slipped', 'competing', 'iebc', 'electoral', 'commission', 'stamford', 'reduced', 'mccoy', 'addressed', 'commit', 'tier', 'roy', 'hodgson', 'flea', 'chilly', 'lucy', 'hale', 'prettylittleliars', 'stuffed', 'widely', 'excepted', 'funnier', 'highbury', 'jag', 'sufjan', 'stevens', 'apollo', 'rv', 'politifact', 'iz', 'arabian', 'receives', 'charitable', 'extravaganza', 'cph', 'iniesta', 'bitter', 'suv', 'lx', 'cord', 'doomed', 'nextel', 'hv', 'westen', 'critique', 'dobuyvu', 'michigan', 'research', 'charley', 'heb', 'zkj', 'suspicion', 'ashley', 'identity', 'inadvertently', 'insert', 'shotgun', 'realising', 'smash', 'woodstock', 'newton', 'particularly', 'belongs', 'earthquake', 'psychic', 'minnie', 'tha', 'vc', 'corn', 'virgin', 'caddie', 'drama', 'compare', 'canned', 'fringe', 'mashup', 'goto', 'aim', 'unbeaten', 'fading', 'denny', 'dubious', 'auntie', 'panasonic', 'coincidence', 'utv', 'gurls', 'teenage', 'stanley', 'ghostbusters', 'philip', 'kinky', 'truely', 'sage', 'loan', 'coventry', 'funk', 'prob', 'firm', 'laborday', 'replacement', 'diplomatic', 'holder', 'pbbunlimited', 'divine', 'hitman', 'recapping', 'penelope', 'value', 'flashlight', 'angrin', 'connect', 'ukd', 'arthur', 'afcb', 'uva', 'rockstar', 'fluke', 'spit', 'scum', 'brah', 'confirming', 'twenty', 'lufc', 'cyber', 'hottieoftheweek', 'glider', 'adopted', 'mingus', 'adopt', 'stir', 'shammi', 'kapoor', 'shola', 'ringer', 'lexington', 'tall', 'tolerate', 'gc', 'pictured', 'eff', 'farley', 'norm', 'bros', 'out', 'cocktail', 'cherry', 'shootout', 'marco', 'roar', 'zoo', 'pnc', 'fife', 'janowicz', 'chili', 'pepper', 'omfg', 'thyours', 'dvr', 'myoust', 'harvard', 'columbia', 'princeton', 'esn', 'phillies', 'rocked', 'dominates', 'miserable', 'evolution', 'predator', 'vball', 'experiencing', 'getafe', 'anger', 'wnbc', 'clt', 'xo', 'lousy', 'lowered', 'poetry', 'protocol', 'illini', 'recognize', 'hub', 'justkidding', 'payed', 'ai', 'cristiano', 'portugal', 'noshame', 'arsed', 'hn', 'wrangler', 'omen', 'choosing', 'cnbc', 'xn', 'ville', 'necessarily', 'eggplant', 'westbrook', 'stepping', 'sleepy', 'bmw', 'weibo', 'coalition', 'extract', 'ridiculously', 'kj', 'aj', 'gearing', 'qi', 'madness', 'isle', 'yell', 'stare', 'spaghetti', 'fannibal', 'blaze', 'tj', 'za', 'cleanup', 'danced', 'aircraft', 'armed', 'inevitably', 'unemployment', 'laguna', 'corbyn', 'sneaker', 'daryl', 'butler', 'thin', 'arc', 'denies', 'jadeveon', 'clowney', 'comical', 'wah', 'dev', 'bil', 'upside', 'floyd', 'ryoussell', 'giggity', 'goo', 'marina', 'solidarity', 'hazare', 'teller', 'xa', 'involves', 'drastic', 'tnf', 'marcus', 'lattimore', 'mcgahee', 'registered', 'memphis', 'stopping', 'builder', 'outlet', 'fig', 'outbreak', 'drawn', 'salt', 'claro', 'homo', 'iranian', 'umes', 'portsmouth', 'manuel', 'sheeran', 'ally', 'vine', 'hundley', 'sack', 'peasant', 'eibar', 'avail', 'nothin', 'dnc', 'heal', 'excuse', 'hampton', 'hx', 'capella', 'appreciating', 'territory', 'tq', 'ups', 'doccie', 'cult', 'inviting', 'titan', 'openfollow', 'chyourch', 'bashing', 'shape', 'varsity', 'overnight', 'lz', 'yorkshire', 'entitled', 'skyline', 'dial', 'colossal', 'embracing', 'cantor', 'deg', 'rottweiler', 'bumgarner', 'apparent', 'pickin', 'cmh', 'mbb', 'slay', 'insulting', 'prison', 'eyebrow', 'nato', 'picnic', 'capcom', 'sequel', 'mil', 'owing', 'dailydouble', 'puba', 'pjjbn', 'vqitaxf', 'fvq', 'canal', 'humanity', 'statistic', 'rx', 'carbon', 'fiber', 'smfh', 'suggested', 'moonlight', 'tipped', 'briefly', 'kate', 'cx', 'smwldn', 'paralysis', 'upa', 'urge', 'laying', 'yf', 'y', 'downhill', 'fyoun', 'bahrain', 'regime', 'nabeel', 'rajab', 'cvmncb', 'elvin', 'clif', 'toad', 'wilt', 'stuns', 'elsewhere', 'analysis', 'haunted', 'woodland', 'punished', 'hunting', 'wouldnt', 'minimal', 'scorcher', 'sunset', 'catalogue', 'lecture', 'cart', 'gibbon', 'finland', 'contained', 'endorsing', 'minor', 'pe', 'biography', 'fye', 'santo', 'proposed', 'follows', 'raylan', 'log', 'sturridge', 'designing', 'windmill', 'moines', 'misha', 'chairman', 'mane', 'ditto', 'nsc', 'mallshow', 'wendy', 'legaspi', 'landco', 'grown', 'lotsa', 'towel', 'presser', 'forum', 'popularity', 'oo', 'sneaky', 'girly', 'irishman', 'neil', 'specie', 'memorable', 'pitbull', 'perception', 'snp', 'giarel', 'areated', 'azerbaijan', 'classroom', 'internal', 'cpi', 'nsg', 'hah', 'loool', 'softbank', 'subway', 'dean', 'pearce', 'giles', 'continental', 'blaming', 'amount', 'oblivion', 'cutler', 'preparation', 'pres', 'mandate', 'freestyle', 'bail', 'barak', 'clerk', 'jailed', 'dist', 'twitch', 'extreme', 'kga', 'sollecito', 'ivan', 'carried', 'ku', 'awaits', 'scenario', 'usu', 'castro', 'icing', 'marino', 'unboxing', 'darren', 'sammy', 'dwyane', 'der', 'dedicating', 'upbeat', 'reunited', 'celeb', 'appleton', 'whoo', 'wee', 'raped', 'completes', 'kk', 'downing', 'metal', 'tomo', 'kedzie', 'clout', 'requires', 'sudden', 'motherfucker', 'bca', 'brazilian', 'gooners', 'afford', 'bologna', 'bangkok', 'fcb', 'volkswagen', 'authenticity', 'clueless', 'songbird', 'vietnam', 'casa', 'tent', 'drewpeterson', 'lowe', 'cigarette', 'rella', 'whore', 'admire', 'eternity', 'michaela', 'plantation', 'ferrari', 'raymond', 'cma', 'idek', 'marseille', 'jolly', 'dwayne', 'pixel', 'improvement', 'chemical', 'jazzed', 'attorney', 'plastic', 'sth', 'ear', 'hkg', 'bestfriend', 'lowkey', 'interprets', 'interpretation', 'const', 'violation', 'padstow', 'grabbing', 'mocked', 'gamlingay', 'madrassa', 'simulia', 'nearby', 'pond', 'burdwanterror', 'msn', 'disingenuous', 'varane', 'boutta', 'differential', 'pedro', 'fiorina', 'lifestyle', 'translation', 'wesley', 'smarter', 'albuquerque', 'moz', 'cnet', 'responder', 'amazed', 'goodluck', 'uniteblue', 'premiership', 'vet', 'sufc', 'josef', 'saeed', 'kt', 'exorcism', 'basement', 'submitted', 'risked', 'faa', 'delivers', 'freakshow', 'warrant', 'emmy', 'bore', 'pjanic', 'disabled', 'mah', 'bbn', 'novemeber', 'sue', 'figured', 'telephone', 'joyce', 'exploration', 'chattanooga', 'disappoints', 'shopper', 'promised', 'ic', 'reckless', 'pundit', 'waiver', 'quid', 'deprived', 'selfie', 'juicy', 'notion', 'attendee', 'ag', 'ga', 'predicts', 'vatican', 'nsn', 'bbb', 'pool', 'cm', 'unnecessary', 'carrie', 'underwood', 'hayes', 'pegasus', 'phrase', 'hobby', 'awarded', 'newly', 'command', 'conquer', 'mindblowing', 'rockies', 'reg', 'vikes', 'aha', 'beanie', 'lunar', 'jacked', 'fml', 'lance', 'literature', 'unsure', 'memo', 'crawl', 'cutest', 'predict', 'ob', 'wembley', 'eid', 'inspire', 'mississippi', 'knocking', 'reset', 'humor', 'vinyl', 'matched', 'rehearsing', 'subscription', 'qol', 'tabor', 'prisoner', 'forevermore', 'rabbit', 'lc', 'allows', 'hazardous', 'comerica', 'stabbed', 'dunno', 'transforming', 'sync', 'wii', 'graphic', 'sealed', 'obstacle', 'hh', 'salmon', 'jumbo', 'venyous', 'haryana', 'dk', 'songwoo', 'suddenly', 'ily', 'knickstape', 'madden', 'wsj', 'homegrown', 'strait', 'aac', 'clubbing', 'realistically', 'rooting', 'rh', 'matrix', 'listing', 'binder', 'couch', 'claw', 'irish', 'cassadee', 'dia', 'underestimate', 'cynicism', 'loathing', 'characterizes', 'aime', 'aluminum', 'mcgraw', 'raspberry', 'eb', 'wearable', 'groin', 'ia', 'fifty', 'shade', 'enjoys', 'gup', 'flame', 'yq', 'syou', 'indoor', 'smartcamp', 'sometime', 'pausing', 'carpenter', 'www', 'jt', 'constityoution', 'protecting', 'stalker', 'buh', 'gunny', 'align', 'instrumental', 'reviewed', 'lox', 'admendment', 'pursuit', 'hahah', 'goody', 'staple', 'label', 'tuned', 'slut', 'rory', 'upto', 'neighborhood', 'borderline', 'journo', 'punting', 'composite', 'gt', 'sagna', 'theo', 'omarion', 'entertainer', 'sung', 'hebrew', 'midweek', 'ruth', 'welp', 'heineken', 'etsy', 'experiment', 'evelyn', 'tourism', 'beg', 'spec', 'lovin', 'hkp', 'unheralded', 'nathan', 'industrial', 'treatment', 'dinklage', 'cuddled', 'laker', 'faroes', 'tuning', 'confirmation', 'gaa', 'rebuild', 'baton', 'rouge', 'nationalist', 'colored', 'racking', 'braid', 'birdie', 'theyre', 'upgraded', 'und', 'psu', 'reluctant', 'louie', 'knife', 'outsold', 'breakup', 'tornado', 'spotted', 'walsh', 'jockey', 'gutierrez', 'fella', 'knee', 'wrestling', 'barry', 'swarm', 'credited', 'bethere', 'submission', 'pena', 'aowvebdr', 'huntington', 'carmel', 'glamour', 'reunion', 'koch', 'hound', 'graduate', 'qp', 'gz', 'det', 'lean', 'afr', 'woops', 'wearetexans', 'cartridge', 'frozen', 'canyon', 'ppv', 'cabbage', 'volstead', 'rochester', 'focused', 'trippy', 'toothpaste', 'juh', 'cinderella', 'jh', 'notreally', 'tommorrow', 'developed', 'conceptual', 'peru', 'shazia', 'ilmi', 'ayoug', 'suisse', 'guided', 'mg', 'moroccan', 'eleven', 'pee', 'patient', 'pinned', 'sustained', 'org', 'tmr', 'verona', 'lu', 'rested', 'woyould', 'upgrading', 'hack', 'travi', 'dh', 'gaza', 'hamas', 'mouse', 'bn', 'locomotive', 'applelive', 'newscast', 'suggesting', 'sabr', 'yeay', 'yoo', 'jae', 'tolerance', 'hrc', 'somalia', 'cecafa', 'uganda', 'caution', 'booking', 'passer', 'ignorance', 'havefun', 'ppp', 'stfu', 'millionmemories', 'squirrel', 'denali', 'recap', 'contention', 'christy', 'youre', 'demanded', 'ken', 'alesso', 'jade', 'cous', 'everywhere', 'distraction', 'miralem', 'siro', 'runway', 'quentin', 'jane', 'rattled', 'vol', 'accompany', 'amazonprimeday', 'durham', 'outta', 'compton', 'hush', 'reb', 'wae', 'supersport', 'bidvest', 'moripe', 'admission', 'dere', 'jorge', 'jamrock', 'qkp', 'liz', 'retweeted', 'skash', 'nashsnewvideo', 'zan', 'provider', 'beaver', 'shoutout', 'scalloped', 'vorby', 'repetitive', 'cirque', 'memoir', 'desert', 'lancaster', 'posh', 'coupe', 'replying', 'pap', 'darcis', 'comprehensive', 'properly', 'investigation', 'chaos', 'kasich', 'driven', 'blackboard', 'similaareity', 'mohandas', 'naareendarea', 'dandi', 'maarech', 'woareking', 'thareough', 'maroon', 'machinelearning', 'hardly', 'script', 'asian', 'devs', 'psuvsmich', 'rajan', 'dieu', 'aroyound', 'opportyounity', 'tot', 'brilliance', 'lipa', 'taster', 'wrestlemania', 'x', 'lte', 'fabian', 'delph', 'leather', 'younderstand', 'ounce', 'sac', 'pcb', 'tackle', 'louisville', 'mixing', 'tradition', 'fedora', 'smaller', 'clyoub', 'storyline', 'grim', 'embarrassment', 'endure', 'whistle', 'infects', 'benue', 'tearing', 'tooo', 'insensitive', 'isaac', 'liquor', 'movienews', 'immortal', 'bq', 'predecessor', 'reminded', 'hobbit', 't', 'topstories', 'educate', 'estella', 'vmas', 'hispanic', 'nipple', 'casey', 'miranda', 'fr', 'princess', 'resolution', 'sliced', 'amnesia', 'pek', 'tipsy', 'depaul', 'boxset', 'outline', 'imo', 'pardew', 'youse', 'range', 'armory', 'walter', 'shabbos', 'tame', 'impala', 'hologram', 'chrissy', 'genetics', 'panorama', 'hatchet', 'dug', 'screamed', 'armenian', 'vineyard', 'feelin', 'kenyan', 'olimpico', 'szczesny', 'dash', 'tribe', 'maniaci', 'superman', 'dodge', 'df', 'pinkcity', 'bedside', 'mubarak', 'arse', 'hotter', 'lib', 'knackered', 'unloading', 'douche', 'revised', 'frigging', 'troubled', 'tasty', 'comb', 'haka', 'welcomed', 'comfy', 'burna', 'fgye', 'imperial', 'pete', 'organised', 'pooh', 'oppa', 'meat', 'nuff', 'sumbodies', 'elementary', 'yaaaay', 'stupidity', 'meow', 'moscow', 'salina', 'gomez', 'dir', 'dual', 'publishing', 'xh', 'glitchy', 'bridesmaid', 'lower', 'rcf', 'truestory', 'expires', 'whisky', 'nationally', 'isa', 'mga', 'iba', 'witness', 'travelled', 'jelly', 'bean', 'alc', 'revue', 'hypocrisy', 'depth', 'soaked', 'bleach', 'lime', 'mentally', 'berlin', 'soaking', 'yx', 'civic', 'tru', 'og', 'catalonia', 'fdi', 'fascinating', 'residence', 'chipotle', 'fawkes', 'presently', 'dislike', 'improves', 'optional', 'notification', 'pn', 'mendez', 'shite', 'despise', 'poverty', 'income', 'depending', 'rope', 'mistaken', 'weigh', 'bacolod', 'backup', 'miguel', 'sn', 'traditional', 'buzzer', 'beater', 'primetime', 'simplifies', 'procedure', 'simpler', 'footloose', 'louise', 'owning', 'twitpic', 'qr', 'puff', 'stud', 'assisted', 'discovery', 'longo', 'satellite', 'foursquare', 'recognise', 'chord', 'selfies', 'oq', 'dip', 'introduction', 'volunteering', 'rq', 'retiring', 'jen', 'exhibit', 'nina', 'predictable', 'framed', 'monterey', 'schalke', 'cited', 'hired', 'being', 'ndp', 'paddy', 'glove', 'switching', 'fredonia', 'luton', 'milky', 'ransacks', 'dwarf', 'astronomer', 'xb', 'hindsight', 'shared', 'primed', 'banana', 'dolly', 'shania', 'screaming', 'mee', 'weave', 'barclays', 'scroll', 'portrayal', 'mere', 'raised', 'rejected', 'worm', 'connecticut', 'blockbuster', 'picasa', 'lago', 'lafayette', 'goducks', 'sanctuary', 'pinter', 'cuties', 'ahhhhh', 'turntable', 'jew', 'fasting', 'sportsnews', 'manc', 'kot', 'vz', 'rhythm', 'balanced', 'pattern', 'dated', 'iw', 'ashe', 'afterward', 'skyping', 'hardest', 'blackpool', 'lfa', 'lynch', 'michele', 'prosecution', 'grass', 'dispatched', 'periscope', 'sounder', 'grow', 'caring', 'battlefield', 'suspect', 'arson', 'ld', 'directv', 'interviewed', 'attracted', 'unheard', 'sty', 'yhoo', 'std', 'vl', 'qz', 'yer', 'devine', 'excitedmuch', 'keef', 'technical', 'ritual', 'underworld', 'xf', 'pacino', 'foundry', 'vv', 'sensitive', 'zen', 'obvioyously', 'zeppelin', 'postseason', 'quo', 'foxct', 'lawson', 'partly', 'hamilton', 'sevrdw', 'walrus', 'extensive', 'prophecy', 'reparation', 'sponsoring', 'contacted', 'taipei', 'gumbo', 'devo', 'fitz', 'barbara', 'mfl', 'sched', 'dealing', 'inbox', 'marquette', 'mgm', 'vm', 'asif', 'treasure', 'starlight', 'significant', 'summit', 'tingle', 'norton', 'adel', 'jubeir', 'crown', 'prevention', 'aldean', 'autobiography', 'erin', 'telltale', 'terkura', 'iorpuu', 'trolling', 'impatient', 'arrogant', 'opposition', 'recruitment', 'falque', 'hotspur', 'upstairs', 'c', 'shortly', 'subscriber', 'matinee', 'jz', 'greater', 'attends', 'bedtime', 'strive', 'knightley', 'keira', 'nonprofit', 'burlington', 'jamaican', 'iditarod', 'mbt', 'wo', 'situation', 'aquarius', 'qa', 'sitcom', 'mattered', 'wg', 'hg', 'rewatching', 'cheetos', 'qk', 'beverly', 'fence', 'boss', 'scientist', 'chesterfield', 'fenerbahce', 'burp', 'armbar', 'kicker', 'restraint', 'brawl', 'bleeding', 'scrub', 'wisin', 'yandel', 'aberdeen', 'eurovision', 'klub', 'todo', 'nasheed', 'fky', 'thingsaboutmybestfriend', 'snickerdoodle', 'funkstar', 'luxe', 'cheaper', 'olivia', 'fucker', 'roommate', 'transparently', 'explode', 'nostalgia', 'tsu', 'hc', 'ovc', 'palm', 'dorm', 'spokesman', 'temptation', 'breezy', 'cuadrado', 'insists', 'maidan', 'dished', 'orr', 'ssu', 'equally', 'terrence', 'armin', 'bluray', 'glorified', 'pompano', 'sweetness', 'broyought', 'cosplay', 'booing', 'lh', 'capitalpride', 'nephew', 'meatloaf', 'stable', 'cardio', 'wallet', 'commerce', 'baldwin', 'required', 'chuck', 'capri', 'ironman', 'glimpse', 'cuddling', 'warming', 'booed', 'guilt', 'alfy', 'belo', 'vxn', 'odessey', 'gca', 'methinks', 'survived', 'vlr', 'fingerscrossed', 'ows', 'cio', 'trumka', 'vicki', 'peaked', 'cbb', 'reversed', 'ginobili', 'ethan', 'frome', 'bury', 'catering', 'menu', 'trait', 'thanking', 'mornin', 'evenin', 'trading', 'gunner', 'covent', 'bnds', 'tyrann', 'mathieu', 'dg', 'pvr', 'canary', 'bloke', 'prada', 'idy', 'damaging', 'securing', 'palestine', 'enterprise', 'mobility', 'felix', 'questionable', 'waaa', 'amongst', 'sauna', 'flush', 'yn', 'kbx', 'prr', 'retailer', 'tramp', 'construction', 'northbound', 'causing', 'utterly', 'freakin', 'luncheon', 'bunnings', 'holland', 'relay', 'cite', 'backward', 'trynna', 'foundation', 'guessed', 'benedict', 'imaginary', 'revision', 'gerrard', 'keeper', 'substitute', 'poised', 'echelon', 'judgement', 'kurtcobain', 'seriea', 'puppy', 'mellow', 'sandusky', 'skiing', 'skye', 'woulda', 'vibe', 'successfully', 'defended', 'endorsed', 'flavoured', 'install', 'lollipop', 'lease', 'bracket', 'primeday', 'li', 'spam', 'dopest', 'includes', 'survivor', 'subplot', 'somber', 'vanpride', 'fj', 'clinic', 'tribune', 'believed', 'transformed', 'ghoul', 'pairing', 'shiver', 'spraying', 'viewed', 'scotyous', 'ryouling', 'alliance', 'kurd', 'tidbit', 'invasion', 'worship', 'effective', 'warfare', 'narda', 'googlealerts', 'watchos', 'bd', 'bigot', 'vy', 'twain', 'fooling', 'skrillex', 'jacku', 'perlak', 'perryton', 'object', 'obscured', 'fleebaggers', 'venture', 'payback', 'lena', 'tested', 'logging', 'destroying', 'carly', 'initiative', 'enrique', 'marcos', 'afrojack', 'alpha', 'knowledge', 'anticipating', 'shy', 'ocd', 'throwbackthursday', 'matty', 'offical', 'dudley', 'ecuador', 'gy', 'dool', 'ciara', 'rafe', 'bangtidy', 'revival', 'task', 'allentown', 'vg', 'zc', 'tahun', 'substantial', 'uma', 'thurman', 'numbered', 'superstitious', 'starland', 'meme', 'witch', 'banker', 'rice', 'aaa', 'bearcat', 'vista', 'conspiracy', 'stokes', 'charm', 'omelette', 'parliamentary', 'cube', 'urged', 'illness', 'loyalty', 'dramatic', 'indvwi', 'uncertain', 'vision', 'bobmarley', 'deceptive', 'rapid', 'ancient', 'specifically', 'fiona', 'engaged', 'wdc', 'mcallen', 'rallying', 'donohue', 'inquiry', 'gud', 'rumoured', 'yeahhh', 'ditch', 'primavera', 'preferably', 'stew', 'brim', 'bln', 'goddess', 'icis', 'unix', 'custody', 'stabbing', 'wat', 'eto', 'eskom', 'frock', 'proceeds', 'fia', 'biebertoday', 'gta', 'aisle', 'bruv', 'analysing', 'lodge', 'camden', 'asu', 'switzerland', 'initial', 'slum', 'nvm', 'rivalry', 'cbbc', 'untill', 'solar', 'connected', 'avb', 'mata', 'backfire', 'tannehill', 'bubba', 'iparty', 'poppik', 'iwatch', 'remake', 'charr', 'stared', 'bh', 'sungkyunkwan', 'slowest', 'lieberman', 'coastal', 'lasted', 'woah', 'hu', 'rushed', 'thoyought', 'credible', 'shawty', 'wmc', 'rr', 'boyz', 'relegated', 'cimbclassic', 'camping', 'perfection', 'tripped', 'molly', 'punched', 'starring', 'allie', 'buried', 'shitting', 'hazard', 'hotties', 'fixing', 'discussion', 'edged', 'outburst', 'dq', 'karma', 'attacked', 'padre', 'victorious', 'tender', 'imposed', 'mono', 'cellular', 'dabears', 'pembroke', 'unrealistic', 'assad', 'hooper', 'previously', 'evidence', 'bulletin', 'ganda', 'pala', 'url', 'consent', 'coleman', 'advocate', 'kohlschreiber', 'kuya', 'gloc', 'percy', 'teamed', 'weirdly', 'sized', 'pour', 'grip', 'wishlist', 'hewlett', 'packard', 'eunhae', 'icn', 'pasadena', 'abou', 'monica', 'associated', 'iqaluit', 'persona', 'placing', 'micca', 'snsd', 'diagnosed', 'strain', 'yum', 'fantazia', 'russian', 'homestretch', 'lightweight', 'goa', 'legislator', 'panaji', 'cleaned', 'innocent', 'torre', 'testify', 'dumped', 'pleasure', 'limerick', 'sigma', 'notified', 'fined', 'access', 'showgirl', 'emcee', 'cowboysandaliens', 'remark', 'westbound', 'ongoing', 'inspection', 'avi', 'shakhtar', 'hubby', 'crayon', 'lpc', 'spoarets', 'playbook', 'playeares', 'usb', 'bethlehem', 'procrastinate', 'placement', 'butterworth', 'glasgow', 'snoopadelic', 'tow', 'dribble', 'disrespectful', 'fiorentina', 'mercyhurst', 'bannerman', 'yds', 'cope', 'ivanovic', 'serbian', 'wasted', 'arnold', 'wl', 'flippin', 'parenting', 'phish', 'brooke', 'birthplace', 'throughout', 'mashasha', 'asheville', 'dreamwave', 'observer', 'prelim', 'luxury', 'garrett', 'woken', 'needing', 'zv', 'shay', 'bookie', 'penciled', 'endless', 'rj', 'hybrid', 'stamped', 'elliott', 'prominent', 'sheep', 'distinguished', 'sibling', 'jn', 'investigating', 'indvswi', 'westindies', 'defo', 'barrymore', 'lacma', 'hitter', 'mortal', 'nowt', 'shazam', 'littt', 'muslim', 'complementary', 'pistorius', 'dock', 'kayla', 'forgotten', 'arolladora', 'schultz', 'craft', 'linux', 'linuxone', 'bmt', 'ftm', 'hump', 'collab', 'decorate', 'burrito', 'lily', 'privilege', 'iur', 'revenge', 'masonic', 'symbol', 'improve', 'formula', 'collapse', 'mblaq', 'ovo', 'similarity', 'nerve', 'poe', 'freed', 'humanrights', 'reus', 'chagrined', 'nbsp', 'vt', 'consisted', 'jpc', 'pmln', 'marrying', 'rembrandt', 'div', 'insanely', 'ccot', 'foxnews', 'ipt', 'dez', 'hence', 'soft', 'exploding', 'tfa', 'abort', 'sacha', 'baron', 'falsely', 'daario', 'protested', 'singh', 'gel', 'polish', 'aquino', 'cady', 'cambridge', 'immediately', 'merica', 'interference', 'hezbollah', 'regarded', 'unnecessarily', 'litre', 'ghandi', 'pdc', 'consisting', 'coulthard', 'peso', 'teddy', 'bridgewater', 'gth', 'insta', 'temper', 'robbed', 'affiliation', 'stiff', 'carrick', 'uq', 'duncan', 'tyson', 'chandler', 'kidd', 'wade', 'caucus', 'ibaka', 'salty', 'randy', 'jf', 'progressive', 'tnt', 'pussy', 'handsome', 'myt', 'adore', 'encore', 'fitzgerald', 'avenger', 'cloudy', 'lhrefd', 'piazza', 'bullpen', 'surreal', 'dz', 'frenchman', 'kink', 'forza', 'sus', 'humane', 'bombing', 'civilian', 'ponce', 'scarborough', 'paolo', 'maldini', 'recalled', 'doodle', 'wakey', 'attempting', 'hbu', 'physically', 'lovatics', 'btr', 'query', 'sarahglive', 'jerricho', 'cotchery', 'haalmadrid', 'mths', 'preorder', 'fruit', 'buenos', 'aire', 'shamble', 'vocabulary', 'cosmo', 'spontaneously', 'cue', 'copeland', 'leprechaun', 'bowler', 'meego', 'slug', 'aide', 'refusal', 'lookout', 'cz', 'publisher', 'announc', 'declares', 'duffy', 'barnes', 'nv', 'refusing', 'petty', 'se', 'utter', 'teach', 'robot', 'edt', 'ronpaul', 'aboard', 'ada', 'unlimited', 'pelosi', 'allegedly', 'distributed', 'bootleg', 'galing', 'tagalog', 'scrapbook', 'smooch', 'beacher', 'swindon', 'sims', 'buzztap', 'diehard', 'expressed', 'scan', 'spokane', 'spireites', 'duma', 'cab', 'wan', 'fsm', 'wiiu', 'nutshell', 'hcu', 'optimistic', 'congratulate', 'hassle', 'footballer', 'jx', 'bafana', 'tend', 'portrayed', 'lf', 'halp', 'delight', 'alike', 'accoyount', 'hammer', 'dumping', 'auction', 'lacking', 'costa', 'coyounting', 'slim', 'throyough', 'thrash', 'regionals', 'pointy', 'evolutionary', 'franzen', 'quits', 'neutral', 'sx', 'irsay', 'apt', 'recruiting', 'scheduling', 'coincide', 'agreeing', 'walcott', 'cleo', 'bondage', 'wv', 'published', 'disturbing', 'comme', 'q', 'internship', 'sandra', 'blazer', 'jc', 'demonstration', 'tami', 'talib', 'cristian', 'ux', 'innovator', 'mdc', 'sweating', 'knocked', 'sneaking', 'ease', 'aplin', 'vo', 'lxm', 'computicket', 'blah', 'creepy', 'pimp', 'chronicle', 'messenger', 'teammelo', 'campnou', 'bragging', 'explore', 'fluidity', 'wacky', 'clever', 'eliminating', 'yaaaaay', 'msm', 'nnsqyw', 'kfab', 'immunity', 'fuckyes', 'iacaucus', 'betrayal', 'lulu', 'fk', 'landmark', 'microsd', 'canberra', 'bend', 'tba', 'baroda', 'wyoud', 'grew', 'tiff', 'veteran', 'ualr', 'sbc', 'eliminate', 'import', 'paula', 'mara', 'essay', 'rl', 'fiji', 'deeper', 'prequel', 'complicated', 'yolanda', 'vendor', 'avon', 'graveyard', 'setup', 'izzy', 'ganache', 'highway', 'zp', 'amandaknox', 'nga', 'dmd', 'sentinel', 'tgif', 'albans', 'lowering', 'rtesoccer', 'jenson', 'corruption', 'utb', 'hideous', 'tinder', 'weatherbomb', 'appreciation', 'turin', 'concluded', 'niw', 'trek', 'amitabh', 'bachchan', 'colo', 'deserved', 'toupee', 'fumble', 'beeyotch', 'mamacitas', 'hyatt', 'cpfc', 'observed', 'apoel', 'claire', 'mh', 'environmental', 'advisor', 'rva', 'griffin', 'elex', 'cea', 'motif', 'tupac', 'mingming', 'nb', 'afghanistan', 'slammed', 'sheesh', 'qt', 'richmond', 'riverside', 'zr', 'nun', 'demolish', 'constantcontact', 'banter', 'terrace', 'psyche', 'pereira', 'lowest', 'scratch', 'repeal', 'pjnet', 'oth', 'illegally', 'calhoun', 'augustana', 'develop', 'gardner', 'shorter', 'panic', 'fueling', 'lisa', 'butter', 'fayoult', 'evalesco', 'communist', 'bent', 'ax', 'booze', 'fro', 'otz', 'uka', 'proving', 'socialmedia', 'closure', 'chievo', 'contempt', 'surpass', 'lololol', 'aapl', 'temporary', 'heavyweight', 'assistance', 'aguero', 'stan', 'looted', 'intolerance', 'classmate', 'pursue', 'spree', 'stint', 'matteo', 'bachmann', 'strangely', 'innovation', 'kaka', 'believing', 'reputation', 'thirteen', 'dull', 'tiote', 'shoutouts', 'mdna', 'fortunately', 'cudi', 'resistance', 'kay', 'fountain', 'kx', 'pei', 'favorited', 'relate', 'mq', 'paved', 'inteareviews', 'constituency', 'stink', 'brewer', 'pennant', 'usm', 'filter', 'procrastination', 'wes', 'knell', 'bancorp', 'mueller', 'bendtner', 'lols', 'unloaded', 'octagon', 'excess', 'messed', 'vii', 'gf', 'snapshot', 'briefed', 'servicing', 'gx', 'refer', 'thrilled', 'lcg', 'tshirt', 'staffer', 'sma', 'loftus', 'zack', 'ryder', 'quartet', 'stash', 'drill', 'terri', 'grilling', 'hbn', 'spooky', 'established', 'cody', 'hahahah', 'cheque', 'creature', 'hostage', 'hetero', 'jos', 'chuckle', 'whitecap', 'psy', 'rand', 'qop', 'franko', 'gray', 'atta', 'jcc', 'leslie', 'displaced', 'oven', 'unlocked', 'unlock', 'kpt', 'marriott', 'outareeach', 'capable', 'nooooooo', 'thnx', 'pentagon', 'ary', 'scorecard', 'viable', 'joking', 'frustration', 'registering', 'housing', 'qualifies', 'horizon', 'cough', 'lateshow', 'ing', 'pricing', 'aswell', 'booming', 'forth', 'paycheck', 'cecil', 'dylan', 'hooch', 'qualy', 'pitlane', 'corporate', 'redundancy', 'dogringrin', 'glance', 'kandid', 'roland', 'cer', 'nsuba', 'sorta', 'ninja', 'turtle', 'wdbj', 'unbreakable', 'embarrass', 'machina', 'ersparadise', 'marlene', 'ano', 'promoter', 'poo', 'doj', 'equipment', 'banged', 'eq', 'dempsey', 'illustrates', 'mascara', 'impromptu', 'jaw', 'sachin', 'kohli', 'ath', 'virginia', 'ehn', 'provincial', 'coca', 'cola', 'opposed', 'golfer', 'pronounce', 'nathalie', 'wareagle', 'vanguard', 'perez', 'tailgate', 'starve', 'minimum', 'increased', 'villain', 'talklikeyourbestfriend', 'uploading', 'sheff', 'giuseppe', 'iapxgowqne', 'grassroots', 'effectively', 'tension', 'presale', 'iain', 'cunt', 'tit', 'aff', 'aesop', 'funeral', 'issued', 'controlling', 'bjpblackmoneydhokha', 'mariner', 'jel', 'haggle', 'posing', 'ether', 'huhuhuhu', 'showcase', 'spiderman', 'generous', 'loyouis', 'tommorow', 'babysitting', 'judging', 'ollg', 'akp', 'dancefloor', 'ugubmd', 'dim', 'legging', 'tristan', 'bayreuth', 'syoure', 'tapper', 'pip', 'reynolds', 'clumsy', 'knicksnation', 'goblue', 'glued', 'zoe', 'joan', 'armatrading', 'kym', 'xhosa', 'morvite', 'jace', 'racer', 'loll', 'scheming', 'defensively', 'boulder', 'stump', 'staten', 'motivation', 'goon', 'strutting', 'contender', 'inconclusive', 'forensic', 'shawn', 'mandatory', 'colony', 'seemingly', 'morse', 'ari', 'jasmine', 'lat', 'sipping', 'corral', 'sorted', 'uncut', 'dn', 'acount', 'liver', 'pummel', 'resorting', 'londonriots', 'remote', 'birdcage', 'abit', 'grrrrrrr', 'yy', 'kstate', 'bryce', 'frost', 'interception', 'cen', 'prog', 'gots', 'batter', 'labrinth', 'rudimental', 'escape', 'backdoor', 'wayland', 'machete', 'cmaawards', 'walai', 'gosling', 'cabana', 'hoe', 'brighten', 'reopen', 'collide', 'athletic', 'elha', 'exceptional', 'invest', 'wknd', 'slant', 'lambeau', 'gaining', 'madeofblack', 'heroic', 'wweraw', 'separate', 'publication', 'sne', 'qd', 'cle', 'spy', 'pmqs', 'tracking', 'bluegrass', 'wd', 'dstv', 'uj', 'buffoon', 'gibson', 'tz', 'escobar', 'winger', 'serf', 'displeased', 'smp', 'allstars', 'clairmont', 'formally', 'commotion', 'stadio', 'morocco', 'stk', 'calculated', 'sunbathing', 'telecom', 'slander', 'indowantsgreenday', 'constant', 'drip', 'hilary', 'discounted', 'loo', 'assumed', 'vfl', 'soundsgoodtome', 'superior', 'fastest', 'mel', 'alleged', 'bec', 'tooth', 'paleyfest', 'grinoingrin', 'nr', 'originally', 'mack', 'pius', 'sti', 'recommendation', 'mv', 'wid', 'bukas', 'naman', 'cod', 'faded', 'embry', 'riddle', 'charter', 'tusk', 'mummy', 'ozil', 'kwi', 'puma', 'annulling', 'moss', 'sponsored', 'jaswant', 'cern', 'prophet', 'trb', 'stoppage', 'mdp', 'verdict', 'mainland', 'gabby', 'pally', 'headphone', 'formerly', 'ignored', 'outset', 'lsi', 'arvo', 'chant', 'droppin', 'hondo', 'reboot', 'ma', 'recovering', 'hangover', 'breath', 'cassill', 'succeeded', 'convincing', 'underground', 'flz', 'kat', 'frnd', 'mads', 'suicide', 'sunanda', 'pushkar', 'askin', 'chael', 'rite', 'procrastinating', 'pineapple', 'sherbet', 'scallop', 'iohc', 'mxm', 'truce', 'kv', 'yelawolf', 'scutaro', 'latino', 'rubbish', 'operative', 'innovative', 'wagon', 'managing', 'inmarsat', 'replied', 'callum', 'benjamin', 'siuenation', 'sarkisian', 'dann', 'stfc', 'hectic', 'recite', 'pri', 'perth', 'binary', 'viva', 'appalling', 'criticize', 'venice', 'fulham', 'assuming', 'dans', 'ski', 'perf', 'mush', 'punishing', 'spinach', 'am', 'joes', 'simpson', 'debacle', 'affordable', 'busted', 'gether', 'yg', 'ddd', 'syracuse', 'mckinnon', 'tub', 'breakdance', 'fairly', 'gravity', 'foxconn', 'chennai', 'puppet', 'dyoutch', 'youncles', 'skimmlife', 'generated', 'sofia', 'leah', 'uniform', 'exp', 'halftime', 'loooool', 'appreciated', 'numerous', 'barcode', 'transaction', 'doorstep', 'trunk', 'forgive', 'shark', 'cape', 'mormon', 'michaelvick', 'weighs', 'shoulda', 'likened', 'bromwich', 'albion', 'aktv', 'dispatch', 'shaped', 'som', 'upwards', 'bidding', 'launcher', 'ucf', 'rumourz', 'annahazare', 'duratma', 'payday', 'sofa', 'chop', 'cedar', 'cud', 'jst', 'alotta', 'indiedev', 'tourist', 'roberto', 'pplhdtv', 'icecarats', 'boardwalk', 'wain', 'brake', 'inner', 'myspace', 'grit', 'motivational', 'bps', 'housemate', 'blowout', 'riley', 'barbz', 'jumbotron', 'practicing', 'clothing', 'mbn', 'pwede', 'oare', 'gino', 'circus', 'firmware', 'meurs', 'wainwright', 'printing', 'grime', 'cof', 'subscribe', 'loses', 'rude', 'laundry', 'kolkata', 'hallway', 'paisley', 'grump', 'tango', 'ovation', 'foxtel', 'mayweather', 'bhramabull', 'fbf', 'beloved', 'constantly', 'witten', 'omggg', 'governing', 'angelou', 'ruining', 'revoke', 'violate', 'poirier', 'mantra', 'aet', 'psycho', 'reproductive', 'motown', 'pb', 'photographing', 'existed', 'brotherhood', 'fusion', 'cougarplex', 'describe', 'milwaukee', 'architect', 'typo', 'hospice', 'weir', 'wbc', 'bing', 'gg', 'wbu', 'onsale', 'nevergiveup', 'reckons', 'jumper', 'oyour', 'unleash', 'chloe', 'nye', 'dialog', 'misconception', 'dee', 'visual', 'campbell', 'lottery', 'preacher', 'baba', 'unreal', 'installation', 'coolest', 'xe', 'abl', 'kaz', 'davidcameron', 'gumby', 'concrete', 'fore', 'goose', 'redeem', 'dusty', 'saddened', 'hastings', 'unsecured', 'vain', 'aurora', 'can', 'compatible', 'deleted', 'likeable', 'integration', 'dental', 'lumen', 'mor', 'downstairs', 'shaq', 'morris', 'narrowed', 'shocker', 'lumber', 'brush', 'emmylou', 'dilla', 'botox', 'juvederm', 'glastonbury', 'stool', 'yas', 'soetero', 'hlz', 'ripping', 'mika', 'embassy', 'florence', 'ligue', 'yorkers', 'intention', 'gem', 'lookalike', 'sotea', 'wcl', 'ahahah', 'darksiders', 'atlas', 'sno', 'jobe', 'appetite', 'gnr', 'portal', 'prius', 'foggy', 'chix', 'bruise', 'usmnt', 'vwk', 'braille', 'smite', 'rodwell', 'libertine', 'cou', 'sytycd', 'terror', 'apprentice', 'deny', 'umbrella', 'gaffe', 'distin', 'disappointment', 'voiced', 'barber', 'cub', 'lighthouse', 'imagining', 'assemble', 'scouting', 'lesbian', 'annie', 'lesser', 'loft', 'jab', 'credibility', 'lochte', 'refugeecrisis', 'amo', 'burma', 'ported', 'wealth', 'gogoi', 'webster', 'rethink', 'popping', 'silicon', 'periphery', 'swe', 'paranormal', 'aboriginal', 'deluded', 'dependent', 'aiden', 'genoa', 'manner', 'coyote', 'gained', 'jakarta', 'uqa', 'supper', 'whoa', 'enriched', 'ceased', 'incl', 'mow', 'divided', 'dime', 'cavalier', 'retire', 'worrying', 'ikea', 'artemis', 'freely', 'comm', 'bouta', 'nra', 'phuket', 'seohyun', 'efe', 'gill', 'thornton', 'voicemail', 'boateng', 'hahaaa', 'conclude', 'zai', 'dunk', 'becker', 'dumbass', 'wooohoooo', 'traitor', 'ronald', 'pew', 'milton', 'brow', 'dialogue', 'precious', 'reblogging', 'tiges', 'quietly', 'atheist', 'fossil', 'frosty', 'snowman', 'wana', 'topped', 'deadeye', 'pennstate', 'slaughtered', 'bst', 'hamradio', 'rover', 'manhattan', 'losangeles', 'vale', 'ivory', 'dicaprio', 'preorders', 'suo', 'patio', 'steffi', 'preservation', 'belle', 'gidley', 'bck', 'hhgttg', 'akron', 'ramos', 'distant', 'iranplast', 'tripple', 'vanilla', 'naming', 'oa', 'stripe', 'youjustruinedmylife', 'ariana', 'deluxe', 'nwa', 'researcher', 'motha', 'bundesliga', 'tshirts', 'spn', 'corriere', 'dello', 'caterham', 'marussia', 'inclusive', 'projection', 'pinterest', 'installment', 'msapc', 'inbound', 'watercooler', 'ayyyyye', 'grinot', 'ara', 'manny', 'eyz', 'osman', 'nev', 'lancashire', 'lasting', 'tuna', 'caw', 'tolonews', 'inventor', 'demanding', 'yung', 'deusex', 'rebo', 'sharon', 'nitin', 'klonopin', 'induced', 'soloing', 'lucker', 'lj', 'pencil', 'shhh', 'exclusively', 'torn', 'pple', 'dozen', 'helen', 'underwear', 'robsten', 'producing', 'nolito', 'para', 'seized', 'geoff', 'perugia', 'gjj', 'incompetent', 'pretzel', 'monarchy', 'degqrngcwk', 'caesar', 'izzone', 'campout', 'wiener', 'dracula', 'pbr', 'accounting', 'wolrd', 'vlaar', 'opm', 'earnings', 'gil', 'padang', 'doo', 'wm', 'cha', 'fetal', 'organ', 'commits', 'halal', 'bard', 'affect', 'gopinath', 'nrohm', 'melon', 'amber', 'blogging', 'notorious', 'flyknit', 'tw', 'obv', 'entering', 'supercars', 'ska', 'turnup', 'aswear', 'acceptable', 'memorized', 'backtoschool', 'capability', 'deeply', 'moo', 'serge', 'mining', 'uranus', 'similarly', 'medicine', 'tweak', 'moi', 'urgent', 'stern', 'olsen', 'prepping', 'kar', 'cinch', 'skh', 'idle', 'warship', 'atp', 'qy', 'porch', 'leaning', 'parlor', 'magee', 'flirt', 'tryoust', 'straya', 'rfa', 'lennox', 'acca', 'leopold', 'crumb', 'invisible', 'penultimate', 'fanboy', 'scouser', 'snatched', 'watchin', 'ent', 'ale', 'upi', 'eurozone', 'dragging', 'privacy', 'revolve', 'perceptive', 'dither', 'aeqp', 'beep', 'nsync', 'ala', 'ipads', 'conscious', 'centretown', 'notwithstanding', 'looool', 'swanage', 'thro', 'gbhxy', 'confrontation', 'whoot', 'legislation', 'corpse', 'aheadme', 'organising', 'fletcher', 'han', 'henderson', 'earliest', 'blair', 'kenseth', 'ata', 'yeaa', 'therefore', 'ramallah', 'coxis', 'hivo']\n"
     ]
    }
   ],
   "source": [
    "vocab=list(vocab.keys())\n",
    "print(vocab)"
   ]
  },
  {
   "cell_type": "code",
   "execution_count": 24,
   "metadata": {},
   "outputs": [
    {
     "name": "stdout",
     "output_type": "stream",
     "text": [
      "The no of key-value pairs :  11479\n"
     ]
    }
   ],
   "source": [
    "word_vec_dict={}\n",
    "for word in vocab:\n",
    "    word_vec_dict[word]=w2v_model.wv.get_vector(word)\n",
    "print(\"The no of key-value pairs : \",len(word_vec_dict)) # should come equal to vocab size"
   ]
  },
  {
   "cell_type": "code",
   "execution_count": 25,
   "metadata": {},
   "outputs": [],
   "source": [
    "# cleaning tweets\n",
    "df['clean_tweet']=df['clean_tweet'].apply(clean_tweet)"
   ]
  },
  {
   "cell_type": "code",
   "execution_count": 26,
   "metadata": {},
   "outputs": [
    {
     "name": "stdout",
     "output_type": "stream",
     "text": [
      "23\n"
     ]
    }
   ],
   "source": [
    "maxi=-1\n",
    "for i,rev in enumerate(df['clean_tweet']):\n",
    "  tokens=rev.split()\n",
    "  if(len(tokens)>maxi):\n",
    "    maxi=len(tokens)\n",
    "print(maxi)"
   ]
  },
  {
   "cell_type": "code",
   "execution_count": 27,
   "metadata": {},
   "outputs": [],
   "source": [
    "tok = Tokenizer()\n",
    "tok.fit_on_texts(df['clean_tweet'])\n",
    "vocab_size = len(tok.word_index) + 1\n",
    "encd_rev = tok.texts_to_sequences(df['clean_tweet'])"
   ]
  },
  {
   "cell_type": "code",
   "execution_count": 28,
   "metadata": {},
   "outputs": [
    {
     "data": {
      "text/html": [
       "<div>\n",
       "<style scoped>\n",
       "    .dataframe tbody tr th:only-of-type {\n",
       "        vertical-align: middle;\n",
       "    }\n",
       "\n",
       "    .dataframe tbody tr th {\n",
       "        vertical-align: top;\n",
       "    }\n",
       "\n",
       "    .dataframe thead th {\n",
       "        text-align: right;\n",
       "    }\n",
       "</style>\n",
       "<table border=\"1\" class=\"dataframe\">\n",
       "  <thead>\n",
       "    <tr style=\"text-align: right;\">\n",
       "      <th></th>\n",
       "      <th>clean_tweet</th>\n",
       "      <th>sentiment</th>\n",
       "    </tr>\n",
       "  </thead>\n",
       "  <tbody>\n",
       "    <tr>\n",
       "      <td>0</td>\n",
       "      <td>jyoust staying watching lovely james martin sa...</td>\n",
       "      <td>2</td>\n",
       "    </tr>\n",
       "    <tr>\n",
       "      <td>1</td>\n",
       "      <td>hillary made lucid case iran agreement think m...</td>\n",
       "      <td>2</td>\n",
       "    </tr>\n",
       "    <tr>\n",
       "      <td>2</td>\n",
       "      <td>see sat metlife would love meet ya would dream...</td>\n",
       "      <td>2</td>\n",
       "    </tr>\n",
       "    <tr>\n",
       "      <td>3</td>\n",
       "      <td>loanwatch ben amos hull city extra time st rou...</td>\n",
       "      <td>1</td>\n",
       "    </tr>\n",
       "    <tr>\n",
       "      <td>4</td>\n",
       "      <td>wish couldve went see miss may tonight house blue</td>\n",
       "      <td>2</td>\n",
       "    </tr>\n",
       "  </tbody>\n",
       "</table>\n",
       "</div>"
      ],
      "text/plain": [
       "                                         clean_tweet  sentiment\n",
       "0  jyoust staying watching lovely james martin sa...          2\n",
       "1  hillary made lucid case iran agreement think m...          2\n",
       "2  see sat metlife would love meet ya would dream...          2\n",
       "3  loanwatch ben amos hull city extra time st rou...          1\n",
       "4  wish couldve went see miss may tonight house blue          2"
      ]
     },
     "execution_count": 28,
     "metadata": {},
     "output_type": "execute_result"
    }
   ],
   "source": [
    "df.head()"
   ]
  },
  {
   "cell_type": "code",
   "execution_count": 29,
   "metadata": {},
   "outputs": [],
   "source": [
    "max_rev_len = 23  # max lenght of a review\n",
    "vocab_size = len(tok.word_index) + 1  # total no of words\n",
    "embed_dim=300 # embedding dimension as choosen in word2vec constructor"
   ]
  },
  {
   "cell_type": "code",
   "execution_count": 30,
   "metadata": {},
   "outputs": [
    {
     "data": {
      "text/plain": [
       "(21629, 23)"
      ]
     },
     "execution_count": 30,
     "metadata": {},
     "output_type": "execute_result"
    }
   ],
   "source": [
    "# now padding to have a amximum length of 23\n",
    "pad_rev= pad_sequences(encd_rev, maxlen=max_rev_len, padding='post')\n",
    "pad_rev.shape"
   ]
  },
  {
   "cell_type": "code",
   "execution_count": 31,
   "metadata": {},
   "outputs": [],
   "source": [
    "# now creating the embedding matrix\n",
    "embed_matrix=np.zeros(shape=(vocab_size,embed_dim))\n",
    "for word,i in tok.word_index.items():\n",
    "    embed_vector=word_vec_dict.get(word)\n",
    "    if embed_vector is not None:  # word is in the vocabulary learned by the w2v model\n",
    "        embed_matrix[i]=embed_vector\n",
    "    # if word is not found then embed_vector corressponding to that vector will stay zero."
   ]
  },
  {
   "cell_type": "code",
   "execution_count": 82,
   "metadata": {},
   "outputs": [
    {
     "data": {
      "text/plain": [
       "array([[0., 0., 1.],\n",
       "       [0., 0., 1.],\n",
       "       [0., 0., 1.],\n",
       "       ...,\n",
       "       [0., 1., 0.],\n",
       "       [0., 1., 0.],\n",
       "       [1., 0., 0.]], dtype=float32)"
      ]
     },
     "execution_count": 82,
     "metadata": {},
     "output_type": "execute_result"
    }
   ],
   "source": [
    "# prepare train and val sets first\n",
    "Y=keras.utils.to_categorical(df['sentiment'])  # one hot target as required by NN.\n",
    "x_train,x_test,y_train,y_test=train_test_split(pad_rev,Y,test_size=0.2,random_state=42)"
   ]
  },
  {
   "cell_type": "code",
   "execution_count": 83,
   "metadata": {},
   "outputs": [],
   "source": [
    "from keras.initializers import Constant\n",
    "from keras.layers import ReLU\n",
    "from keras.layers import Dropout\n",
    "model=Sequential()\n",
    "model.add(Embedding(input_dim=vocab_size,output_dim=embed_dim,input_length=max_rev_len,embeddings_initializer=Constant(embed_matrix)))\n",
    "model.add(Flatten())\n",
    "model.add(Dense(16,activation='relu'))\n",
    "model.add(Dropout(0.50))\n",
    "model.add(Dense(16,activation='relu'))\n",
    "model.add(Dropout(0.20))\n",
    "model.add(Dense(3,activation='softmax'))  # sigmod for bin. classification."
   ]
  },
  {
   "cell_type": "code",
   "execution_count": 84,
   "metadata": {},
   "outputs": [
    {
     "name": "stdout",
     "output_type": "stream",
     "text": [
      "Model: \"sequential_2\"\n",
      "_________________________________________________________________\n",
      "Layer (type)                 Output Shape              Param #   \n",
      "=================================================================\n",
      "embedding_2 (Embedding)      (None, 23, 300)           9588900   \n",
      "_________________________________________________________________\n",
      "flatten_2 (Flatten)          (None, 6900)              0         \n",
      "_________________________________________________________________\n",
      "dense_4 (Dense)              (None, 16)                110416    \n",
      "_________________________________________________________________\n",
      "dropout_3 (Dropout)          (None, 16)                0         \n",
      "_________________________________________________________________\n",
      "dense_5 (Dense)              (None, 16)                272       \n",
      "_________________________________________________________________\n",
      "dropout_4 (Dropout)          (None, 16)                0         \n",
      "_________________________________________________________________\n",
      "dense_6 (Dense)              (None, 3)                 51        \n",
      "=================================================================\n",
      "Total params: 9,699,639\n",
      "Trainable params: 9,699,639\n",
      "Non-trainable params: 0\n",
      "_________________________________________________________________\n"
     ]
    }
   ],
   "source": [
    "model.summary()"
   ]
  },
  {
   "cell_type": "code",
   "execution_count": 85,
   "metadata": {},
   "outputs": [],
   "source": [
    "# compile the model\n",
    "model.compile(optimizer=keras.optimizers.RMSprop(lr=1e-3),loss='binary_crossentropy',metrics=['accuracy'])"
   ]
  },
  {
   "cell_type": "code",
   "execution_count": 86,
   "metadata": {},
   "outputs": [],
   "source": [
    "# specify batch size and epochs for training.\n",
    "epochs=3\n",
    "batch_size=16"
   ]
  },
  {
   "cell_type": "code",
   "execution_count": 87,
   "metadata": {},
   "outputs": [
    {
     "name": "stdout",
     "output_type": "stream",
     "text": [
      "Train on 17303 samples, validate on 4326 samples\n",
      "Epoch 1/3\n",
      "17303/17303 [==============================] - 92s 5ms/step - loss: 0.6033 - accuracy: 0.6731 - val_loss: 0.5793 - val_accuracy: 0.6918\n",
      "Epoch 2/3\n",
      "17303/17303 [==============================] - 96s 6ms/step - loss: 0.5866 - accuracy: 0.6858 - val_loss: 0.5684 - val_accuracy: 0.7021\n",
      "Epoch 3/3\n",
      "17303/17303 [==============================] - 95s 5ms/step - loss: 0.5780 - accuracy: 0.6935 - val_loss: 0.5660 - val_accuracy: 0.7033\n"
     ]
    },
    {
     "data": {
      "text/plain": [
       "<keras.callbacks.callbacks.History at 0x7fb62c057cd0>"
      ]
     },
     "execution_count": 87,
     "metadata": {},
     "output_type": "execute_result"
    }
   ],
   "source": [
    "# fitting the model.\n",
    "model.fit(x_train,y_train,epochs=epochs,batch_size=batch_size,validation_data=(x_test,y_test))"
   ]
  },
  {
   "cell_type": "code",
   "execution_count": 38,
   "metadata": {},
   "outputs": [],
   "source": [
    "test = rev_frame.copy()\n",
    "test = test[['clean_tweet']]"
   ]
  },
  {
   "cell_type": "code",
   "execution_count": 39,
   "metadata": {},
   "outputs": [],
   "source": [
    "test = test[21630:]"
   ]
  },
  {
   "cell_type": "code",
   "execution_count": 40,
   "metadata": {},
   "outputs": [
    {
     "data": {
      "text/html": [
       "<div>\n",
       "<style scoped>\n",
       "    .dataframe tbody tr th:only-of-type {\n",
       "        vertical-align: middle;\n",
       "    }\n",
       "\n",
       "    .dataframe tbody tr th {\n",
       "        vertical-align: top;\n",
       "    }\n",
       "\n",
       "    .dataframe thead th {\n",
       "        text-align: right;\n",
       "    }\n",
       "</style>\n",
       "<table border=\"1\" class=\"dataframe\">\n",
       "  <thead>\n",
       "    <tr style=\"text-align: right;\">\n",
       "      <th></th>\n",
       "      <th>clean_tweet</th>\n",
       "    </tr>\n",
       "  </thead>\n",
       "  <tbody>\n",
       "    <tr>\n",
       "      <td>0</td>\n",
       "      <td>down in the atlantic city ventnor margate ocea...</td>\n",
       "    </tr>\n",
       "    <tr>\n",
       "      <td>1</td>\n",
       "      <td>musical awareness great big beautiful tomorrow...</td>\n",
       "    </tr>\n",
       "    <tr>\n",
       "      <td>2</td>\n",
       "      <td>on radio fm fri oct labour analyst shawn hatti...</td>\n",
       "    </tr>\n",
       "    <tr>\n",
       "      <td>3</td>\n",
       "      <td>kapan sih lo ngebuktiin jan ngomong doang susa...</td>\n",
       "    </tr>\n",
       "    <tr>\n",
       "      <td>4</td>\n",
       "      <td>excuse the connectivity of this live stream fr...</td>\n",
       "    </tr>\n",
       "    <tr>\n",
       "      <td>...</td>\n",
       "      <td>...</td>\n",
       "    </tr>\n",
       "    <tr>\n",
       "      <td>5393</td>\n",
       "      <td>it has it is wednesday girls night out as band...</td>\n",
       "    </tr>\n",
       "    <tr>\n",
       "      <td>5394</td>\n",
       "      <td>night college course sorted just have to enrol...</td>\n",
       "    </tr>\n",
       "    <tr>\n",
       "      <td>5395</td>\n",
       "      <td>for the st time in years for your splendiferou...</td>\n",
       "    </tr>\n",
       "    <tr>\n",
       "      <td>5396</td>\n",
       "      <td>nurses day may nursing the heart beat of the h...</td>\n",
       "    </tr>\n",
       "    <tr>\n",
       "      <td>5397</td>\n",
       "      <td>we have minutes left until the nd episode of s...</td>\n",
       "    </tr>\n",
       "  </tbody>\n",
       "</table>\n",
       "<p>5398 rows × 1 columns</p>\n",
       "</div>"
      ],
      "text/plain": [
       "                                            clean_tweet\n",
       "0     down in the atlantic city ventnor margate ocea...\n",
       "1     musical awareness great big beautiful tomorrow...\n",
       "2     on radio fm fri oct labour analyst shawn hatti...\n",
       "3     kapan sih lo ngebuktiin jan ngomong doang susa...\n",
       "4     excuse the connectivity of this live stream fr...\n",
       "...                                                 ...\n",
       "5393  it has it is wednesday girls night out as band...\n",
       "5394  night college course sorted just have to enrol...\n",
       "5395  for the st time in years for your splendiferou...\n",
       "5396  nurses day may nursing the heart beat of the h...\n",
       "5397  we have minutes left until the nd episode of s...\n",
       "\n",
       "[5398 rows x 1 columns]"
      ]
     },
     "execution_count": 40,
     "metadata": {},
     "output_type": "execute_result"
    }
   ],
   "source": [
    "test = test[['clean_tweet']]\n",
    "test = test.reset_index(drop=True)\n",
    "test"
   ]
  },
  {
   "cell_type": "code",
   "execution_count": 41,
   "metadata": {},
   "outputs": [],
   "source": [
    "t_id = t_id[['tweet_id']]\n",
    "t_id = t_id.reset_index(drop=True)\n",
    "test_data = pd.concat([t_id, test], axis = 1)"
   ]
  },
  {
   "cell_type": "code",
   "execution_count": 42,
   "metadata": {},
   "outputs": [
    {
     "data": {
      "text/html": [
       "<div>\n",
       "<style scoped>\n",
       "    .dataframe tbody tr th:only-of-type {\n",
       "        vertical-align: middle;\n",
       "    }\n",
       "\n",
       "    .dataframe tbody tr th {\n",
       "        vertical-align: top;\n",
       "    }\n",
       "\n",
       "    .dataframe thead th {\n",
       "        text-align: right;\n",
       "    }\n",
       "</style>\n",
       "<table border=\"1\" class=\"dataframe\">\n",
       "  <thead>\n",
       "    <tr style=\"text-align: right;\">\n",
       "      <th></th>\n",
       "      <th>tweet_id</th>\n",
       "      <th>clean_tweet</th>\n",
       "    </tr>\n",
       "  </thead>\n",
       "  <tbody>\n",
       "    <tr>\n",
       "      <td>0</td>\n",
       "      <td>264238274963451904</td>\n",
       "      <td>atlantic city ventnor margate ocean city area ...</td>\n",
       "    </tr>\n",
       "    <tr>\n",
       "      <td>1</td>\n",
       "      <td>218775148495515649</td>\n",
       "      <td>musical awareness great big beautiful tomorrow...</td>\n",
       "    </tr>\n",
       "    <tr>\n",
       "      <td>2</td>\n",
       "      <td>258965201766998017</td>\n",
       "      <td>radio fm fri oct labour analyst shawn hattingh...</td>\n",
       "    </tr>\n",
       "    <tr>\n",
       "      <td>3</td>\n",
       "      <td>262926411352903682</td>\n",
       "      <td>kapan sih lo ngebuktiin jan ngomong doang susa...</td>\n",
       "    </tr>\n",
       "    <tr>\n",
       "      <td>4</td>\n",
       "      <td>171874368908050432</td>\n",
       "      <td>excuse connectivity live stream baba amr many ...</td>\n",
       "    </tr>\n",
       "    <tr>\n",
       "      <td>...</td>\n",
       "      <td>...</td>\n",
       "      <td>...</td>\n",
       "    </tr>\n",
       "    <tr>\n",
       "      <td>5393</td>\n",
       "      <td>210378118865756160</td>\n",
       "      <td>wednesday girl night band wilson phillips fill...</td>\n",
       "    </tr>\n",
       "    <tr>\n",
       "      <td>5394</td>\n",
       "      <td>245177521304399872</td>\n",
       "      <td>night college course sorted enrole tomorrow fi...</td>\n",
       "    </tr>\n",
       "    <tr>\n",
       "      <td>5395</td>\n",
       "      <td>259280987089932288</td>\n",
       "      <td>st time year splendiferous entertainment art l...</td>\n",
       "    </tr>\n",
       "    <tr>\n",
       "      <td>5396</td>\n",
       "      <td>201113950211940352</td>\n",
       "      <td>nurse day may nursing heart beat health</td>\n",
       "    </tr>\n",
       "    <tr>\n",
       "      <td>5397</td>\n",
       "      <td>237999067286876160</td>\n",
       "      <td>minute left nd episode styled rock uknavi riha...</td>\n",
       "    </tr>\n",
       "  </tbody>\n",
       "</table>\n",
       "<p>5398 rows × 2 columns</p>\n",
       "</div>"
      ],
      "text/plain": [
       "                tweet_id                                        clean_tweet\n",
       "0     264238274963451904  atlantic city ventnor margate ocean city area ...\n",
       "1     218775148495515649  musical awareness great big beautiful tomorrow...\n",
       "2     258965201766998017  radio fm fri oct labour analyst shawn hattingh...\n",
       "3     262926411352903682  kapan sih lo ngebuktiin jan ngomong doang susa...\n",
       "4     171874368908050432  excuse connectivity live stream baba amr many ...\n",
       "...                  ...                                                ...\n",
       "5393  210378118865756160  wednesday girl night band wilson phillips fill...\n",
       "5394  245177521304399872  night college course sorted enrole tomorrow fi...\n",
       "5395  259280987089932288  st time year splendiferous entertainment art l...\n",
       "5396  201113950211940352            nurse day may nursing heart beat health\n",
       "5397  237999067286876160  minute left nd episode styled rock uknavi riha...\n",
       "\n",
       "[5398 rows x 2 columns]"
      ]
     },
     "execution_count": 42,
     "metadata": {},
     "output_type": "execute_result"
    }
   ],
   "source": [
    "test_data['clean_tweet']=test_data['clean_tweet'].apply(clean_tweet)\n",
    "test_data"
   ]
  },
  {
   "cell_type": "code",
   "execution_count": 43,
   "metadata": {},
   "outputs": [
    {
     "data": {
      "text/plain": [
       "(5398, 23)"
      ]
     },
     "execution_count": 43,
     "metadata": {},
     "output_type": "execute_result"
    }
   ],
   "source": [
    "encd_rev = tok.texts_to_sequences(test_data['clean_tweet'])\n",
    "# now padding to have a amximum length of 23\n",
    "test_matrix = pad_sequences(encd_rev, maxlen=max_rev_len, padding='post')\n",
    "test_matrix.shape"
   ]
  },
  {
   "cell_type": "code",
   "execution_count": 110,
   "metadata": {},
   "outputs": [
    {
     "data": {
      "text/plain": [
       "array([1, 2, 1, ..., 1, 1, 1])"
      ]
     },
     "execution_count": 110,
     "metadata": {},
     "output_type": "execute_result"
    }
   ],
   "source": [
    "prediction = model.predict(test_matrix)\n",
    "prediction_classes = model.predict_classes(test_matrix)\n",
    "prediction_classes"
   ]
  },
  {
   "cell_type": "code",
   "execution_count": 89,
   "metadata": {},
   "outputs": [],
   "source": [
    "negative = prediction[:,0]\n",
    "neutral = prediction[:,1]\n",
    "positive = prediction[:,2]"
   ]
  },
  {
   "cell_type": "code",
   "execution_count": 108,
   "metadata": {},
   "outputs": [
    {
     "name": "stdout",
     "output_type": "stream",
     "text": [
      "0.22044891\n"
     ]
    },
    {
     "data": {
      "image/png": "[encoded data removed]",
      "text/plain": [
       "<Figure size 432x288 with 1 Axes>"
      ]
     },
     "metadata": {
      "needs_background": "light"
     },
     "output_type": "display_data"
    },
    {
     "name": "stdout",
     "output_type": "stream",
     "text": [
      "quantity: {} 3308\n"
     ]
    }
   ],
   "source": [
    "import matplotlib.mlab as mlab\n",
    "import matplotlib.pyplot as plt\n",
    "\n",
    "x = negative\n",
    "print(max(negative))\n",
    "\n",
    "# the histogram of the data\n",
    "n, bins, patches = plt.hist(x, 100, normed=1, facecolor='green', alpha=0.75)\n",
    "\n",
    "plt.xlabel('Smarts')\n",
    "plt.ylabel('Probability')\n",
    "plt.grid(True)\n",
    "plt.show()\n",
    "\n",
    "count = 0\n",
    "for i in range(len(negative)):\n",
    "    if negative[i]>0.19:\n",
    "        count += 1\n",
    "        \n",
    "neg_count = count\n",
    "print(\"quantity: {}\",count)"
   ]
  },
  {
   "cell_type": "code",
   "execution_count": 111,
   "metadata": {},
   "outputs": [
    {
     "data": {
      "text/plain": [
       "negative    3308\n",
       "positive    1391\n",
       "neutral      699\n",
       "Name: sentiment, dtype: int64"
      ]
     },
     "execution_count": 111,
     "metadata": {},
     "output_type": "execute_result"
    }
   ],
   "source": [
    "def compute_sentement(prediction):\n",
    "    n = len(prediction)\n",
    "    sentiment = []\n",
    "    for i in range(n):\n",
    "        if(prediction[i][2] == max(prediction[i])):\n",
    "            sentiment.append('positive')\n",
    "        elif(prediction[i][0]>0.19):\n",
    "            sentiment.append('negative')\n",
    "        else:\n",
    "            sentiment.append('neutral')\n",
    "    return sentiment\n",
    "#sentiment = compute_sentement(prediction)\n",
    "\n",
    "def class_sentiment(prediction,negative):\n",
    "    n = len(prediction)\n",
    "    sentiment = []\n",
    "    for i in range(n):\n",
    "        if(prediction[i] == 2):\n",
    "            sentiment.append('positive')\n",
    "        elif(prediction[i]==1 and negative[i]>0.19):\n",
    "            sentiment.append('negative')\n",
    "        else:\n",
    "            sentiment.append('neutral')\n",
    "    return sentiment\n",
    "sentiment = class_sentiment(prediction_classes,negative)\n",
    "\n",
    "test_data['sentiment'] = sentiment\n",
    "test_data['sentiment'].value_counts()"
   ]
  },
  {
   "cell_type": "code",
   "execution_count": 112,
   "metadata": {},
   "outputs": [],
   "source": [
    "test_data = test_data[['tweet_id','sentiment']]\n",
    "test_list = []\n",
    "heading = ['tweet_id', 'sentiment']\n",
    "test_list.append(heading)\n",
    "for i in range(len(test_data['tweet_id'])):\n",
    "    sub = []\n",
    "    sub.append(test_data['tweet_id'][i])\n",
    "    sub.append(test_data['sentiment'][i])\n",
    "    test_list.append(sub)"
   ]
  },
  {
   "cell_type": "code",
   "execution_count": 113,
   "metadata": {},
   "outputs": [
    {
     "data": {
      "text/plain": [
       "5399"
      ]
     },
     "execution_count": 113,
     "metadata": {},
     "output_type": "execute_result"
    }
   ],
   "source": [
    "len(test_list)"
   ]
  },
  {
   "cell_type": "code",
   "execution_count": 114,
   "metadata": {},
   "outputs": [
    {
     "name": "stdout",
     "output_type": "stream",
     "text": [
      "<class 'pandas.core.frame.DataFrame'>\n",
      "RangeIndex: 5398 entries, 0 to 5397\n",
      "Data columns (total 2 columns):\n",
      "tweet_id     5398 non-null int64\n",
      "sentiment    5398 non-null object\n",
      "dtypes: int64(1), object(1)\n",
      "memory usage: 84.5+ KB\n"
     ]
    }
   ],
   "source": [
    "import csv\n",
    "with open('test_result.csv', 'w', newline='') as fp:\n",
    "    a = csv.writer(fp, delimiter = \",\")\n",
    "    data = test_list\n",
    "    a.writerows(data)\n",
    "check = pd.read_csv(\"test_result.csv\")\n",
    "check.info()"
   ]
  },
  {
   "cell_type": "code",
   "execution_count": null,
   "metadata": {},
   "outputs": [],
   "source": []
  }
 ],
 "metadata": {
  "kernelspec": {
   "display_name": "Python 3",
   "language": "python",
   "name": "python3"
  },
  "language_info": {
   "codemirror_mode": {
    "name": "ipython",
    "version": 3
   },
   "file_extension": ".py",
   "mimetype": "text/x-python",
   "name": "python",
   "nbconvert_exporter": "python",
   "pygments_lexer": "ipython3",
   "version": "3.7.4"
  }
 },
 "nbformat": 4,
 "nbformat_minor": 2
}
