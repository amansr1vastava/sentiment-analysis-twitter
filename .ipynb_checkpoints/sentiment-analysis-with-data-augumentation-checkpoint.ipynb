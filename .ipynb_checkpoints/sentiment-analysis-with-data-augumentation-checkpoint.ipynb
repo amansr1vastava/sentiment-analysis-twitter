{
 "cells": [
  {
   "cell_type": "markdown",
   "metadata": {},
   "source": [
    "#### Import Library"
   ]
  },
  {
   "cell_type": "code",
   "execution_count": 3,
   "metadata": {},
   "outputs": [
    {
     "name": "stdout",
     "output_type": "stream",
     "text": [
      "Collecting textblob\n",
      "  Downloading textblob-0.15.3-py2.py3-none-any.whl (636 kB)\n",
      "\u001b[K     |████████████████████████████████| 636 kB 409 kB/s eta 0:00:01\n",
      "\u001b[?25hRequirement already satisfied: nltk>=3.1 in /home/shriaman/anaconda3/lib/python3.7/site-packages (from textblob) (3.4.5)\n",
      "Requirement already satisfied: six in /home/shriaman/anaconda3/lib/python3.7/site-packages (from nltk>=3.1->textblob) (1.12.0)\n",
      "Installing collected packages: textblob\n",
      "Successfully installed textblob-0.15.3\n",
      "\u001b[33mWARNING: You are using pip version 20.1; however, version 20.1.1 is available.\n",
      "You should consider upgrading via the '/home/shriaman/anaconda3/bin/python -m pip install --upgrade pip' command.\u001b[0m\n",
      "Note: you may need to restart the kernel to use updated packages.\n"
     ]
    }
   ],
   "source": [
    "pip install textblob"
   ]
  },
  {
   "cell_type": "code",
   "execution_count": 87,
   "metadata": {
    "_cell_guid": "b1076dfc-b9ad-4769-8c92-a6c4dae69d19",
    "_uuid": "8f2839f25d086af736a60e9eeb907d3b93b6e0e5"
   },
   "outputs": [
    {
     "name": "stdout",
     "output_type": "stream",
     "text": [
      "['train.tsv', 'test_samples.csv', 'train_preprocessed.csv']\n"
     ]
    },
    {
     "name": "stderr",
     "output_type": "stream",
     "text": [
      "Using TensorFlow backend.\n"
     ]
    }
   ],
   "source": [
    "import numpy as np\n",
    "import pandas as pd\n",
    "import matplotlib.pyplot as plt\n",
    "import seaborn as sns\n",
    "import nltk\n",
    "from nltk.corpus import stopwords\n",
    "from nltk.stem import PorterStemmer,WordNetLemmatizer\n",
    "import textblob\n",
    "from textblob import TextBlob, Word\n",
    "from sklearn.feature_extraction.text import TfidfVectorizer, CountVectorizer\n",
    "from sklearn.model_selection import train_test_split\n",
    "import os\n",
    "from keras.preprocessing.text import Tokenizer\n",
    "from keras.preprocessing.sequence import pad_sequences\n",
    "from keras.models import Sequential\n",
    "from keras.layers import Dense, Flatten, Dropout, Activation\n",
    "from keras.layers.embeddings import Embedding\n",
    "\n",
    "from nltk.stem import WordNetLemmatizer # lemmatizing tool\n",
    "from sklearn.feature_extraction.text import TfidfVectorizer # tfidf for text representation\n",
    "from sklearn.model_selection import train_test_split # for data splitting\n",
    "from sklearn.metrics import classification_report, confusion_matrix, accuracy_score # for classifier evaluation\n",
    "from sklearn.ensemble import RandomForestClassifier # random forest machine learning model\n",
    "print(os.listdir(\"project/input\"))"
   ]
  },
  {
   "cell_type": "code",
   "execution_count": 11,
   "metadata": {
    "_cell_guid": "79c7e3d0-c299-4dcb-8224-4455121ee9b0",
    "_uuid": "d629ff2d2480ee46fbb7e2d37f6b5fab8052498a"
   },
   "outputs": [],
   "source": [
    "traindata=pd.read_csv('project/input/train_preprocessed.csv')"
   ]
  },
  {
   "cell_type": "code",
   "execution_count": 96,
   "metadata": {},
   "outputs": [],
   "source": [
    "t_id = pd.read_csv(\"project/input/test_samples.csv\")\n",
    "test = pd.read_csv('project/input/train_preprocessed.csv')\n",
    "test = test[['clean_tweet']]\n",
    "test = test[21630:]\n",
    "test = test[['clean_tweet']]\n",
    "test = test.reset_index(drop=True)\n",
    "t_id = t_id[['tweet_id']]\n",
    "t_id = t_id.reset_index(drop=True)\n",
    "testdata = pd.concat([t_id, test], axis = 1)"
   ]
  },
  {
   "cell_type": "code",
   "execution_count": 12,
   "metadata": {},
   "outputs": [
    {
     "data": {
      "text/html": [
       "<div>\n",
       "<style scoped>\n",
       "    .dataframe tbody tr th:only-of-type {\n",
       "        vertical-align: middle;\n",
       "    }\n",
       "\n",
       "    .dataframe tbody tr th {\n",
       "        vertical-align: top;\n",
       "    }\n",
       "\n",
       "    .dataframe thead th {\n",
       "        text-align: right;\n",
       "    }\n",
       "</style>\n",
       "<table border=\"1\" class=\"dataframe\">\n",
       "  <thead>\n",
       "    <tr style=\"text-align: right;\">\n",
       "      <th></th>\n",
       "      <th>Unnamed: 0</th>\n",
       "      <th>clean_tweet</th>\n",
       "      <th>sentiment</th>\n",
       "    </tr>\n",
       "  </thead>\n",
       "  <tbody>\n",
       "    <tr>\n",
       "      <td>0</td>\n",
       "      <td>0</td>\n",
       "      <td>gas by my house hit am going to chapel hill on...</td>\n",
       "      <td>positive</td>\n",
       "    </tr>\n",
       "    <tr>\n",
       "      <td>1</td>\n",
       "      <td>1</td>\n",
       "      <td>theo walcott is still shit watch rafa and john...</td>\n",
       "      <td>negative</td>\n",
       "    </tr>\n",
       "    <tr>\n",
       "      <td>2</td>\n",
       "      <td>2</td>\n",
       "      <td>its not that am gsp fan just hate nick diaz ca...</td>\n",
       "      <td>negative</td>\n",
       "    </tr>\n",
       "    <tr>\n",
       "      <td>3</td>\n",
       "      <td>3</td>\n",
       "      <td>iranian general says israel iron dome cannot d...</td>\n",
       "      <td>negative</td>\n",
       "    </tr>\n",
       "    <tr>\n",
       "      <td>4</td>\n",
       "      <td>4</td>\n",
       "      <td>tehran mon amour obama tried to establish ties...</td>\n",
       "      <td>neutral</td>\n",
       "    </tr>\n",
       "  </tbody>\n",
       "</table>\n",
       "</div>"
      ],
      "text/plain": [
       "   Unnamed: 0                                        clean_tweet sentiment\n",
       "0           0  gas by my house hit am going to chapel hill on...  positive\n",
       "1           1  theo walcott is still shit watch rafa and john...  negative\n",
       "2           2  its not that am gsp fan just hate nick diaz ca...  negative\n",
       "3           3  iranian general says israel iron dome cannot d...  negative\n",
       "4           4  tehran mon amour obama tried to establish ties...   neutral"
      ]
     },
     "execution_count": 12,
     "metadata": {},
     "output_type": "execute_result"
    }
   ],
   "source": [
    "traindata.head()"
   ]
  },
  {
   "cell_type": "code",
   "execution_count": 49,
   "metadata": {},
   "outputs": [
    {
     "data": {
      "text/html": [
       "<div>\n",
       "<style scoped>\n",
       "    .dataframe tbody tr th:only-of-type {\n",
       "        vertical-align: middle;\n",
       "    }\n",
       "\n",
       "    .dataframe tbody tr th {\n",
       "        vertical-align: top;\n",
       "    }\n",
       "\n",
       "    .dataframe thead th {\n",
       "        text-align: right;\n",
       "    }\n",
       "</style>\n",
       "<table border=\"1\" class=\"dataframe\">\n",
       "  <thead>\n",
       "    <tr style=\"text-align: right;\">\n",
       "      <th></th>\n",
       "      <th>tweet_id</th>\n",
       "      <th>clean_tweet</th>\n",
       "    </tr>\n",
       "  </thead>\n",
       "  <tbody>\n",
       "    <tr>\n",
       "      <td>0</td>\n",
       "      <td>264238274963451904</td>\n",
       "      <td>down in the atlantic city ventnor margate ocea...</td>\n",
       "    </tr>\n",
       "    <tr>\n",
       "      <td>1</td>\n",
       "      <td>218775148495515649</td>\n",
       "      <td>musical awareness great big beautiful tomorrow...</td>\n",
       "    </tr>\n",
       "    <tr>\n",
       "      <td>2</td>\n",
       "      <td>258965201766998017</td>\n",
       "      <td>on radio fm fri oct labour analyst shawn hatti...</td>\n",
       "    </tr>\n",
       "    <tr>\n",
       "      <td>3</td>\n",
       "      <td>262926411352903682</td>\n",
       "      <td>kapan sih lo ngebuktiin jan ngomong doang susa...</td>\n",
       "    </tr>\n",
       "    <tr>\n",
       "      <td>4</td>\n",
       "      <td>171874368908050432</td>\n",
       "      <td>excuse the connectivity of this live stream fr...</td>\n",
       "    </tr>\n",
       "  </tbody>\n",
       "</table>\n",
       "</div>"
      ],
      "text/plain": [
       "             tweet_id                                        clean_tweet\n",
       "0  264238274963451904  down in the atlantic city ventnor margate ocea...\n",
       "1  218775148495515649  musical awareness great big beautiful tomorrow...\n",
       "2  258965201766998017  on radio fm fri oct labour analyst shawn hatti...\n",
       "3  262926411352903682  kapan sih lo ngebuktiin jan ngomong doang susa...\n",
       "4  171874368908050432  excuse the connectivity of this live stream fr..."
      ]
     },
     "execution_count": 49,
     "metadata": {},
     "output_type": "execute_result"
    }
   ],
   "source": [
    "testdata.head()"
   ]
  },
  {
   "cell_type": "code",
   "execution_count": 23,
   "metadata": {},
   "outputs": [],
   "source": [
    "traindata=traindata[['clean_tweet','sentiment']]\n",
    "traindata = traindata[:21629]"
   ]
  },
  {
   "cell_type": "code",
   "execution_count": 14,
   "metadata": {},
   "outputs": [
    {
     "data": {
      "text/plain": [
       "positive    9155\n",
       "neutral     9075\n",
       "negative    3400\n",
       "Name: sentiment, dtype: int64"
      ]
     },
     "execution_count": 14,
     "metadata": {},
     "output_type": "execute_result"
    }
   ],
   "source": [
    "traindata['sentiment'].value_counts()"
   ]
  },
  {
   "cell_type": "code",
   "execution_count": 15,
   "metadata": {},
   "outputs": [
    {
     "data": {
      "text/plain": [
       "Text(0.5, 1.0, 'Class-Distribution')"
      ]
     },
     "execution_count": 15,
     "metadata": {},
     "output_type": "execute_result"
    },
    {
     "data": {
      "image/png": "[encoded data removed]",
      "text/plain": [
       "<Figure size 432x288 with 1 Axes>"
      ]
     },
     "metadata": {
      "needs_background": "light"
     },
     "output_type": "display_data"
    }
   ],
   "source": [
    "%matplotlib inline\n",
    "sns.countplot(traindata['sentiment'])\n",
    "plt.title('Class-Distribution')"
   ]
  },
  {
   "cell_type": "markdown",
   "metadata": {},
   "source": [
    "## Data Augmentation"
   ]
  },
  {
   "cell_type": "code",
   "execution_count": 16,
   "metadata": {},
   "outputs": [],
   "source": [
    "import nlpaug.augmenter.sentence as nas"
   ]
  },
  {
   "cell_type": "code",
   "execution_count": 17,
   "metadata": {},
   "outputs": [],
   "source": [
    "WANDB_API_KEY='sonu'"
   ]
  },
  {
   "cell_type": "code",
   "execution_count": 18,
   "metadata": {},
   "outputs": [
    {
     "data": {
      "application/vnd.jupyter.widget-view+json": {
       "model_id": "c76d487b095f4815bbcfe375b63a467d",
       "version_major": 2,
       "version_minor": 0
      },
      "text/plain": [
       "HBox(children=(IntProgress(value=0, description='Downloading', max=798011, style=ProgressStyle(description_wid…"
      ]
     },
     "metadata": {},
     "output_type": "display_data"
    },
    {
     "name": "stdout",
     "output_type": "stream",
     "text": [
      "\n"
     ]
    },
    {
     "data": {
      "application/vnd.jupyter.widget-view+json": {
       "model_id": "370b49e17a694456add69396c1d8496e",
       "version_major": 2,
       "version_minor": 0
      },
      "text/plain": [
       "HBox(children=(IntProgress(value=0, description='Downloading', max=760, style=ProgressStyle(description_width=…"
      ]
     },
     "metadata": {},
     "output_type": "display_data"
    },
    {
     "name": "stdout",
     "output_type": "stream",
     "text": [
      "\n"
     ]
    },
    {
     "data": {
      "application/vnd.jupyter.widget-view+json": {
       "model_id": "edc0e3f4725d4c80b74c706d8629f757",
       "version_major": 2,
       "version_minor": 0
      },
      "text/plain": [
       "HBox(children=(IntProgress(value=0, description='Downloading', max=467042463, style=ProgressStyle(description_…"
      ]
     },
     "metadata": {},
     "output_type": "display_data"
    },
    {
     "name": "stdout",
     "output_type": "stream",
     "text": [
      "\n"
     ]
    }
   ],
   "source": [
    "aug = nas.ContextualWordEmbsForSentenceAug(model_path='xlnet-base-cased')"
   ]
  },
  {
   "cell_type": "code",
   "execution_count": 26,
   "metadata": {},
   "outputs": [],
   "source": [
    "ls=[]\n",
    "def data_augument(df):\n",
    "    augmented_texts = aug.augment(df, n=2)\n",
    "    for i in augmented_texts:\n",
    "        ls.append(i)\n",
    "    return(augmented_texts)"
   ]
  },
  {
   "cell_type": "code",
   "execution_count": 27,
   "metadata": {},
   "outputs": [
    {
     "name": "stderr",
     "output_type": "stream",
     "text": [
      "/home/shriaman/anaconda3/lib/python3.7/site-packages/tqdm/std.py:648: FutureWarning: The Panel class is removed from pandas. Accessing it from the top-level namespace will also be removed in the next version\n",
      "  from pandas import Panel\n"
     ]
    }
   ],
   "source": [
    "from tqdm._tqdm_notebook import tqdm_notebook\n",
    "tqdm_notebook.pandas()"
   ]
  },
  {
   "cell_type": "code",
   "execution_count": 28,
   "metadata": {},
   "outputs": [
    {
     "data": {
      "application/vnd.jupyter.widget-view+json": {
       "model_id": "67ed47bd9a394b40b566e2ce5d32d333",
       "version_major": 2,
       "version_minor": 0
      },
      "text/plain": [
       "HBox(children=(IntProgress(value=0, max=3400), HTML(value='')))"
      ]
     },
     "metadata": {},
     "output_type": "display_data"
    },
    {
     "name": "stdout",
     "output_type": "stream",
     "text": [
      "\n"
     ]
    },
    {
     "data": {
      "text/plain": [
       "1        [theo walcott is still shit watch rafa and joh...\n",
       "2        [its not that am gsp fan just hate nick diaz c...\n",
       "3        [iranian general says israel iron dome cannot ...\n",
       "7        [talking about act sat deciding where want to ...\n",
       "9        [they may have superbowl in dallas but dallas ...\n",
       "                               ...                        \n",
       "21588    [sept reuters jpmorgan chase co said it had no...\n",
       "21593    [that th down play in the colts game back in i...\n",
       "21596    [ran into alonso at the gym literally have not...\n",
       "21610    [green bay drafted rogers at about the same sp...\n",
       "21611    [aaah st fixture list saw earlier had valencia...\n",
       "Name: clean_tweet, Length: 3400, dtype: object"
      ]
     },
     "execution_count": 28,
     "metadata": {},
     "output_type": "execute_result"
    }
   ],
   "source": [
    "traindata[traindata['sentiment']=='negative']['clean_tweet'].progress_apply(data_augument)"
   ]
  },
  {
   "cell_type": "code",
   "execution_count": 29,
   "metadata": {},
   "outputs": [],
   "source": [
    "array=np.array(ls)"
   ]
  },
  {
   "cell_type": "code",
   "execution_count": 30,
   "metadata": {},
   "outputs": [],
   "source": [
    "np.save('array',array)"
   ]
  },
  {
   "cell_type": "code",
   "execution_count": 31,
   "metadata": {},
   "outputs": [],
   "source": [
    "augmented_texts=np.load('array.npy')"
   ]
  },
  {
   "cell_type": "code",
   "execution_count": 32,
   "metadata": {},
   "outputs": [],
   "source": [
    "aug_data=pd.DataFrame(augmented_texts,columns=['clean_tweet'])"
   ]
  },
  {
   "cell_type": "code",
   "execution_count": 33,
   "metadata": {},
   "outputs": [],
   "source": [
    "aug_data['sentiment']='negative'"
   ]
  },
  {
   "cell_type": "code",
   "execution_count": 34,
   "metadata": {},
   "outputs": [
    {
     "data": {
      "text/html": [
       "<div>\n",
       "<style scoped>\n",
       "    .dataframe tbody tr th:only-of-type {\n",
       "        vertical-align: middle;\n",
       "    }\n",
       "\n",
       "    .dataframe tbody tr th {\n",
       "        vertical-align: top;\n",
       "    }\n",
       "\n",
       "    .dataframe thead th {\n",
       "        text-align: right;\n",
       "    }\n",
       "</style>\n",
       "<table border=\"1\" class=\"dataframe\">\n",
       "  <thead>\n",
       "    <tr style=\"text-align: right;\">\n",
       "      <th></th>\n",
       "      <th>clean_tweet</th>\n",
       "      <th>sentiment</th>\n",
       "    </tr>\n",
       "  </thead>\n",
       "  <tbody>\n",
       "    <tr>\n",
       "      <td>0</td>\n",
       "      <td>theo walcott is still shit watch rafa and john...</td>\n",
       "      <td>negative</td>\n",
       "    </tr>\n",
       "    <tr>\n",
       "      <td>1</td>\n",
       "      <td>theo walcott is still shit watch rafa and john...</td>\n",
       "      <td>negative</td>\n",
       "    </tr>\n",
       "    <tr>\n",
       "      <td>2</td>\n",
       "      <td>its not that am gsp fan just hate nick diaz ca...</td>\n",
       "      <td>negative</td>\n",
       "    </tr>\n",
       "    <tr>\n",
       "      <td>3</td>\n",
       "      <td>its not that am gsp fan just hate nick diaz ca...</td>\n",
       "      <td>negative</td>\n",
       "    </tr>\n",
       "    <tr>\n",
       "      <td>4</td>\n",
       "      <td>iranian general says israel iron dome cannot d...</td>\n",
       "      <td>negative</td>\n",
       "    </tr>\n",
       "  </tbody>\n",
       "</table>\n",
       "</div>"
      ],
      "text/plain": [
       "                                         clean_tweet sentiment\n",
       "0  theo walcott is still shit watch rafa and john...  negative\n",
       "1  theo walcott is still shit watch rafa and john...  negative\n",
       "2  its not that am gsp fan just hate nick diaz ca...  negative\n",
       "3  its not that am gsp fan just hate nick diaz ca...  negative\n",
       "4  iranian general says israel iron dome cannot d...  negative"
      ]
     },
     "execution_count": 34,
     "metadata": {},
     "output_type": "execute_result"
    }
   ],
   "source": [
    "aug_data.head()"
   ]
  },
  {
   "cell_type": "code",
   "execution_count": 35,
   "metadata": {},
   "outputs": [],
   "source": [
    "traindata=pd.concat([traindata, aug_data], join=\"outer\").sample(frac=1).reset_index(drop=True)"
   ]
  },
  {
   "cell_type": "code",
   "execution_count": 36,
   "metadata": {},
   "outputs": [
    {
     "data": {
      "text/html": [
       "<div>\n",
       "<style scoped>\n",
       "    .dataframe tbody tr th:only-of-type {\n",
       "        vertical-align: middle;\n",
       "    }\n",
       "\n",
       "    .dataframe tbody tr th {\n",
       "        vertical-align: top;\n",
       "    }\n",
       "\n",
       "    .dataframe thead th {\n",
       "        text-align: right;\n",
       "    }\n",
       "</style>\n",
       "<table border=\"1\" class=\"dataframe\">\n",
       "  <thead>\n",
       "    <tr style=\"text-align: right;\">\n",
       "      <th></th>\n",
       "      <th>clean_tweet</th>\n",
       "      <th>sentiment</th>\n",
       "    </tr>\n",
       "  </thead>\n",
       "  <tbody>\n",
       "    <tr>\n",
       "      <td>0</td>\n",
       "      <td>okay tomorrow is hell day cannot wait to get i...</td>\n",
       "      <td>negative</td>\n",
       "    </tr>\n",
       "    <tr>\n",
       "      <td>1</td>\n",
       "      <td>what is tree favourite day of the christian ca...</td>\n",
       "      <td>neutral</td>\n",
       "    </tr>\n",
       "    <tr>\n",
       "      <td>2</td>\n",
       "      <td>need some advice how can spin the wku loss now...</td>\n",
       "      <td>negative</td>\n",
       "    </tr>\n",
       "    <tr>\n",
       "      <td>3</td>\n",
       "      <td>my shuffle is favoring mariah carey hardcore t...</td>\n",
       "      <td>positive</td>\n",
       "    </tr>\n",
       "    <tr>\n",
       "      <td>4</td>\n",
       "      <td>lakers notebook nash listed as doubtful for sh...</td>\n",
       "      <td>negative</td>\n",
       "    </tr>\n",
       "  </tbody>\n",
       "</table>\n",
       "</div>"
      ],
      "text/plain": [
       "                                         clean_tweet sentiment\n",
       "0  okay tomorrow is hell day cannot wait to get i...  negative\n",
       "1  what is tree favourite day of the christian ca...   neutral\n",
       "2  need some advice how can spin the wku loss now...  negative\n",
       "3  my shuffle is favoring mariah carey hardcore t...  positive\n",
       "4  lakers notebook nash listed as doubtful for sh...  negative"
      ]
     },
     "execution_count": 36,
     "metadata": {},
     "output_type": "execute_result"
    }
   ],
   "source": [
    "traindata.head()"
   ]
  },
  {
   "cell_type": "markdown",
   "metadata": {},
   "source": [
    "After augmnetation the dataset is now balanced"
   ]
  },
  {
   "cell_type": "code",
   "execution_count": 37,
   "metadata": {},
   "outputs": [
    {
     "data": {
      "image/png": "[encoded data removed]",
      "text/plain": [
       "<Figure size 432x288 with 1 Axes>"
      ]
     },
     "metadata": {},
     "output_type": "display_data"
    }
   ],
   "source": [
    "plt.pie(traindata['sentiment'].value_counts(), autopct='%1.1f%%', shadow=True)\n",
    "plt.title('Class Distribution');\n",
    "plt.show()"
   ]
  },
  {
   "cell_type": "code",
   "execution_count": 38,
   "metadata": {},
   "outputs": [],
   "source": [
    "train_process=traindata.copy()"
   ]
  },
  {
   "cell_type": "code",
   "execution_count": 42,
   "metadata": {},
   "outputs": [],
   "source": [
    "stop_words = stopwords.words('english')\n",
    "train_process['clean_tweet'] = train_process['clean_tweet'].apply(lambda x: \" \".join(x for x in x.split() if x not in stop_words))"
   ]
  },
  {
   "cell_type": "code",
   "execution_count": 97,
   "metadata": {},
   "outputs": [],
   "source": [
    "testdata['clean_tweet'] = testdata['clean_tweet'].apply(lambda x: \" \".join(x for x in x.split() if x not in stop_words))"
   ]
  },
  {
   "cell_type": "markdown",
   "metadata": {},
   "source": [
    "#### Top 25 and Least 25 words shown"
   ]
  },
  {
   "cell_type": "code",
   "execution_count": 43,
   "metadata": {},
   "outputs": [
    {
     "name": "stdout",
     "output_type": "stream",
     "text": [
      "top 25 used words\n",
      "-----------------\n",
      "co          7278\n",
      "http        6391\n",
      "tomorrow    3694\n",
      "may         3638\n",
      "th          3213\n",
      "day         2349\n",
      "like        1842\n",
      "st          1778\n",
      "night       1744\n",
      "going       1671\n",
      "time        1619\n",
      "get         1512\n",
      "see         1443\n",
      "game        1414\n",
      "go          1401\n",
      "friday      1250\n",
      "one         1219\n",
      "sunday      1145\n",
      "new         1125\n",
      "saturday    1091\n",
      "nd          1077\n",
      "today        961\n",
      "https        944\n",
      "rd           938\n",
      "last         938\n",
      "dtype: int64\n"
     ]
    }
   ],
   "source": [
    "print('top 25 used words')\n",
    "print('-----------------')\n",
    "print(pd.Series(''.join(train_process['clean_tweet']).split()).value_counts()[0:25])\n"
   ]
  },
  {
   "cell_type": "code",
   "execution_count": 44,
   "metadata": {},
   "outputs": [
    {
     "name": "stdout",
     "output_type": "stream",
     "text": [
      "least 25 used words\n",
      "-------------------\n",
      "metlifeapple     1\n",
      "that.cheney      1\n",
      "candystacie      1\n",
      "then?one         1\n",
      "nwom             1\n",
      "rdman            1\n",
      "time.global      1\n",
      "sadwatch         1\n",
      "medibcongrats    1\n",
      "em.tonight       1\n",
      "kidsbitch        1\n",
      "everett          1\n",
      "webanyone        1\n",
      "monsantoheard    1\n",
      "godwanted        1\n",
      "dolphinsst       1\n",
      "devore           1\n",
      "fcmxm            1\n",
      "latech           1\n",
      "burgesshill      1\n",
      "careerrd         1\n",
      "geoff            1\n",
      "mea              1\n",
      "crjcxdreqhope    1\n",
      "saudis           1\n",
      "dtype: int64\n"
     ]
    }
   ],
   "source": [
    "print('least 25 used words')\n",
    "print('-------------------')\n",
    "print(pd.Series(''.join(train_process['clean_tweet']).split()).value_counts()[-25:])"
   ]
  },
  {
   "cell_type": "markdown",
   "metadata": {},
   "source": [
    "#### Lemmatize the sentences"
   ]
  },
  {
   "cell_type": "code",
   "execution_count": 45,
   "metadata": {},
   "outputs": [
    {
     "data": {
      "application/vnd.jupyter.widget-view+json": {
       "model_id": "f577e4b222934c708dd2306336172c4c",
       "version_major": 2,
       "version_minor": 0
      },
      "text/plain": [
       "HBox(children=(IntProgress(value=0, max=28409), HTML(value='')))"
      ]
     },
     "metadata": {},
     "output_type": "display_data"
    },
    {
     "name": "stdout",
     "output_type": "stream",
     "text": [
      "\n"
     ]
    },
    {
     "data": {
      "text/html": [
       "<div>\n",
       "<style scoped>\n",
       "    .dataframe tbody tr th:only-of-type {\n",
       "        vertical-align: middle;\n",
       "    }\n",
       "\n",
       "    .dataframe tbody tr th {\n",
       "        vertical-align: top;\n",
       "    }\n",
       "\n",
       "    .dataframe thead th {\n",
       "        text-align: right;\n",
       "    }\n",
       "</style>\n",
       "<table border=\"1\" class=\"dataframe\">\n",
       "  <thead>\n",
       "    <tr style=\"text-align: right;\">\n",
       "      <th></th>\n",
       "      <th>tweet_lemma</th>\n",
       "      <th>clean_tweet</th>\n",
       "    </tr>\n",
       "  </thead>\n",
       "  <tbody>\n",
       "    <tr>\n",
       "      <td>0</td>\n",
       "      <td>okay tomorrow hell day cannot wait get car dri...</td>\n",
       "      <td>okay tomorrow hell day cannot wait get car dri...</td>\n",
       "    </tr>\n",
       "    <tr>\n",
       "      <td>1</td>\n",
       "      <td>tree favourite day christian calendar ash wedn...</td>\n",
       "      <td>tree favourite day christian calendar ash wedn...</td>\n",
       "    </tr>\n",
       "    <tr>\n",
       "      <td>2</td>\n",
       "      <td>need advice spin wku loss mtsu beat bowling gr...</td>\n",
       "      <td>need advice spin wku loss mtsu beat bowling gr...</td>\n",
       "    </tr>\n",
       "    <tr>\n",
       "      <td>3</td>\n",
       "      <td>shuffle favoring mariah carey hardcore today w...</td>\n",
       "      <td>shuffle favoring mariah carey hardcore today w...</td>\n",
       "    </tr>\n",
       "    <tr>\n",
       "      <td>4</td>\n",
       "      <td>lakers notebook nash listed doubtful showdown ...</td>\n",
       "      <td>lakers notebook nash listed doubtful showdown ...</td>\n",
       "    </tr>\n",
       "  </tbody>\n",
       "</table>\n",
       "</div>"
      ],
      "text/plain": [
       "                                         tweet_lemma  \\\n",
       "0  okay tomorrow hell day cannot wait get car dri...   \n",
       "1  tree favourite day christian calendar ash wedn...   \n",
       "2  need advice spin wku loss mtsu beat bowling gr...   \n",
       "3  shuffle favoring mariah carey hardcore today w...   \n",
       "4  lakers notebook nash listed doubtful showdown ...   \n",
       "\n",
       "                                         clean_tweet  \n",
       "0  okay tomorrow hell day cannot wait get car dri...  \n",
       "1  tree favourite day christian calendar ash wedn...  \n",
       "2  need advice spin wku loss mtsu beat bowling gr...  \n",
       "3  shuffle favoring mariah carey hardcore today w...  \n",
       "4  lakers notebook nash listed doubtful showdown ...  "
      ]
     },
     "execution_count": 45,
     "metadata": {},
     "output_type": "execute_result"
    }
   ],
   "source": [
    "train_process['tweet_lemma']=train_process['clean_tweet'].progress_apply(lambda words: ' '.join( [WordNetLemmatizer().lemmatize(w) for w in words.split()]))\n",
    "train_process[['tweet_lemma','clean_tweet']].head()"
   ]
  },
  {
   "cell_type": "code",
   "execution_count": 98,
   "metadata": {},
   "outputs": [
    {
     "data": {
      "application/vnd.jupyter.widget-view+json": {
       "model_id": "2c704269d6d84bc186d839a43a30b6d8",
       "version_major": 2,
       "version_minor": 0
      },
      "text/plain": [
       "HBox(children=(IntProgress(value=0, max=5398), HTML(value='')))"
      ]
     },
     "metadata": {},
     "output_type": "display_data"
    },
    {
     "name": "stdout",
     "output_type": "stream",
     "text": [
      "\n"
     ]
    },
    {
     "data": {
      "text/html": [
       "<div>\n",
       "<style scoped>\n",
       "    .dataframe tbody tr th:only-of-type {\n",
       "        vertical-align: middle;\n",
       "    }\n",
       "\n",
       "    .dataframe tbody tr th {\n",
       "        vertical-align: top;\n",
       "    }\n",
       "\n",
       "    .dataframe thead th {\n",
       "        text-align: right;\n",
       "    }\n",
       "</style>\n",
       "<table border=\"1\" class=\"dataframe\">\n",
       "  <thead>\n",
       "    <tr style=\"text-align: right;\">\n",
       "      <th></th>\n",
       "      <th>tweet_lemma</th>\n",
       "      <th>clean_tweet</th>\n",
       "    </tr>\n",
       "  </thead>\n",
       "  <tbody>\n",
       "    <tr>\n",
       "      <td>0</td>\n",
       "      <td>atlantic city ventnor margate ocean city area ...</td>\n",
       "      <td>atlantic city ventnor margate ocean city area ...</td>\n",
       "    </tr>\n",
       "    <tr>\n",
       "      <td>1</td>\n",
       "      <td>musical awareness great big beautiful tomorrow...</td>\n",
       "      <td>musical awareness great big beautiful tomorrow...</td>\n",
       "    </tr>\n",
       "    <tr>\n",
       "      <td>2</td>\n",
       "      <td>radio fm fri oct labour analyst shawn hattingh...</td>\n",
       "      <td>radio fm fri oct labour analyst shawn hattingh...</td>\n",
       "    </tr>\n",
       "    <tr>\n",
       "      <td>3</td>\n",
       "      <td>kapan sih lo ngebuktiin jan ngomong doang susa...</td>\n",
       "      <td>kapan sih lo ngebuktiin jan ngomong doang susa...</td>\n",
       "    </tr>\n",
       "    <tr>\n",
       "      <td>4</td>\n",
       "      <td>excuse connectivity live stream baba amr many ...</td>\n",
       "      <td>excuse connectivity live stream baba amr many ...</td>\n",
       "    </tr>\n",
       "  </tbody>\n",
       "</table>\n",
       "</div>"
      ],
      "text/plain": [
       "                                         tweet_lemma  \\\n",
       "0  atlantic city ventnor margate ocean city area ...   \n",
       "1  musical awareness great big beautiful tomorrow...   \n",
       "2  radio fm fri oct labour analyst shawn hattingh...   \n",
       "3  kapan sih lo ngebuktiin jan ngomong doang susa...   \n",
       "4  excuse connectivity live stream baba amr many ...   \n",
       "\n",
       "                                         clean_tweet  \n",
       "0  atlantic city ventnor margate ocean city area ...  \n",
       "1  musical awareness great big beautiful tomorrow...  \n",
       "2  radio fm fri oct labour analyst shawn hattingh...  \n",
       "3  kapan sih lo ngebuktiin jan ngomong doang susa...  \n",
       "4  excuse connectivity live stream baba amr many ...  "
      ]
     },
     "execution_count": 98,
     "metadata": {},
     "output_type": "execute_result"
    }
   ],
   "source": [
    "testdata['tweet_lemma']=testdata['clean_tweet'].progress_apply(lambda words: ' '.join( [WordNetLemmatizer().lemmatize(w) for w in words.split()]))\n",
    "testdata[['tweet_lemma','clean_tweet']].head()"
   ]
  },
  {
   "cell_type": "code",
   "execution_count": 61,
   "metadata": {},
   "outputs": [
    {
     "data": {
      "text/plain": [
       "0        negative\n",
       "1         neutral\n",
       "2        negative\n",
       "3        positive\n",
       "4        negative\n",
       "           ...   \n",
       "28404    positive\n",
       "28405    negative\n",
       "28406    positive\n",
       "28407    negative\n",
       "28408    positive\n",
       "Name: sentiment, Length: 28409, dtype: object"
      ]
     },
     "execution_count": 61,
     "metadata": {},
     "output_type": "execute_result"
    }
   ],
   "source": [
    "train_process['sentiment']"
   ]
  },
  {
   "cell_type": "code",
   "execution_count": 62,
   "metadata": {},
   "outputs": [
    {
     "data": {
      "application/vnd.jupyter.widget-view+json": {
       "model_id": "4ed341c22f254a3484f9d16d5d96fa0f",
       "version_major": 2,
       "version_minor": 0
      },
      "text/plain": [
       "HBox(children=(IntProgress(value=0, max=28409), HTML(value='')))"
      ]
     },
     "metadata": {},
     "output_type": "display_data"
    },
    {
     "name": "stdout",
     "output_type": "stream",
     "text": [
      "\n"
     ]
    },
    {
     "data": {
      "text/plain": [
       "0        0\n",
       "1        2\n",
       "2        0\n",
       "3        4\n",
       "4        0\n",
       "        ..\n",
       "28404    4\n",
       "28405    0\n",
       "28406    4\n",
       "28407    0\n",
       "28408    4\n",
       "Name: sentiment, Length: 28409, dtype: int64"
      ]
     },
     "execution_count": 62,
     "metadata": {},
     "output_type": "execute_result"
    }
   ],
   "source": [
    "def mark_sentiment(sentiment):\n",
    "    if(sentiment=='positive'):\n",
    "        return 4\n",
    "    if(sentiment=='negative'):\n",
    "        return 0\n",
    "    else:\n",
    "        return 2\n",
    "train_process['sentiment']=train_process['sentiment'].progress_apply(mark_sentiment)\n",
    "train_process['sentiment']"
   ]
  },
  {
   "cell_type": "code",
   "execution_count": 85,
   "metadata": {},
   "outputs": [],
   "source": [
    "# convert text into numeric values using tf-idf vectorizer\n",
    "tfidfconverter = TfidfVectorizer(\n",
    "                                 min_df=5, \n",
    "                                 max_df=0.7,\n",
    "                                 ngram_range=(1,2),\n",
    "                                 stop_words='english'\n",
    "                                )  \n",
    "X = tfidfconverter.fit_transform(train_process['tweet_lemma']).toarray()\n",
    "y = train_process['sentiment'].values"
   ]
  },
  {
   "cell_type": "code",
   "execution_count": 88,
   "metadata": {},
   "outputs": [
    {
     "name": "stderr",
     "output_type": "stream",
     "text": [
      "[Parallel(n_jobs=-1)]: Using backend ThreadingBackend with 12 concurrent workers.\n",
      "[Parallel(n_jobs=-1)]: Done  26 tasks      | elapsed:   24.8s\n",
      "[Parallel(n_jobs=-1)]: Done 176 tasks      | elapsed:  2.2min\n",
      "[Parallel(n_jobs=-1)]: Done 400 out of 400 | elapsed:  4.8min finished\n"
     ]
    },
    {
     "data": {
      "text/plain": [
       "RandomForestClassifier(bootstrap=True, class_weight=None, criterion='gini',\n",
       "                       max_depth=None, max_features='auto', max_leaf_nodes=None,\n",
       "                       min_impurity_decrease=0.0, min_impurity_split=None,\n",
       "                       min_samples_leaf=1, min_samples_split=2,\n",
       "                       min_weight_fraction_leaf=0.0, n_estimators=400,\n",
       "                       n_jobs=-1, oob_score=False, random_state=None,\n",
       "                       verbose=True, warm_start=False)"
      ]
     },
     "execution_count": 88,
     "metadata": {},
     "output_type": "execute_result"
    }
   ],
   "source": [
    "X_train, X_test, y_train, y_test = train_test_split(X, y, test_size=0.2, random_state=0)\n",
    "text_classifier = RandomForestClassifier(n_estimators=400,n_jobs=-1,verbose=True)\n",
    "text_classifier.fit(X_train, y_train)"
   ]
  },
  {
   "cell_type": "code",
   "execution_count": 89,
   "metadata": {},
   "outputs": [
    {
     "name": "stderr",
     "output_type": "stream",
     "text": [
      "[Parallel(n_jobs=12)]: Using backend ThreadingBackend with 12 concurrent workers.\n",
      "[Parallel(n_jobs=12)]: Done  26 tasks      | elapsed:    0.1s\n",
      "[Parallel(n_jobs=12)]: Done 176 tasks      | elapsed:    0.5s\n"
     ]
    },
    {
     "name": "stdout",
     "output_type": "stream",
     "text": [
      "Classification Report :\n",
      "               precision    recall  f1-score   support\n",
      "\n",
      "           0       0.82      0.91      0.86      2076\n",
      "           2       0.63      0.72      0.67      1801\n",
      "           4       0.75      0.56      0.64      1805\n",
      "\n",
      "    accuracy                           0.74      5682\n",
      "   macro avg       0.73      0.73      0.72      5682\n",
      "weighted avg       0.74      0.74      0.73      5682\n",
      " \n",
      " Model Acurracy = 0.7353044702569518\n",
      "\n",
      " Confusion Matrix\n"
     ]
    },
    {
     "name": "stderr",
     "output_type": "stream",
     "text": [
      "[Parallel(n_jobs=12)]: Done 400 out of 400 | elapsed:    1.1s finished\n"
     ]
    },
    {
     "ename": "NameError",
     "evalue": "name 'sn' is not defined",
     "output_type": "error",
     "traceback": [
      "\u001b[0;31m---------------------------------------------------------------------------\u001b[0m",
      "\u001b[0;31mNameError\u001b[0m                                 Traceback (most recent call last)",
      "\u001b[0;32m<ipython-input-89-948a5d4fae04>\u001b[0m in \u001b[0;36m<module>\u001b[0;34m\u001b[0m\n\u001b[1;32m      6\u001b[0m \u001b[0mprint\u001b[0m\u001b[0;34m(\u001b[0m\u001b[0;34m\"\\n Confusion Matrix\"\u001b[0m\u001b[0;34m)\u001b[0m\u001b[0;34m\u001b[0m\u001b[0;34m\u001b[0m\u001b[0m\n\u001b[1;32m      7\u001b[0m \u001b[0mdf_cm\u001b[0m \u001b[0;34m=\u001b[0m \u001b[0mpd\u001b[0m\u001b[0;34m.\u001b[0m\u001b[0mDataFrame\u001b[0m\u001b[0;34m(\u001b[0m\u001b[0mconfusion_matrix\u001b[0m\u001b[0;34m(\u001b[0m\u001b[0my_test\u001b[0m\u001b[0;34m,\u001b[0m \u001b[0mpredictions\u001b[0m\u001b[0;34m)\u001b[0m\u001b[0;34m,\u001b[0m\u001b[0;34m[\u001b[0m\u001b[0;36m0\u001b[0m\u001b[0;34m,\u001b[0m\u001b[0;36m2\u001b[0m\u001b[0;34m,\u001b[0m\u001b[0;36m4\u001b[0m\u001b[0;34m]\u001b[0m\u001b[0;34m,\u001b[0m\u001b[0;34m[\u001b[0m\u001b[0;36m0\u001b[0m\u001b[0;34m,\u001b[0m\u001b[0;36m2\u001b[0m\u001b[0;34m,\u001b[0m\u001b[0;36m4\u001b[0m\u001b[0;34m]\u001b[0m\u001b[0;34m)\u001b[0m\u001b[0;34m\u001b[0m\u001b[0;34m\u001b[0m\u001b[0m\n\u001b[0;32m----> 8\u001b[0;31m \u001b[0msn\u001b[0m\u001b[0;34m.\u001b[0m\u001b[0mset\u001b[0m\u001b[0;34m(\u001b[0m\u001b[0mfont_scale\u001b[0m\u001b[0;34m=\u001b[0m\u001b[0;36m1.2\u001b[0m\u001b[0;34m)\u001b[0m\u001b[0;31m#for label size\u001b[0m\u001b[0;34m\u001b[0m\u001b[0;34m\u001b[0m\u001b[0m\n\u001b[0m\u001b[1;32m      9\u001b[0m \u001b[0msn\u001b[0m\u001b[0;34m.\u001b[0m\u001b[0mheatmap\u001b[0m\u001b[0;34m(\u001b[0m\u001b[0mdf_cm\u001b[0m\u001b[0;34m,\u001b[0m \u001b[0mannot\u001b[0m\u001b[0;34m=\u001b[0m\u001b[0;32mTrue\u001b[0m\u001b[0;34m,\u001b[0m\u001b[0mannot_kws\u001b[0m\u001b[0;34m=\u001b[0m\u001b[0;34m{\u001b[0m\u001b[0;34m\"size\"\u001b[0m\u001b[0;34m:\u001b[0m \u001b[0;36m20\u001b[0m\u001b[0;34m}\u001b[0m\u001b[0;34m)\u001b[0m\u001b[0;34m\u001b[0m\u001b[0;34m\u001b[0m\u001b[0m\n",
      "\u001b[0;31mNameError\u001b[0m: name 'sn' is not defined"
     ]
    }
   ],
   "source": [
    "# model testing\n",
    "predictions = text_classifier.predict(X_test)\n",
    "print(\"Classification Report :\\n {} \\n Model Acurracy = {}\".format(classification_report(y_test,predictions),\n",
    "                                                                 accuracy_score(y_test, predictions)))\n",
    "# confusion matrix\n",
    "print(\"\\n Confusion Matrix\")\n",
    "df_cm = pd.DataFrame(confusion_matrix(y_test, predictions),[0,2,4],[0,2,4])"
   ]
  },
  {
   "cell_type": "markdown",
   "metadata": {},
   "source": [
    "deep learning"
   ]
  },
  {
   "cell_type": "code",
   "execution_count": 111,
   "metadata": {},
   "outputs": [],
   "source": [
    "ycat=pd.get_dummies(train_process['sentiment']).values\n",
    "X=train_process['tweet_lemma'].values\n",
    "tk = Tokenizer()\n",
    "tk.fit_on_texts(X)\n",
    "X_seq = tk.texts_to_sequences(X)\n",
    "X_pad = pad_sequences(X_seq, maxlen=25, padding='post')\n",
    "X_train, X_test, y_train, y_test = train_test_split(X_pad, ycat, test_size = 0.25, random_state = 1)"
   ]
  },
  {
   "cell_type": "code",
   "execution_count": 114,
   "metadata": {},
   "outputs": [
    {
     "name": "stdout",
     "output_type": "stream",
     "text": [
      "Model: \"sequential_2\"\n",
      "_________________________________________________________________\n",
      "Layer (type)                 Output Shape              Param #   \n",
      "=================================================================\n",
      "embedding_2 (Embedding)      (None, 25, 32)            1045856   \n",
      "_________________________________________________________________\n",
      "flatten_2 (Flatten)          (None, 800)               0         \n",
      "_________________________________________________________________\n",
      "dense_2 (Dense)              (None, 3)                 2403      \n",
      "=================================================================\n",
      "Total params: 1,048,259\n",
      "Trainable params: 1,048,259\n",
      "Non-trainable params: 0\n",
      "_________________________________________________________________\n"
     ]
    }
   ],
   "source": [
    "vocabulary_size = len(tk.word_counts.keys())+1\n",
    "max_words = 25\n",
    "embedding_size = 32\n",
    "model = Sequential()\n",
    "model.add(Embedding(vocabulary_size, embedding_size, input_length=max_words))\n",
    "model.add(Flatten())\n",
    "model.add(Dense(3, activation='softmax'))\n",
    "model.compile(loss='categorical_crossentropy', optimizer='adam', metrics=['accuracy'])\n",
    "model.summary()"
   ]
  },
  {
   "cell_type": "code",
   "execution_count": 115,
   "metadata": {},
   "outputs": [
    {
     "name": "stdout",
     "output_type": "stream",
     "text": [
      "WARNING:tensorflow:From /home/shriaman/anaconda3/lib/python3.7/site-packages/keras/backend/tensorflow_backend.py:422: The name tf.global_variables is deprecated. Please use tf.compat.v1.global_variables instead.\n",
      "\n",
      "Train on 21306 samples, validate on 7103 samples\n",
      "Epoch 1/4\n",
      "21306/21306 [==============================] - 5s 255us/step - loss: 0.9237 - accuracy: 0.5606 - val_loss: 0.7237 - val_accuracy: 0.6877\n",
      "Epoch 2/4\n",
      "21306/21306 [==============================] - 5s 257us/step - loss: 0.4932 - accuracy: 0.8221 - val_loss: 0.5968 - val_accuracy: 0.7480\n",
      "Epoch 3/4\n",
      "21306/21306 [==============================] - 6s 261us/step - loss: 0.2403 - accuracy: 0.9344 - val_loss: 0.5798 - val_accuracy: 0.7529\n",
      "Epoch 4/4\n",
      "21306/21306 [==============================] - 5s 255us/step - loss: 0.1129 - accuracy: 0.9781 - val_loss: 0.6100 - val_accuracy: 0.7504\n"
     ]
    }
   ],
   "source": [
    "history=model.fit(X_train,y_train,validation_data=(X_test,y_test),batch_size=32,epochs=4,verbose=True)"
   ]
  },
  {
   "cell_type": "code",
   "execution_count": 116,
   "metadata": {},
   "outputs": [
    {
     "data": {
      "image/png": "[encoded data removed]",
      "text/plain": [
       "<Figure size 432x288 with 1 Axes>"
      ]
     },
     "metadata": {
      "needs_background": "light"
     },
     "output_type": "display_data"
    },
    {
     "data": {
      "image/png": "[encoded data removed]",
      "text/plain": [
       "<Figure size 432x288 with 1 Axes>"
      ]
     },
     "metadata": {
      "needs_background": "light"
     },
     "output_type": "display_data"
    }
   ],
   "source": [
    "# summarize history for accuracy\n",
    "plt.plot(history.history['accuracy'])\n",
    "plt.plot(history.history['val_accuracy'])\n",
    "plt.title('model accuracy')\n",
    "plt.ylabel('accuracy')\n",
    "plt.xlabel('epoch')\n",
    "plt.legend(['train', 'test'], loc='upper left')\n",
    "plt.show()\n",
    "# summarize history for loss\n",
    "plt.plot(history.history['loss'])\n",
    "plt.plot(history.history['val_loss'])\n",
    "plt.title('model loss')\n",
    "plt.ylabel('loss')\n",
    "plt.xlabel('epoch')\n",
    "plt.legend(['train', 'test'], loc='upper left')\n",
    "plt.show()"
   ]
  },
  {
   "cell_type": "code",
   "execution_count": 118,
   "metadata": {},
   "outputs": [
    {
     "name": "stdout",
     "output_type": "stream",
     "text": [
      "Classification Report :\n",
      "               precision    recall  f1-score   support\n",
      "\n",
      "    negative       1.00      0.38      0.55      7103\n",
      "     neutral       0.00      0.00      0.00         0\n",
      "    positive       0.00      0.00      0.00         0\n",
      "\n",
      "    accuracy                           0.38      7103\n",
      "   macro avg       0.33      0.13      0.18      7103\n",
      "weighted avg       1.00      0.38      0.55      7103\n",
      " \n",
      " Model Acurracy = 0.3812473602703083\n",
      "\n",
      " Confusion Matrix\n"
     ]
    },
    {
     "name": "stderr",
     "output_type": "stream",
     "text": [
      "/home/shriaman/anaconda3/lib/python3.7/site-packages/sklearn/metrics/classification.py:1439: UndefinedMetricWarning: Recall and F-score are ill-defined and being set to 0.0 in labels with no true samples.\n",
      "  'recall', 'true', average, warn_for)\n"
     ]
    },
    {
     "data": {
      "text/plain": [
       "<matplotlib.axes._subplots.AxesSubplot at 0x7fbb4ade8e90>"
      ]
     },
     "execution_count": 118,
     "metadata": {},
     "output_type": "execute_result"
    },
    {
     "data": {
      "image/png": "[encoded data removed]",
      "text/plain": [
       "<Figure size 432x288 with 2 Axes>"
      ]
     },
     "metadata": {},
     "output_type": "display_data"
    }
   ],
   "source": [
    "# model testing\n",
    "predictions = [np.argmax(i) for i in model.predict(X_test)]\n",
    "y_test=[np.argmax(i) for i in y_test]\n",
    "print(\"Classification Report :\\n {} \\n Model Acurracy = {}\".format(classification_report(y_test,predictions,\n",
    "                                                                                         target_names=['negative','neutral','positive']),\n",
    "                                                                 accuracy_score(y_test, predictions)))\n",
    "# confusion matrix\n",
    "print(\"\\n Confusion Matrix\")\n",
    "df_cm = pd.DataFrame(confusion_matrix(y_test, predictions),['negative','neutral','positive'],['negative','neutral','positive'])\n",
    "sns.set(font_scale=1.2)#for label size\n",
    "sns.heatmap(df_cm, annot=True,annot_kws={\"size\": 20})"
   ]
  },
  {
   "cell_type": "code",
   "execution_count": null,
   "metadata": {},
   "outputs": [],
   "source": [
    "predictions = [np.argmax(i) for i in model.predict(X_test)]"
   ]
  },
  {
   "cell_type": "code",
   "execution_count": 100,
   "metadata": {},
   "outputs": [],
   "source": [
    "test = tfidfconverter.transform(testdata['tweet_lemma']).toarray()"
   ]
  },
  {
   "cell_type": "code",
   "execution_count": 102,
   "metadata": {},
   "outputs": [
    {
     "name": "stderr",
     "output_type": "stream",
     "text": [
      "[Parallel(n_jobs=12)]: Using backend ThreadingBackend with 12 concurrent workers.\n",
      "[Parallel(n_jobs=12)]: Done  26 tasks      | elapsed:    0.1s\n",
      "[Parallel(n_jobs=12)]: Done 176 tasks      | elapsed:    0.4s\n",
      "[Parallel(n_jobs=12)]: Done 400 out of 400 | elapsed:    1.1s finished\n"
     ]
    }
   ],
   "source": [
    "test_predictions = text_classifier.predict(test)"
   ]
  },
  {
   "cell_type": "code",
   "execution_count": 103,
   "metadata": {},
   "outputs": [
    {
     "data": {
      "text/plain": [
       "array([4, 4, 2, ..., 2, 0, 4])"
      ]
     },
     "execution_count": 103,
     "metadata": {},
     "output_type": "execute_result"
    }
   ],
   "source": [
    "test_predictions"
   ]
  },
  {
   "cell_type": "code",
   "execution_count": 105,
   "metadata": {},
   "outputs": [
    {
     "data": {
      "text/plain": [
       "neutral     3223\n",
       "positive    1715\n",
       "negative     460\n",
       "Name: sentiment, dtype: int64"
      ]
     },
     "execution_count": 105,
     "metadata": {},
     "output_type": "execute_result"
    }
   ],
   "source": [
    "def class_sentiment(prediction):\n",
    "    n = len(prediction)\n",
    "    sentiment = []\n",
    "    for i in range(n):\n",
    "        if(prediction[i] == 4):\n",
    "            sentiment.append('positive')\n",
    "        elif(prediction[i]==2):\n",
    "            sentiment.append('neutral')\n",
    "        else:\n",
    "            sentiment.append('negative')\n",
    "    return sentiment\n",
    "sentiment = class_sentiment(test_predictions)\n",
    "testdata['sentiment'] = sentiment\n",
    "testdata['sentiment'].value_counts()"
   ]
  },
  {
   "cell_type": "code",
   "execution_count": 108,
   "metadata": {},
   "outputs": [],
   "source": [
    "testdata = testdata[['tweet_id','sentiment']]\n",
    "test_list = []\n",
    "heading = ['tweet_id', 'sentiment']\n",
    "test_list.append(heading)\n",
    "for i in range(len(testdata['tweet_id'])):\n",
    "    sub = []\n",
    "    sub.append(testdata['tweet_id'][i])\n",
    "    sub.append(testdata['sentiment'][i])\n",
    "    test_list.append(sub)"
   ]
  },
  {
   "cell_type": "code",
   "execution_count": 109,
   "metadata": {},
   "outputs": [
    {
     "data": {
      "text/plain": [
       "5399"
      ]
     },
     "execution_count": 109,
     "metadata": {},
     "output_type": "execute_result"
    }
   ],
   "source": [
    "len(test_list)"
   ]
  },
  {
   "cell_type": "code",
   "execution_count": 110,
   "metadata": {},
   "outputs": [
    {
     "name": "stdout",
     "output_type": "stream",
     "text": [
      "<class 'pandas.core.frame.DataFrame'>\n",
      "RangeIndex: 5398 entries, 0 to 5397\n",
      "Data columns (total 2 columns):\n",
      "tweet_id     5398 non-null int64\n",
      "sentiment    5398 non-null object\n",
      "dtypes: int64(1), object(1)\n",
      "memory usage: 84.5+ KB\n"
     ]
    }
   ],
   "source": [
    "import csv\n",
    "with open('junelast.csv', 'w', newline='') as fp:\n",
    "    a = csv.writer(fp, delimiter = \",\")\n",
    "    data = test_list\n",
    "    a.writerows(data)\n",
    "check = pd.read_csv(\"junelast.csv\")\n",
    "check.info()"
   ]
  }
 ],
 "metadata": {
  "kernelspec": {
   "display_name": "Python 3",
   "language": "python",
   "name": "python3"
  },
  "language_info": {
   "codemirror_mode": {
    "name": "ipython",
    "version": 3
   },
   "file_extension": ".py",
   "mimetype": "text/x-python",
   "name": "python",
   "nbconvert_exporter": "python",
   "pygments_lexer": "ipython3",
   "version": "3.7.4"
  }
 },
 "nbformat": 4,
 "nbformat_minor": 4
}
