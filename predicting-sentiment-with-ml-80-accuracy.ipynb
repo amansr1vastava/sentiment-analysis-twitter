{
 "cells": [
  {
   "cell_type": "code",
   "execution_count": 1,
   "metadata": {
    "_kg_hide-input": true
   },
   "outputs": [
    {
     "name": "stderr",
     "output_type": "stream",
     "text": [
      "Using TensorFlow backend.\n"
     ]
    },
    {
     "name": "stdout",
     "output_type": "stream",
     "text": [
      "\n",
      "# Files and file sizes\n",
      "database.sqlite               | 5.04 MB\n",
      "Tweets.csv                    | 3.42 MB\n"
     ]
    }
   ],
   "source": [
    "# For notebook plotting\n",
    "%matplotlib inline\n",
    "\n",
    "# Standard packages\n",
    "import os\n",
    "import pickle\n",
    "import sqlite3\n",
    "import numpy as np\n",
    "import pandas as pd\n",
    "import matplotlib.pyplot as plt\n",
    "\n",
    "# nltk for preprocessing of text data\n",
    "import nltk\n",
    "from nltk.tokenize import sent_tokenize, word_tokenize\n",
    "from nltk.corpus import stopwords\n",
    "from nltk.stem.snowball import SnowballStemmer\n",
    "\n",
    "# sklearn for preprocessing and machine learning models\n",
    "from sklearn.model_selection import train_test_split\n",
    "from sklearn.naive_bayes import MultinomialNB\n",
    "from sklearn.ensemble import GradientBoostingClassifier\n",
    "from sklearn.metrics  import accuracy_score\n",
    "from sklearn.utils import shuffle\n",
    "from sklearn.preprocessing import OneHotEncoder\n",
    "from sklearn.feature_extraction.text import TfidfVectorizer\n",
    "\n",
    "# XGBoost for Machine Learning (Gradient Boosting Machine (GBM))\n",
    "import xgboost as xgb\n",
    "\n",
    "# Keras for neural networks\n",
    "import keras\n",
    "from keras.models import Sequential\n",
    "from keras.layers import Dense, Dropout, BatchNormalization\n",
    "from keras.layers import Flatten\n",
    "from keras.layers.embeddings import Embedding\n",
    "from keras.preprocessing import sequence\n",
    "from keras.utils import to_categorical\n",
    "from keras.callbacks import EarlyStopping\n",
    "\n",
    "# Random seeds for consistent results\n",
    "from tensorflow import set_random_seed\n",
    "seed = 1234\n",
    "np.random.seed(seed)\n",
    "set_random_seed(seed)\n",
    "\n",
    "# Directory\n",
    "KAGGLE_DIR = '../input/'\n",
    "\n",
    "# List files and file sizes\n",
    "print('\\n# Files and file sizes')\n",
    "for file in os.listdir(KAGGLE_DIR):\n",
    "    print('{}| {} MB'.format(file.ljust(30), \n",
    "                             str(round(os.path.getsize(KAGGLE_DIR + file) / 1000000, 2))))"
   ]
  },
  {
   "cell_type": "markdown",
   "metadata": {},
   "source": [
    "## Data Exploration"
   ]
  },
  {
   "cell_type": "markdown",
   "metadata": {},
   "source": [
    "For this section we are mostly interested in feature selection and the distribution of the target variable (airline_sentiment). If the target variable distribution is realistic and plausible we will move on the text preprocessing."
   ]
  },
  {
   "cell_type": "code",
   "execution_count": 2,
   "metadata": {
    "_kg_hide-input": true
   },
   "outputs": [
    {
     "name": "stdout",
     "output_type": "stream",
     "text": [
      "Raw Dataframe:\n"
     ]
    },
    {
     "data": {
      "text/html": [
       "<div>\n",
       "<style scoped>\n",
       "    .dataframe tbody tr th:only-of-type {\n",
       "        vertical-align: middle;\n",
       "    }\n",
       "\n",
       "    .dataframe tbody tr th {\n",
       "        vertical-align: top;\n",
       "    }\n",
       "\n",
       "    .dataframe thead th {\n",
       "        text-align: right;\n",
       "    }\n",
       "</style>\n",
       "<table border=\"1\" class=\"dataframe\">\n",
       "  <thead>\n",
       "    <tr style=\"text-align: right;\">\n",
       "      <th></th>\n",
       "      <th>tweet_id</th>\n",
       "      <th>airline_sentiment</th>\n",
       "      <th>airline_sentiment_confidence</th>\n",
       "      <th>negativereason</th>\n",
       "      <th>negativereason_confidence</th>\n",
       "      <th>airline</th>\n",
       "      <th>airline_sentiment_gold</th>\n",
       "      <th>name</th>\n",
       "      <th>negativereason_gold</th>\n",
       "      <th>retweet_count</th>\n",
       "      <th>text</th>\n",
       "      <th>tweet_coord</th>\n",
       "      <th>tweet_created</th>\n",
       "      <th>tweet_location</th>\n",
       "      <th>user_timezone</th>\n",
       "    </tr>\n",
       "  </thead>\n",
       "  <tbody>\n",
       "    <tr>\n",
       "      <th>0</th>\n",
       "      <td>570306133677760513</td>\n",
       "      <td>neutral</td>\n",
       "      <td>1.0</td>\n",
       "      <td>NaN</td>\n",
       "      <td>NaN</td>\n",
       "      <td>Virgin America</td>\n",
       "      <td>NaN</td>\n",
       "      <td>cairdin</td>\n",
       "      <td>NaN</td>\n",
       "      <td>0</td>\n",
       "      <td>@VirginAmerica What @dhepburn said.</td>\n",
       "      <td>NaN</td>\n",
       "      <td>2015-02-24 11:35:52 -0800</td>\n",
       "      <td>NaN</td>\n",
       "      <td>Eastern Time (US &amp; Canada)</td>\n",
       "    </tr>\n",
       "  </tbody>\n",
       "</table>\n",
       "</div>"
      ],
      "text/plain": [
       "             tweet_id             ...                           user_timezone\n",
       "0  570306133677760513             ...              Eastern Time (US & Canada)\n",
       "\n",
       "[1 rows x 15 columns]"
      ]
     },
     "execution_count": 2,
     "metadata": {},
     "output_type": "execute_result"
    }
   ],
   "source": [
    "# Read in dataset\n",
    "raw_df = pd.read_csv(f'{KAGGLE_DIR}Tweets.csv') \n",
    "print('Raw Dataframe:')\n",
    "raw_df.head(1)"
   ]
  },
  {
   "cell_type": "code",
   "execution_count": 3,
   "metadata": {
    "_kg_hide-input": true
   },
   "outputs": [
    {
     "name": "stdout",
     "output_type": "stream",
     "text": [
      "Feature selected DataFrame:\n"
     ]
    },
    {
     "data": {
      "text/html": [
       "<div>\n",
       "<style scoped>\n",
       "    .dataframe tbody tr th:only-of-type {\n",
       "        vertical-align: middle;\n",
       "    }\n",
       "\n",
       "    .dataframe tbody tr th {\n",
       "        vertical-align: top;\n",
       "    }\n",
       "\n",
       "    .dataframe thead th {\n",
       "        text-align: right;\n",
       "    }\n",
       "</style>\n",
       "<table border=\"1\" class=\"dataframe\">\n",
       "  <thead>\n",
       "    <tr style=\"text-align: right;\">\n",
       "      <th></th>\n",
       "      <th>tweet_id</th>\n",
       "      <th>text</th>\n",
       "      <th>airline_sentiment</th>\n",
       "    </tr>\n",
       "  </thead>\n",
       "  <tbody>\n",
       "    <tr>\n",
       "      <th>0</th>\n",
       "      <td>570306133677760513</td>\n",
       "      <td>@VirginAmerica What @dhepburn said.</td>\n",
       "      <td>neutral</td>\n",
       "    </tr>\n",
       "    <tr>\n",
       "      <th>1</th>\n",
       "      <td>570301130888122368</td>\n",
       "      <td>@VirginAmerica plus you've added commercials t...</td>\n",
       "      <td>positive</td>\n",
       "    </tr>\n",
       "  </tbody>\n",
       "</table>\n",
       "</div>"
      ],
      "text/plain": [
       "             tweet_id        ...        airline_sentiment\n",
       "0  570306133677760513        ...                  neutral\n",
       "1  570301130888122368        ...                 positive\n",
       "\n",
       "[2 rows x 3 columns]"
      ]
     },
     "execution_count": 3,
     "metadata": {},
     "output_type": "execute_result"
    }
   ],
   "source": [
    "# Select features\n",
    "df = raw_df[['tweet_id', 'text', 'airline_sentiment']]\n",
    "print('Feature selected DataFrame:')\n",
    "df.head(2)"
   ]
  },
  {
   "cell_type": "markdown",
   "metadata": {},
   "source": [
    "Note that the dataset is biased toward negative tweets. This is fine as long as the data we are trying to model is also biased towards negative. We are going to assume here that airline tweets outside this dataset also is for ± 60% negative."
   ]
  },
  {
   "cell_type": "code",
   "execution_count": 4,
   "metadata": {
    "_kg_hide-input": true
   },
   "outputs": [
    {
     "data": {
      "image/png": "[encoded data removed]",
      "text/plain": [
       "<Figure size 1080x720 with 1 Axes>"
      ]
     },
     "metadata": {},
     "output_type": "display_data"
    }
   ],
   "source": [
    "# Plot sentiment distribution\n",
    "df['airline_sentiment'].value_counts().plot(kind = 'barh',\n",
    "                                            figsize = (15,10));\n",
    "plt.title('Distribution of airline sentiment in Kaggle dataset', \n",
    "          fontsize = 26, weight = 'bold')\n",
    "plt.xlabel('Frequency', fontsize = 22)\n",
    "plt.xticks(fontsize = 20)\n",
    "plt.yticks(fontsize = 20);"
   ]
  },
  {
   "cell_type": "markdown",
   "metadata": {},
   "source": [
    "## Preprocessing"
   ]
  },
  {
   "cell_type": "markdown",
   "metadata": {},
   "source": [
    "We created a preprocessor class to perform all steps that need to be performed before the text data can be vectorized. These preprocessing steps include:\n",
    "1. [Tokenization](https://en.wikipedia.org/wiki/Lexical_analysis#Tokenization)\n",
    "2. Removing [stop words](https://en.wikipedia.org/wiki/Stop_words)\n",
    "3. [Stemming](https://en.wikipedia.org/wiki/Stemming)\n",
    "4. Transform the tokens back to one string"
   ]
  },
  {
   "cell_type": "code",
   "execution_count": 5,
   "metadata": {},
   "outputs": [],
   "source": [
    "class PreProcessor:\n",
    "    '''\n",
    "    Easily performs all the standard preprocessing steps\n",
    "    like removing stopwords, stemming, etc.\n",
    "    Only input that you need to provide is the dataframe and column name for the tweets\n",
    "    '''\n",
    "    def __init__(self, df, column_name):\n",
    "        self.data = df\n",
    "        self.conversations = list(self.data[column_name])\n",
    "        self.stopwords = set(stopwords.words('english'))\n",
    "        self.stemmer = SnowballStemmer(\"english\")\n",
    "        self.preprocessed = []\n",
    "        \n",
    "    def tokenize(self, sentence):\n",
    "        '''\n",
    "        Splits up words and makes a list of all words in the tweet\n",
    "        '''\n",
    "        tokenized_sentence = word_tokenize(sentence)\n",
    "        return tokenized_sentence\n",
    "            \n",
    "    def remove_stopwords(self, sentence):\n",
    "        '''Removes stopwords like 'a', 'the', 'and', etc.'''\n",
    "        filtered_sentence = []\n",
    "        for w in sentence:\n",
    "            if w not in self.stopwords and len(w) > 1 and w[:2] != '//' and w != 'https': \n",
    "                filtered_sentence.append(w)\n",
    "        return filtered_sentence\n",
    "    \n",
    "    def stem(self, sentence):\n",
    "        '''\n",
    "        Stems certain words to their root form.\n",
    "        For example, words like 'computer', 'computation'\n",
    "        all get truncated to 'comput'\n",
    "        '''\n",
    "        return [self.stemmer.stem(word) for word in sentence]\n",
    "    \n",
    "    def join_to_string(self, sentence):\n",
    "        '''\n",
    "        Joins the tokenized words to one string.\n",
    "        '''\n",
    "        return ' '.join(sentence)\n",
    "    \n",
    "    def full_preprocess(self, n_rows=None):\n",
    "        '''\n",
    "        Preprocess a selected number of rows and\n",
    "        connects them back to strings\n",
    "        '''\n",
    "        # If nothing is given do it for the whole dataset\n",
    "        if n_rows == None:\n",
    "            n_rows = len(self.data)\n",
    "            \n",
    "        # Perform preprocessing\n",
    "        for i in range(n_rows):\n",
    "            tweet = self.conversations[i]\n",
    "            tokenized = self.tokenize(tweet)\n",
    "            cleaned = self.remove_stopwords(tokenized)\n",
    "            stemmed = self.stem(cleaned)\n",
    "            joined = self.join_to_string(stemmed)\n",
    "            self.preprocessed.append(joined)\n",
    "        return self.preprocessed"
   ]
  },
  {
   "cell_type": "code",
   "execution_count": 6,
   "metadata": {
    "_kg_hide-output": true
   },
   "outputs": [
    {
     "name": "stderr",
     "output_type": "stream",
     "text": [
      "/opt/conda/lib/python3.6/site-packages/ipykernel_launcher.py:3: SettingWithCopyWarning: \n",
      "A value is trying to be set on a copy of a slice from a DataFrame.\n",
      "Try using .loc[row_indexer,col_indexer] = value instead\n",
      "\n",
      "See the caveats in the documentation: http://pandas.pydata.org/pandas-docs/stable/indexing.html#indexing-view-versus-copy\n",
      "  This is separate from the ipykernel package so we can avoid doing imports until\n"
     ]
    }
   ],
   "source": [
    "# Preprocess text and put it in a new column\n",
    "preprocessor = PreProcessor(df, 'text')\n",
    "df['cleaned_text'] = preprocessor.full_preprocess()"
   ]
  },
  {
   "cell_type": "markdown",
   "metadata": {},
   "source": [
    "## Split data into train, validation and test sets"
   ]
  },
  {
   "cell_type": "markdown",
   "metadata": {},
   "source": [
    "We split the data into a training set, validation set and test set. This is crucial for training and evaluation of good machine learning models.\n",
    "\n",
    "The data will be shuffled and we take 1000 tweets for our test set. The remaining data will be split 80/20. This means that 80% will be used for training and 20% for validation set. During the model training phase our goal is to maximize the accuracy on the validation set. The test set is to check that our model truly generalizes to data it has never seen before."
   ]
  },
  {
   "cell_type": "code",
   "execution_count": 7,
   "metadata": {},
   "outputs": [],
   "source": [
    "# Shuffling so we can get random tweets for the test set\n",
    "df = shuffle(df, random_state=seed)\n",
    "# Keep 1000 samples of the data as test set\n",
    "test_set = df[:1000]"
   ]
  },
  {
   "cell_type": "code",
   "execution_count": 8,
   "metadata": {},
   "outputs": [],
   "source": [
    "# Get training and validation data\n",
    "X_train, X_val, y_train, y_val = train_test_split(df['cleaned_text'][1000:], \n",
    "                                                  df['airline_sentiment'][1000:], \n",
    "                                                  test_size=0.2, \n",
    "                                                  random_state=seed)\n",
    "\n",
    "# Get sentiment labels for test set\n",
    "y_test = test_set['airline_sentiment']"
   ]
  },
  {
   "cell_type": "markdown",
   "metadata": {},
   "source": [
    "## Data vectorization"
   ]
  },
  {
   "cell_type": "markdown",
   "metadata": {},
   "source": [
    "Many machine learning models can only be trained on numerical input in the form of vectors or matrices. To prepare our tweets for the machine learning models we create a [term frequency-inverse document frequency (tf-idf) vectorization](https://en.wikipedia.org/wiki/Tf%E2%80%93idf). The result of this vectorization is a [sparse matrix](https://en.wikipedia.org/wiki/Sparse_matrix) which contains a convenient representation of our tweets.\n",
    "\n",
    "The machine learning will learn which word frequency is important to predict a correct sentiment. "
   ]
  },
  {
   "cell_type": "code",
   "execution_count": 9,
   "metadata": {},
   "outputs": [],
   "source": [
    "# Create matrix based on word frequency in tweets\n",
    "vectorizer = TfidfVectorizer()\n",
    "X_train = vectorizer.fit_transform(X_train)\n",
    "X_val = vectorizer.transform(X_val)\n",
    "X_test = vectorizer.transform(test_set['cleaned_text'])"
   ]
  },
  {
   "cell_type": "code",
   "execution_count": 10,
   "metadata": {
    "_kg_hide-input": true
   },
   "outputs": [
    {
     "name": "stdout",
     "output_type": "stream",
     "text": [
      "Training size: 10912 tweets\n",
      "Validation size: 2728 tweets\n",
      "Test size: 1000 tweets\n",
      "Amount of words (columns): 9672 words\n"
     ]
    }
   ],
   "source": [
    "# Print the size of our data\n",
    "print(f'Training size: {X_train.shape[0]} tweets\\n\\\n",
    "Validation size: {X_val.shape[0]} tweets\\n\\\n",
    "Test size: {X_test.shape[0]} tweets\\n\\\n",
    "Amount of words (columns): {X_train.shape[1]} words')"
   ]
  },
  {
   "cell_type": "markdown",
   "metadata": {},
   "source": [
    "## ML Models"
   ]
  },
  {
   "cell_type": "markdown",
   "metadata": {},
   "source": [
    "### Multinomial Naive Bayes"
   ]
  },
  {
   "cell_type": "markdown",
   "metadata": {},
   "source": [
    "Multinomial Naive Bayes is the go-to method for text mining and is great to set a benchmark for sentiment analysis. It is easy to implement with [sklearn's \"MultinomialNB\" class](https://scikit-learn.org/stable/modules/generated/sklearn.naive_bayes.MultinomialNB.html)."
   ]
  },
  {
   "cell_type": "code",
   "execution_count": 11,
   "metadata": {
    "_kg_hide-input": true,
    "_kg_hide-output": true
   },
   "outputs": [
    {
     "data": {
      "text/plain": [
       "MultinomialNB(alpha=1.0, class_prior=None, fit_prior=True)"
      ]
     },
     "execution_count": 11,
     "metadata": {},
     "output_type": "execute_result"
    }
   ],
   "source": [
    "# Multinomial Naive Bayes\n",
    "multi_nb = MultinomialNB()\n",
    "multi_nb.fit(X_train, y_train)"
   ]
  },
  {
   "cell_type": "code",
   "execution_count": 12,
   "metadata": {
    "_kg_hide-input": true
   },
   "outputs": [
    {
     "name": "stdout",
     "output_type": "stream",
     "text": [
      "Accuracy on training set (MultinomialNB): 72.6998%\n",
      "Accuracy on validation set (MultinomialNB): 69.1349%\n"
     ]
    }
   ],
   "source": [
    "# Check results\n",
    "train_pred = multi_nb.predict(X_train)\n",
    "val_pred = multi_nb.predict(X_val)\n",
    "print(f'Accuracy on training set (MultinomialNB): {round(accuracy_score(y_train, train_pred)*100, 4)}%')\n",
    "print(f'Accuracy on validation set (MultinomialNB): {round(accuracy_score(y_val,val_pred)*100, 4)}%')"
   ]
  },
  {
   "cell_type": "markdown",
   "metadata": {},
   "source": [
    "### Sklearn's Gradient Boosting Machine (GBM)"
   ]
  },
  {
   "cell_type": "markdown",
   "metadata": {},
   "source": [
    "The [Gradient Boosting Machine (GBM)](https://scikit-learn.org/stable/modules/generated/sklearn.ensemble.GradientBoostingClassifier.html) is a powerful machine learning technique. The model basically trains decision trees models. It keeps training additive models on the residuals of the previous model. In this way we can get much better results than with a single decision tree. A GBM is however the most powerful if there is also plenty of labeled data. "
   ]
  },
  {
   "cell_type": "code",
   "execution_count": 13,
   "metadata": {
    "_kg_hide-input": true,
    "_kg_hide-output": true,
    "collapsed": true
   },
   "outputs": [
    {
     "data": {
      "text/plain": [
       "GradientBoostingClassifier(criterion='friedman_mse', init=None,\n",
       "              learning_rate=0.1, loss='deviance', max_depth=6,\n",
       "              max_features=None, max_leaf_nodes=None,\n",
       "              min_impurity_decrease=0.0, min_impurity_split=None,\n",
       "              min_samples_leaf=1, min_samples_split=2,\n",
       "              min_weight_fraction_leaf=0.0, n_estimators=200,\n",
       "              n_iter_no_change=None, presort='auto', random_state=1234,\n",
       "              subsample=1.0, tol=0.0001, validation_fraction=0.1,\n",
       "              verbose=0, warm_start=False)"
      ]
     },
     "execution_count": 13,
     "metadata": {},
     "output_type": "execute_result"
    }
   ],
   "source": [
    "# sklearn's Gradient Boosting Classifier (GBM)\n",
    "gbm = GradientBoostingClassifier(n_estimators=200, \n",
    "                                 max_depth=6, \n",
    "                                 random_state=seed)\n",
    "gbm.fit(X_train, y_train)"
   ]
  },
  {
   "cell_type": "code",
   "execution_count": 14,
   "metadata": {
    "_kg_hide-input": true
   },
   "outputs": [
    {
     "name": "stdout",
     "output_type": "stream",
     "text": [
      "Accuracy on training set (GBM): 87.5367%\n",
      "Accuracy on validation set (GBM): 76.4296%\n"
     ]
    }
   ],
   "source": [
    "# Check results\n",
    "train_pred = gbm.predict(X_train)\n",
    "val_pred = gbm.predict(X_val)\n",
    "print(f'Accuracy on training set (GBM): {round(accuracy_score(y_train, train_pred)*100, 4)}%')\n",
    "print(f'Accuracy on validation set (GBM): {round(accuracy_score(y_val,val_pred)*100, 4)}%')"
   ]
  },
  {
   "cell_type": "markdown",
   "metadata": {},
   "source": [
    "### XGBoost (GBM)"
   ]
  },
  {
   "cell_type": "markdown",
   "metadata": {},
   "source": [
    "[XGBoost](https://xgboost.readthedocs.io) is a Python package which provides an efficient implementation of a GBM. It often allows for more elaborate optimization than sklearn's GBM. In my experience, XGBoost often performs slightly better than sklearn's GBM."
   ]
  },
  {
   "cell_type": "code",
   "execution_count": 15,
   "metadata": {
    "_kg_hide-input": true,
    "_kg_hide-output": true,
    "collapsed": true
   },
   "outputs": [
    {
     "name": "stderr",
     "output_type": "stream",
     "text": [
      "/opt/conda/lib/python3.6/site-packages/xgboost/core.py:587: FutureWarning: Series.base is deprecated and will be removed in a future version\n",
      "  if getattr(data, 'base', None) is not None and \\\n",
      "/opt/conda/lib/python3.6/site-packages/xgboost/core.py:588: FutureWarning: Series.base is deprecated and will be removed in a future version\n",
      "  data.base is not None and isinstance(data, np.ndarray) \\\n"
     ]
    }
   ],
   "source": [
    "# Hyperparameters that you can tweak\n",
    "# There are a lot more tweakable hyperparameters that you can find at \n",
    "# https://xgboost.readthedocs.io/en/latest/parameter.html\n",
    "xgb_params = {'objective' : 'multi:softmax',\n",
    "              'eval_metric' : 'mlogloss',\n",
    "              'eta' : 0.1,\n",
    "              'max_depth' : 6,\n",
    "              'num_class' : 3,\n",
    "              'lambda' : 0.8,\n",
    "              'estimators' : 200,\n",
    "              'seed' : seed\n",
    "              \n",
    "}\n",
    "\n",
    "# Transform categories into numbers\n",
    "# negative = 0, neutral = 1 and positive = 2\n",
    "target_train = y_train.astype('category').cat.codes\n",
    "target_val = y_val.astype('category').cat.codes\n",
    "\n",
    "# Transform data into a matrix so that we can use XGBoost\n",
    "d_train = xgb.DMatrix(X_train, label = target_train)\n",
    "d_val = xgb.DMatrix(X_val, label = target_val)\n",
    "\n",
    "# Fit XGBoost\n",
    "watchlist = [(d_train, 'train'), (d_val, 'validation')]\n",
    "bst = xgb.train(xgb_params, \n",
    "                d_train, \n",
    "                400,  \n",
    "                watchlist,\n",
    "                early_stopping_rounds = 50, \n",
    "                verbose_eval = 0)"
   ]
  },
  {
   "cell_type": "code",
   "execution_count": 16,
   "metadata": {
    "_kg_hide-input": true
   },
   "outputs": [
    {
     "name": "stdout",
     "output_type": "stream",
     "text": [
      "Accuracy on training set (XGBoost): 89.5803%\n",
      "Accuracy on validation set (XGBoost): 77.3827%\n"
     ]
    }
   ],
   "source": [
    "# Check results for XGBoost\n",
    "train_pred = bst.predict(d_train)\n",
    "val_pred = bst.predict(d_val)\n",
    "print(f'Accuracy on training set (XGBoost): {round(accuracy_score(target_train, train_pred)*100, 4)}%')\n",
    "print(f'Accuracy on validation set (XGBoost): {round(accuracy_score(target_val, val_pred)*100, 4)}%')"
   ]
  },
  {
   "cell_type": "markdown",
   "metadata": {},
   "source": [
    "## Simple neural network"
   ]
  },
  {
   "cell_type": "markdown",
   "metadata": {},
   "source": [
    "Over the past years neural networks have given us extraordinary results on natural language processing (NLP) tasks with complex implementations. In this implementation however we will go back to basics and created a simple fully-connected neural networks with 20 neurons. The reason for this is that we have limited data and a small neural network model is already very prone to overfitting."
   ]
  },
  {
   "cell_type": "code",
   "execution_count": 17,
   "metadata": {},
   "outputs": [],
   "source": [
    "# Generator so we can easily feed batches of data to the neural network\n",
    "def batch_generator(X, y, batch_size, shuffle):\n",
    "    number_of_batches = X.shape[0]/batch_size\n",
    "    counter = 0\n",
    "    sample_index = np.arange(X.shape[0])\n",
    "    if shuffle:\n",
    "        np.random.shuffle(sample_index)\n",
    "    while True:\n",
    "        batch_index = sample_index[batch_size*counter:batch_size*(counter+1)]\n",
    "        X_batch = X[batch_index,:].toarray()\n",
    "        y_batch = y[batch_index]\n",
    "        counter += 1\n",
    "        yield X_batch, y_batch\n",
    "        if (counter == number_of_batches):\n",
    "            if shuffle:\n",
    "                np.random.shuffle(sample_index)\n",
    "            counter = 0"
   ]
  },
  {
   "cell_type": "markdown",
   "metadata": {},
   "source": [
    "The neural network requires us to create a [one-hot encoding](https://machinelearningmastery.com/why-one-hot-encode-data-in-machine-learning/) of our target variable (airline_sentiment). This means that we encode our classes in the following way:\n",
    "* negative = [1,0,0]\n",
    "* neutral = [0,1,0]\n",
    "* positive = [0,0,1]"
   ]
  },
  {
   "cell_type": "code",
   "execution_count": 18,
   "metadata": {},
   "outputs": [],
   "source": [
    "# Onehot encoding of target variable\n",
    "# Negative = [1,0,0], Neutral = [0,1,0], Positive = [0,0,1]\n",
    "\n",
    "# Initialize sklearn's one-hot encoder class\n",
    "onehot_encoder = OneHotEncoder(sparse=False)\n",
    "\n",
    "# One hot encoding for training set\n",
    "integer_encoded_train = np.array(y_train).reshape(len(y_train), 1)\n",
    "onehot_encoded_train = onehot_encoder.fit_transform(integer_encoded_train)\n",
    "\n",
    "# One hot encoding for validation set\n",
    "integer_encoded_val = np.array(y_val).reshape(len(y_val), 1)\n",
    "onehot_encoded_val = onehot_encoder.fit_transform(integer_encoded_val)"
   ]
  },
  {
   "cell_type": "markdown",
   "metadata": {},
   "source": [
    "Some interesting things to note about this network is the initializer and the activation functions.\n",
    "We use [He Initialization](https://papers.nips.cc/paper/7338-how-to-start-training-the-effect-of-initialization-and-architecture.pdf) both to stabilize and to speed up training. He Initialization is designed so that it is more efficient than random initialization or worse, initializing to zeros. \n",
    "\n",
    "The [ELU activation function](https://arxiv.org/pdf/1511.07289.pdf) is in most cases more efficient and increases performance relative to other activation like LeakyReLU and ReLU ([Source](https://arxiv.org/pdf/1511.07289.pdf)). It is currently a mystery to me why people still use regular ReLU activations in their neural network models. If you know, please let me know in the comments!"
   ]
  },
  {
   "cell_type": "code",
   "execution_count": 19,
   "metadata": {
    "_kg_hide-output": true,
    "collapsed": true
   },
   "outputs": [
    {
     "name": "stdout",
     "output_type": "stream",
     "text": [
      "WARNING:tensorflow:From /opt/conda/lib/python3.6/site-packages/tensorflow/python/framework/op_def_library.py:263: colocate_with (from tensorflow.python.framework.ops) is deprecated and will be removed in a future version.\n",
      "Instructions for updating:\n",
      "Colocations handled automatically by placer.\n",
      "WARNING:tensorflow:From /opt/conda/lib/python3.6/site-packages/keras/backend/tensorflow_backend.py:3445: calling dropout (from tensorflow.python.ops.nn_ops) with keep_prob is deprecated and will be removed in a future version.\n",
      "Instructions for updating:\n",
      "Please use `rate` instead of `keep_prob`. Rate should be set to `rate = 1 - keep_prob`.\n",
      "WARNING:tensorflow:From /opt/conda/lib/python3.6/site-packages/tensorflow/python/ops/math_ops.py:3066: to_int32 (from tensorflow.python.ops.math_ops) is deprecated and will be removed in a future version.\n",
      "Instructions for updating:\n",
      "Use tf.cast instead.\n",
      "Epoch 1/50\n",
      "341/341 [==============================] - 2s 7ms/step - loss: 0.5784 - acc: 0.6979 - val_loss: 0.5197 - val_acc: 0.8071\n",
      "Epoch 2/50\n",
      "341/341 [==============================] - 2s 6ms/step - loss: 0.5007 - acc: 0.7785 - val_loss: 0.4724 - val_acc: 0.7826\n",
      "Epoch 3/50\n",
      "341/341 [==============================] - 2s 6ms/step - loss: 0.4637 - acc: 0.7897 - val_loss: 0.4431 - val_acc: 0.7996\n",
      "Epoch 4/50\n",
      "341/341 [==============================] - 2s 6ms/step - loss: 0.4307 - acc: 0.8089 - val_loss: 0.4175 - val_acc: 0.8115\n",
      "Epoch 5/50\n",
      "341/341 [==============================] - 2s 6ms/step - loss: 0.4003 - acc: 0.8229 - val_loss: 0.3962 - val_acc: 0.8239\n",
      "Epoch 6/50\n",
      "341/341 [==============================] - 2s 6ms/step - loss: 0.3748 - acc: 0.8346 - val_loss: 0.3787 - val_acc: 0.8319\n",
      "Epoch 7/50\n",
      "341/341 [==============================] - 2s 6ms/step - loss: 0.3528 - acc: 0.8475 - val_loss: 0.3647 - val_acc: 0.8383\n",
      "Epoch 8/50\n",
      "341/341 [==============================] - 2s 6ms/step - loss: 0.3335 - acc: 0.8583 - val_loss: 0.3533 - val_acc: 0.8453\n",
      "Epoch 9/50\n",
      "341/341 [==============================] - 2s 6ms/step - loss: 0.3158 - acc: 0.8689 - val_loss: 0.3441 - val_acc: 0.8504\n",
      "Epoch 10/50\n",
      "341/341 [==============================] - 2s 7ms/step - loss: 0.2989 - acc: 0.8796 - val_loss: 0.3368 - val_acc: 0.8543\n",
      "Epoch 11/50\n",
      "341/341 [==============================] - 2s 7ms/step - loss: 0.2873 - acc: 0.8863 - val_loss: 0.3307 - val_acc: 0.8579\n",
      "Epoch 12/50\n",
      "341/341 [==============================] - 3s 7ms/step - loss: 0.2733 - acc: 0.8960 - val_loss: 0.3260 - val_acc: 0.8581\n",
      "Epoch 13/50\n",
      "341/341 [==============================] - 2s 7ms/step - loss: 0.2643 - acc: 0.9012 - val_loss: 0.3222 - val_acc: 0.8618\n",
      "Epoch 14/50\n",
      "341/341 [==============================] - 2s 7ms/step - loss: 0.2519 - acc: 0.9075 - val_loss: 0.3196 - val_acc: 0.8624\n",
      "Epoch 15/50\n",
      "341/341 [==============================] - 2s 6ms/step - loss: 0.2442 - acc: 0.9106 - val_loss: 0.3173 - val_acc: 0.8639\n",
      "Epoch 16/50\n",
      "341/341 [==============================] - 2s 6ms/step - loss: 0.2345 - acc: 0.9165 - val_loss: 0.3165 - val_acc: 0.8633\n",
      "Epoch 17/50\n",
      "341/341 [==============================] - 2s 6ms/step - loss: 0.2249 - acc: 0.9216 - val_loss: 0.3153 - val_acc: 0.8628\n",
      "Epoch 18/50\n",
      "341/341 [==============================] - 2s 6ms/step - loss: 0.2197 - acc: 0.9229 - val_loss: 0.3154 - val_acc: 0.8634\n",
      "Epoch 19/50\n",
      "341/341 [==============================] - 2s 6ms/step - loss: 0.2108 - acc: 0.9274 - val_loss: 0.3154 - val_acc: 0.8650\n",
      "Epoch 20/50\n",
      "341/341 [==============================] - 2s 6ms/step - loss: 0.2071 - acc: 0.9282 - val_loss: 0.3169 - val_acc: 0.8646\n",
      "Epoch 21/50\n",
      "341/341 [==============================] - 2s 6ms/step - loss: 0.1995 - acc: 0.9320 - val_loss: 0.3175 - val_acc: 0.8635\n",
      "Epoch 22/50\n",
      "341/341 [==============================] - 2s 6ms/step - loss: 0.1937 - acc: 0.9345 - val_loss: 0.3185 - val_acc: 0.8639\n",
      "Epoch 23/50\n",
      "341/341 [==============================] - 2s 6ms/step - loss: 0.1872 - acc: 0.9377 - val_loss: 0.3205 - val_acc: 0.8625\n",
      "Epoch 00023: early stopping\n"
     ]
    }
   ],
   "source": [
    "# Neural network architecture\n",
    "initializer = keras.initializers.he_normal(seed=seed)\n",
    "activation = keras.activations.elu\n",
    "optimizer = keras.optimizers.Adam(lr=0.0002, beta_1=0.9, beta_2=0.999, epsilon=1e-8)\n",
    "es = EarlyStopping(monitor='val_acc', mode='max', verbose=1, patience=4)\n",
    "\n",
    "# Build model architecture\n",
    "model = Sequential()\n",
    "model.add(Dense(20, activation=activation, kernel_initializer=initializer, input_dim=X_train.shape[1]))\n",
    "model.add(Dropout(0.5))\n",
    "model.add(Dense(3, activation='softmax', kernel_initializer=initializer))\n",
    "model.compile(optimizer=optimizer,\n",
    "              loss='binary_crossentropy',\n",
    "              metrics=['accuracy'])\n",
    "\n",
    "# Hyperparameters\n",
    "epochs = 50\n",
    "batch_size = 32\n",
    "\n",
    "# Fit the model using the batch_generator\n",
    "hist = model.fit_generator(generator=batch_generator(X_train, onehot_encoded_train, batch_size=batch_size, shuffle=True),\n",
    "                           epochs=epochs, validation_data=(X_val, onehot_encoded_val),\n",
    "                           steps_per_epoch=X_train.shape[0]/batch_size, callbacks=[es])"
   ]
  },
  {
   "cell_type": "code",
   "execution_count": 20,
   "metadata": {
    "_kg_hide-input": true
   },
   "outputs": [
    {
     "data": {
      "image/png": "[encoded data removed]",
      "text/plain": [
       "<Figure size 1080x360 with 1 Axes>"
      ]
     },
     "metadata": {},
     "output_type": "display_data"
    }
   ],
   "source": [
    "# Visualize Accuracy\n",
    "acc = hist.history['acc']\n",
    "val_acc = hist.history['val_acc']\n",
    "\n",
    "# Get the amount of epochs for visualization\n",
    "stopped_epoch = es.stopped_epoch\n",
    "n_epochs = range(stopped_epoch+1)\n",
    "\n",
    "# Plot training and validation accuracy\n",
    "plt.figure(figsize=(15,5))\n",
    "plt.plot(n_epochs, acc)\n",
    "plt.plot(n_epochs, val_acc)\n",
    "plt.title('Accuracy over epochs', weight='bold', fontsize=22)\n",
    "plt.xlabel('Epochs', fontsize=16)\n",
    "plt.ylabel('Accuracy', fontsize=16)\n",
    "plt.legend(['Training accuracy', 'Validation accuracy'], fontsize=16)\n",
    "plt.show()"
   ]
  },
  {
   "cell_type": "code",
   "execution_count": 21,
   "metadata": {
    "_kg_hide-input": true
   },
   "outputs": [
    {
     "name": "stdout",
     "output_type": "stream",
     "text": [
      "Accuracy on training set (Small NN): 91.8897%\n",
      "Accuracy on validation set (Small NN): 78.7757%\n"
     ]
    }
   ],
   "source": [
    "# Check results of neural network model\n",
    "train_pred = [np.argmax(pred) for pred in model.predict(X_train)]\n",
    "val_pred = [np.argmax(pred) for pred in model.predict(X_val)]\n",
    "print(f'Accuracy on training set (Small NN): {round(accuracy_score(target_train, train_pred)*100, 4)}%')\n",
    "print(f'Accuracy on validation set (Small NN): {round(accuracy_score(target_val, val_pred)*100, 4)}%')"
   ]
  },
  {
   "cell_type": "markdown",
   "metadata": {},
   "source": [
    "## Rule based models"
   ]
  },
  {
   "cell_type": "markdown",
   "metadata": {},
   "source": [
    "Rule-based models can be very powerful for sentiment analysis tasks. Since this is a notebook about machine learning models I will not go deeply into rule-based models. It is however interesting to set a benchmark using a simple rule. Since our data is biased toward negative tweets, what is the accuracy if we always predict negative sentiment? "
   ]
  },
  {
   "cell_type": "markdown",
   "metadata": {},
   "source": [
    "### Always predict negative"
   ]
  },
  {
   "cell_type": "code",
   "execution_count": 22,
   "metadata": {
    "_kg_hide-input": true
   },
   "outputs": [
    {
     "name": "stdout",
     "output_type": "stream",
     "text": [
      "Accuracy on training set (Always Predict Negative): 62.445%\n",
      "Accuracy on validation set (Always Predict Negative): 63.5264%\n"
     ]
    }
   ],
   "source": [
    "# Predict negative for the whole dataset\n",
    "negative_pred_train = ['negative' for _ in range(len(y_train))]\n",
    "negative_pred_val = ['negative' for _ in range(len(y_val))]\n",
    "\n",
    "print(f'Accuracy on training set (Always Predict Negative): {round(accuracy_score(y_train, negative_pred_train)*100, 4)}%')\n",
    "print(f'Accuracy on validation set (Always Predict Negative): {round(accuracy_score(y_val, negative_pred_val)*100, 4)}%')"
   ]
  },
  {
   "cell_type": "markdown",
   "metadata": {},
   "source": [
    "## Model comparison with test set"
   ]
  },
  {
   "cell_type": "markdown",
   "metadata": {},
   "source": [
    "After tweaking the models for a high validation accuracy here we can see how the models actually perform on new data."
   ]
  },
  {
   "cell_type": "code",
   "execution_count": 23,
   "metadata": {
    "_kg_hide-input": true,
    "_kg_hide-output": true
   },
   "outputs": [
    {
     "name": "stderr",
     "output_type": "stream",
     "text": [
      "/opt/conda/lib/python3.6/site-packages/xgboost/core.py:587: FutureWarning: Series.base is deprecated and will be removed in a future version\n",
      "  if getattr(data, 'base', None) is not None and \\\n",
      "/opt/conda/lib/python3.6/site-packages/xgboost/core.py:588: FutureWarning: Series.base is deprecated and will be removed in a future version\n",
      "  data.base is not None and isinstance(data, np.ndarray) \\\n"
     ]
    }
   ],
   "source": [
    "# Predict Always Negative\n",
    "negative_test_pred = ['negative' for _ in range(len(y_test))]\n",
    "\n",
    "# Multinomial Naive Bayes\n",
    "multinb_test_pred = multi_nb.predict(X_test)\n",
    "\n",
    "# Gradient Boosting Classifier\n",
    "gbm_test_pred = gbm.predict(X_test)\n",
    "\n",
    "# XGBoost\n",
    "# Transform test data for XGBoost\n",
    "target_test = y_test.astype('category').cat.codes\n",
    "d_test = xgb.DMatrix(X_test, label = target_test)\n",
    "xgboost_test_pred = bst.predict(d_test)\n",
    "\n",
    "# Neural Network predictions\n",
    "nn_test_pred = [np.argmax(pred) for pred in model.predict(X_test)]"
   ]
  },
  {
   "cell_type": "code",
   "execution_count": 24,
   "metadata": {
    "_kg_hide-input": true
   },
   "outputs": [
    {
     "name": "stdout",
     "output_type": "stream",
     "text": [
      "Accuracy for Always Predict Negative: 63.1%\n",
      "Accuracy for Multinomial Naive Bayes: 67.8%\n",
      "Accuracy for Gradient Boosting Classifier: 78.0%\n",
      "Accuracy for XGBoost: 78.2%\n",
      "Accuracy for Neural Network: 79.7%\n"
     ]
    }
   ],
   "source": [
    "# Get accuracies\n",
    "print(f'Accuracy for Always Predict Negative: {round(accuracy_score(y_test, negative_test_pred)*100, 4)}%')\n",
    "print(f'Accuracy for Multinomial Naive Bayes: {round(accuracy_score(y_test, multinb_test_pred)*100, 4)}%')\n",
    "print(f'Accuracy for Gradient Boosting Classifier: {round(accuracy_score(y_test, gbm_test_pred)*100, 4)}%')\n",
    "print(f'Accuracy for XGBoost: {round(accuracy_score(target_test, xgboost_test_pred)*100, 4)}%')\n",
    "print(f'Accuracy for Neural Network: {round(accuracy_score(target_test, nn_test_pred)*100, 4)}%')"
   ]
  },
  {
   "cell_type": "markdown",
   "metadata": {},
   "source": [
    "## Save models"
   ]
  },
  {
   "cell_type": "markdown",
   "metadata": {},
   "source": [
    "It seems like both the XGBoost and Neural Network models are the best to keep around. We therefore save the XGBoost model as a '.dat' file and the neural network weights in the '.h5' format."
   ]
  },
  {
   "cell_type": "code",
   "execution_count": 25,
   "metadata": {},
   "outputs": [],
   "source": [
    "# Save XGBoost model\n",
    "pickle.dump(bst, open('xgboost_sentiment_model.dat', 'wb'))\n",
    "\n",
    "# Save Neural Network model\n",
    "model.save('nn_sentiment_model.h5')"
   ]
  },
  {
   "cell_type": "markdown",
   "metadata": {},
   "source": [
    "## Make predictions"
   ]
  },
  {
   "cell_type": "markdown",
   "metadata": {},
   "source": [
    "We will put our predictions from the XGBoost and Neural Network models in a DataFrame and make a quick comparison between them. This allows us to analyze tweets where the models do not agree on the prediction. For example, one model can predict negative sentiment while the other model predicts positive sentiment. If this occurs than a human can step in and check what is going wrong."
   ]
  },
  {
   "cell_type": "code",
   "execution_count": 26,
   "metadata": {},
   "outputs": [],
   "source": [
    "# Create dataframe with predictions for XGBoost and Neural Network\n",
    "pred_df = pd.DataFrame({'tweet_id': test_set['tweet_id'],\n",
    "                        'text' : test_set['text'],\n",
    "                       'xgboost_pred' : xgboost_test_pred.astype(int),\n",
    "                       'nn_pred' : nn_test_pred,})\n",
    "\n",
    "# Change predictions back to string values\n",
    "pred_df['xgboost_pred'] = pred_df['xgboost_pred'].map({0: 'Negative', 1: 'Neutral', 2 : 'Positive'})\n",
    "pred_df['nn_pred'] = pred_df['nn_pred'].map({0: 'Negative', 1: 'Neutral', 2 : 'Positive'})"
   ]
  },
  {
   "cell_type": "code",
   "execution_count": 27,
   "metadata": {
    "_kg_hide-input": true
   },
   "outputs": [
    {
     "name": "stdout",
     "output_type": "stream",
     "text": [
      "The models agree with each other 85.7% of the time.\n"
     ]
    }
   ],
   "source": [
    "# Check if two models are in agreement\n",
    "pred_df['pred_agreement'] = (pred_df['xgboost_pred'] == pred_df['nn_pred'])\n",
    "print(f\"The models agree with each other {round(pred_df['pred_agreement'].value_counts()[1]/len(pred_df)*100, 4)}% of the time.\")"
   ]
  },
  {
   "cell_type": "markdown",
   "metadata": {},
   "source": [
    "## Save predictions to csv"
   ]
  },
  {
   "cell_type": "markdown",
   "metadata": {},
   "source": [
    "We save the predictions on our test set for further analysis and reporting."
   ]
  },
  {
   "cell_type": "code",
   "execution_count": 28,
   "metadata": {},
   "outputs": [],
   "source": [
    "# Save to csv\n",
    "pred_df.to_csv('sentiments.csv', index=False)"
   ]
  },
  {
   "cell_type": "code",
   "execution_count": 29,
   "metadata": {
    "_kg_hide-input": true
   },
   "outputs": [
    {
     "data": {
      "text/html": [
       "<div>\n",
       "<style scoped>\n",
       "    .dataframe tbody tr th:only-of-type {\n",
       "        vertical-align: middle;\n",
       "    }\n",
       "\n",
       "    .dataframe tbody tr th {\n",
       "        vertical-align: top;\n",
       "    }\n",
       "\n",
       "    .dataframe thead th {\n",
       "        text-align: right;\n",
       "    }\n",
       "</style>\n",
       "<table border=\"1\" class=\"dataframe\">\n",
       "  <thead>\n",
       "    <tr style=\"text-align: right;\">\n",
       "      <th></th>\n",
       "      <th>tweet_id</th>\n",
       "      <th>text</th>\n",
       "      <th>xgboost_pred</th>\n",
       "      <th>nn_pred</th>\n",
       "      <th>pred_agreement</th>\n",
       "    </tr>\n",
       "  </thead>\n",
       "  <tbody>\n",
       "    <tr>\n",
       "      <th>0</th>\n",
       "      <td>568486436355346432</td>\n",
       "      <td>@USAirways we bought our tickets months ago. H...</td>\n",
       "      <td>Negative</td>\n",
       "      <td>Negative</td>\n",
       "      <td>True</td>\n",
       "    </tr>\n",
       "    <tr>\n",
       "      <th>1</th>\n",
       "      <td>568129652625158147</td>\n",
       "      <td>@united why is my flight from mke to ord getti...</td>\n",
       "      <td>Negative</td>\n",
       "      <td>Negative</td>\n",
       "      <td>True</td>\n",
       "    </tr>\n",
       "  </tbody>\n",
       "</table>\n",
       "</div>"
      ],
      "text/plain": [
       "             tweet_id      ...       pred_agreement\n",
       "0  568486436355346432      ...                 True\n",
       "1  568129652625158147      ...                 True\n",
       "\n",
       "[2 rows x 5 columns]"
      ]
     },
     "execution_count": 29,
     "metadata": {},
     "output_type": "execute_result"
    }
   ],
   "source": [
    "# Final test\n",
    "df_test = pd.read_csv('sentiments.csv'); df_test.head(2)"
   ]
  },
  {
   "cell_type": "markdown",
   "metadata": {},
   "source": [
    "**That's all! If you like this Kaggle kernel, feel free to give an upvote and leave a comment!**"
   ]
  }
 ],
 "metadata": {
  "kernelspec": {
   "display_name": "Python 3",
   "language": "python",
   "name": "python3"
  },
  "language_info": {
   "codemirror_mode": {
    "name": "ipython",
    "version": 3
   },
   "file_extension": ".py",
   "mimetype": "text/x-python",
   "name": "python",
   "nbconvert_exporter": "python",
   "pygments_lexer": "ipython3",
   "version": "3.6.4"
  }
 },
 "nbformat": 4,
 "nbformat_minor": 1
}
